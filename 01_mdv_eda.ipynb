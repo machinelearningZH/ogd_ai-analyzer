{
 "cells": [
  {
   "cell_type": "raw",
   "metadata": {
    "vscode": {
     "languageId": "raw"
    }
   },
   "source": [
    "---\n",
    "title: \"Analyze the metadata catalog of the Canton of Zurich\"\n",
    "format:\n",
    "  html:\n",
    "    toc: true\n",
    "    echo: false\n",
    "    code-overflow: wrap\n",
    "    embed-resources: true\n",
    "jupyter: python3\n",
    "include-in-header:\n",
    "  - text: |\n",
    "      <style>\n",
    "      .cell-output-stdout code {\n",
    "        word-break: break-wor !important;\n",
    "        white-space: pre-wrap !important;\n",
    "      }\n",
    "      </style>\n",
    "---"
   ]
  },
  {
   "cell_type": "code",
   "execution_count": 1,
   "metadata": {},
   "outputs": [],
   "source": [
    "# Auto reload modules.\n",
    "%load_ext autoreload\n",
    "%autoreload 2"
   ]
  },
  {
   "cell_type": "code",
   "execution_count": 2,
   "metadata": {},
   "outputs": [],
   "source": [
    "# Imports\n",
    "%matplotlib inline\n",
    "%config InlineBackend.figure_format = 'retina'\n",
    "import matplotlib.pyplot as plt\n",
    "\n",
    "plt.style.use(\"ggplot\")\n",
    "import seaborn as sns\n",
    "\n",
    "params = {\n",
    "    \"text.color\": (0.25, 0.25, 0.25),\n",
    "    \"figure.figsize\": [7, 5],\n",
    "    \"font.size\": 7,\n",
    "}\n",
    "\n",
    "plt.rcParams.update(params)\n",
    "\n",
    "import pandas as pd\n",
    "\n",
    "pd.options.mode.chained_assignment = None\n",
    "pd.options.display.max_rows = 500\n",
    "pd.options.display.max_seq_items = 500\n",
    "\n",
    "from datetime import datetime\n",
    "import re\n",
    "from tabulate import tabulate\n",
    "from collections import Counter\n",
    "import requests\n",
    "from tqdm.notebook import tqdm\n",
    "\n",
    "from utils import (\n",
    "    DCAT_CLASS_DATASET,\n",
    "    DCAT_CLASS_DISTRIBUTION,\n",
    "    VOCAB_EU_THEME,\n",
    "    VOCAB_EU_FREQUENCY,\n",
    "    HIDDEN_NULLS,\n",
    ")\n",
    "from utils import check_text_properties\n",
    "\n",
    "import warnings\n",
    "\n",
    "warnings.simplefilter(\"ignore\", category=(UserWarning, FutureWarning))"
   ]
  },
  {
   "cell_type": "code",
   "execution_count": 3,
   "metadata": {},
   "outputs": [],
   "source": [
    "# Constants\n",
    "# Dataset links are composed of this baselink and the identifier for each dataset.\n",
    "BASELINK_DATASHOP = (\n",
    "    \"https://www.zh.ch/de/politik-staat/statistik-daten/datenkatalog.html#/datasets/\"\n",
    ")\n",
    "\n",
    "MDV_DATA_PATH = \"_data/01_mdv_metadata.parq\"\n",
    "\n",
    "# Default figure size for Quarto HTML output.\n",
    "FIGSIZE = (7, 5)"
   ]
  },
  {
   "cell_type": "markdown",
   "metadata": {},
   "source": [
    "In this notebook we perform a thorough analysis and quality check of the [OGD metadata catalog of the Canton of Zurich](https://www.zh.ch/de/politik-staat/statistik-daten/datenkatalog.html#/).\n",
    "\n",
    "This check is based on two ideas:\n",
    "\n",
    "- We **treat the metadata catalog as a regular dataset and do a structured and detailed exploratory data analysis (EDA).** \n",
    "- We **use an LLM to analyze the content of titles and descriptions to discover semantic deficits and nonsensical entries that are hard to catch otherwise**.\n",
    "\n",
    "We set up the code to perform most of the checks automatically. It should be easy to adapt this notebook to other data catalogues that conform to the [DCAT-AP CH standard](https://www.dcat-ap.ch/).\n",
    "\n",
    "This notebooks produces two outputs:\n",
    "\n",
    "- a **HTML report** (most likely the document you are reading right now)\n",
    "- an **Excelfile with all major issues**"
   ]
  },
  {
   "cell_type": "markdown",
   "metadata": {},
   "source": [
    "# Load data"
   ]
  },
  {
   "attachments": {},
   "cell_type": "markdown",
   "metadata": {},
   "source": [
    "**Retrieve data from the metadata API.**"
   ]
  },
  {
   "cell_type": "code",
   "execution_count": 4,
   "metadata": {},
   "outputs": [],
   "source": [
    "# Retrieve metadata for all datasets from MDV API.\n",
    "raw = requests.get(\"https://www.web.statistik.zh.ch/ogd/daten/zhweb.json\").json()[\n",
    "    \"dataset\"\n",
    "]\n",
    "df = pd.DataFrame(pd.json_normalize(raw))\n",
    "df.to_parquet(MDV_DATA_PATH)"
   ]
  },
  {
   "cell_type": "code",
   "execution_count": 5,
   "metadata": {},
   "outputs": [
    {
     "name": "stdout",
     "output_type": "stream",
     "text": [
      "Retrieved 796 datasets.\n"
     ]
    }
   ],
   "source": [
    "df = pd.read_parquet(MDV_DATA_PATH)\n",
    "if len(df) == 0:\n",
    "    raise ValueError(\"No data retrieved.\")\n",
    "else:\n",
    "    print(f\"Retrieved {len(df)} datasets.\")"
   ]
  },
  {
   "cell_type": "markdown",
   "metadata": {},
   "source": [
    "**Load DCAT standard for datasets**. \n",
    "\n",
    "The data is derived from [here](https://www.dcat-ap.ch/releases/2.0/dcat-ap-ch.html#Class:Dataset).\n",
    "\n",
    "- `uri` should be identical to our variable names. \n",
    "- `range` specifies the range of values that is expected for the property.\n",
    "- `requirement_level` denotes whether the class / property is mandatory (M), recommended (R) or optional (O).\n",
    "- `cardinality` specifies the minimum number of values that MUST be provided for that property and the maximum number of values that MAY be provided. "
   ]
  },
  {
   "cell_type": "code",
   "execution_count": 6,
   "metadata": {},
   "outputs": [
    {
     "data": {
      "text/html": [
       "<div>\n",
       "<style scoped>\n",
       "    .dataframe tbody tr th:only-of-type {\n",
       "        vertical-align: middle;\n",
       "    }\n",
       "\n",
       "    .dataframe tbody tr th {\n",
       "        vertical-align: top;\n",
       "    }\n",
       "\n",
       "    .dataframe thead th {\n",
       "        text-align: right;\n",
       "    }\n",
       "</style>\n",
       "<table border=\"1\" class=\"dataframe\">\n",
       "  <thead>\n",
       "    <tr style=\"text-align: right;\">\n",
       "      <th></th>\n",
       "      <th>uri</th>\n",
       "      <th>range</th>\n",
       "      <th>requirement</th>\n",
       "      <th>cardinality</th>\n",
       "    </tr>\n",
       "  </thead>\n",
       "  <tbody>\n",
       "    <tr>\n",
       "      <th>0</th>\n",
       "      <td>contactPoint</td>\n",
       "      <td>vcard:Kind</td>\n",
       "      <td>M</td>\n",
       "      <td>1..n</td>\n",
       "    </tr>\n",
       "    <tr>\n",
       "      <th>1</th>\n",
       "      <td>description</td>\n",
       "      <td>rdfs:Literal</td>\n",
       "      <td>M</td>\n",
       "      <td>1..n</td>\n",
       "    </tr>\n",
       "    <tr>\n",
       "      <th>2</th>\n",
       "      <td>identifier</td>\n",
       "      <td>rdfs:Literal</td>\n",
       "      <td>M</td>\n",
       "      <td>1..n</td>\n",
       "    </tr>\n",
       "    <tr>\n",
       "      <th>3</th>\n",
       "      <td>publisher</td>\n",
       "      <td>foaf:Agent</td>\n",
       "      <td>M</td>\n",
       "      <td>1..1</td>\n",
       "    </tr>\n",
       "    <tr>\n",
       "      <th>4</th>\n",
       "      <td>title</td>\n",
       "      <td>rdfs:Literal</td>\n",
       "      <td>M</td>\n",
       "      <td>1..n</td>\n",
       "    </tr>\n",
       "    <tr>\n",
       "      <th>5</th>\n",
       "      <td>distribution</td>\n",
       "      <td>dcat:Distribution</td>\n",
       "      <td>R</td>\n",
       "      <td>0..n</td>\n",
       "    </tr>\n",
       "    <tr>\n",
       "      <th>6</th>\n",
       "      <td>keyword</td>\n",
       "      <td>rdfs:Literal</td>\n",
       "      <td>R</td>\n",
       "      <td>0..n</td>\n",
       "    </tr>\n",
       "    <tr>\n",
       "      <th>7</th>\n",
       "      <td>landingPage</td>\n",
       "      <td>foaf:Document</td>\n",
       "      <td>R</td>\n",
       "      <td>0..n</td>\n",
       "    </tr>\n",
       "    <tr>\n",
       "      <th>8</th>\n",
       "      <td>issued</td>\n",
       "      <td>rdfs:Literal (typed as xsd:date, xsd:dateTime,...</td>\n",
       "      <td>R</td>\n",
       "      <td>0..1</td>\n",
       "    </tr>\n",
       "    <tr>\n",
       "      <th>9</th>\n",
       "      <td>spatial</td>\n",
       "      <td>dct:Location</td>\n",
       "      <td>R</td>\n",
       "      <td>0..n</td>\n",
       "    </tr>\n",
       "    <tr>\n",
       "      <th>10</th>\n",
       "      <td>temporal</td>\n",
       "      <td>dct:PeriodOfTime</td>\n",
       "      <td>R</td>\n",
       "      <td>0..n</td>\n",
       "    </tr>\n",
       "    <tr>\n",
       "      <th>11</th>\n",
       "      <td>theme</td>\n",
       "      <td>skos:Concept</td>\n",
       "      <td>R</td>\n",
       "      <td>0..n</td>\n",
       "    </tr>\n",
       "    <tr>\n",
       "      <th>12</th>\n",
       "      <td>modified</td>\n",
       "      <td>rdfs:Literal (typed as xsd:date, xsd:dateTime,...</td>\n",
       "      <td>R</td>\n",
       "      <td>0..1</td>\n",
       "    </tr>\n",
       "    <tr>\n",
       "      <th>13</th>\n",
       "      <td>accessRights</td>\n",
       "      <td>dct:RightsStatement</td>\n",
       "      <td>O</td>\n",
       "      <td>0..1</td>\n",
       "    </tr>\n",
       "    <tr>\n",
       "      <th>14</th>\n",
       "      <td>conformsTo</td>\n",
       "      <td>dct:Standard</td>\n",
       "      <td>O</td>\n",
       "      <td>0..n</td>\n",
       "    </tr>\n",
       "    <tr>\n",
       "      <th>15</th>\n",
       "      <td>page</td>\n",
       "      <td>foaf:Document</td>\n",
       "      <td>O</td>\n",
       "      <td>0..n</td>\n",
       "    </tr>\n",
       "    <tr>\n",
       "      <th>16</th>\n",
       "      <td>accrualPeriodicity</td>\n",
       "      <td>dct:Frequency</td>\n",
       "      <td>O</td>\n",
       "      <td>0..1</td>\n",
       "    </tr>\n",
       "    <tr>\n",
       "      <th>17</th>\n",
       "      <td>image</td>\n",
       "      <td>schema:url or schema:ImageObject</td>\n",
       "      <td>O</td>\n",
       "      <td>0..3</td>\n",
       "    </tr>\n",
       "    <tr>\n",
       "      <th>18</th>\n",
       "      <td>isReferencedBy</td>\n",
       "      <td>rdfs:Resource</td>\n",
       "      <td>O</td>\n",
       "      <td>0..n</td>\n",
       "    </tr>\n",
       "    <tr>\n",
       "      <th>19</th>\n",
       "      <td>language</td>\n",
       "      <td>dct:LinguisticSystem</td>\n",
       "      <td>O</td>\n",
       "      <td>0..n</td>\n",
       "    </tr>\n",
       "    <tr>\n",
       "      <th>20</th>\n",
       "      <td>qualifiedAttribution</td>\n",
       "      <td>prov:Attribution</td>\n",
       "      <td>O</td>\n",
       "      <td>0..n</td>\n",
       "    </tr>\n",
       "    <tr>\n",
       "      <th>21</th>\n",
       "      <td>qualifiedRelation</td>\n",
       "      <td>dcat:Relationship</td>\n",
       "      <td>O</td>\n",
       "      <td>0..n</td>\n",
       "    </tr>\n",
       "    <tr>\n",
       "      <th>22</th>\n",
       "      <td>relation</td>\n",
       "      <td>rdfs:Resource</td>\n",
       "      <td>O</td>\n",
       "      <td>0..n</td>\n",
       "    </tr>\n",
       "  </tbody>\n",
       "</table>\n",
       "</div>"
      ],
      "text/plain": [
       "                     uri                                              range  \\\n",
       "0           contactPoint                                         vcard:Kind   \n",
       "1            description                                       rdfs:Literal   \n",
       "2             identifier                                       rdfs:Literal   \n",
       "3              publisher                                         foaf:Agent   \n",
       "4                  title                                       rdfs:Literal   \n",
       "5           distribution                                  dcat:Distribution   \n",
       "6                keyword                                       rdfs:Literal   \n",
       "7            landingPage                                      foaf:Document   \n",
       "8                 issued  rdfs:Literal (typed as xsd:date, xsd:dateTime,...   \n",
       "9                spatial                                       dct:Location   \n",
       "10              temporal                                   dct:PeriodOfTime   \n",
       "11                 theme                                       skos:Concept   \n",
       "12              modified  rdfs:Literal (typed as xsd:date, xsd:dateTime,...   \n",
       "13          accessRights                                dct:RightsStatement   \n",
       "14            conformsTo                                       dct:Standard   \n",
       "15                  page                                      foaf:Document   \n",
       "16    accrualPeriodicity                                      dct:Frequency   \n",
       "17                 image                   schema:url or schema:ImageObject   \n",
       "18        isReferencedBy                                      rdfs:Resource   \n",
       "19              language                               dct:LinguisticSystem   \n",
       "20  qualifiedAttribution                                   prov:Attribution   \n",
       "21     qualifiedRelation                                  dcat:Relationship   \n",
       "22              relation                                      rdfs:Resource   \n",
       "\n",
       "   requirement cardinality  \n",
       "0            M        1..n  \n",
       "1            M        1..n  \n",
       "2            M        1..n  \n",
       "3            M        1..1  \n",
       "4            M        1..n  \n",
       "5            R        0..n  \n",
       "6            R        0..n  \n",
       "7            R        0..n  \n",
       "8            R        0..1  \n",
       "9            R        0..n  \n",
       "10           R        0..n  \n",
       "11           R        0..n  \n",
       "12           R        0..1  \n",
       "13           O        0..1  \n",
       "14           O        0..n  \n",
       "15           O        0..n  \n",
       "16           O        0..1  \n",
       "17           O        0..3  \n",
       "18           O        0..n  \n",
       "19           O        0..n  \n",
       "20           O        0..n  \n",
       "21           O        0..n  \n",
       "22           O        0..n  "
      ]
     },
     "metadata": {},
     "output_type": "display_data"
    },
    {
     "name": "stdout",
     "output_type": "stream",
     "text": [
      "\n"
     ]
    }
   ],
   "source": [
    "dcat_ds = pd.DataFrame(\n",
    "    DCAT_CLASS_DATASET,\n",
    "    columns=[\"property\", \"uri\", \"range\", \"requirement\", \"cardinality\"],\n",
    ")\n",
    "\n",
    "dcat_ds.drop(\"property\", axis=1, inplace=True)\n",
    "\n",
    "dcat_ds.uri = dcat_ds.uri.apply(\n",
    "    lambda x: x.replace(\"dcat:\", \"\")\n",
    "    .replace(\"dct:\", \"\")\n",
    "    .replace(\"prov:\", \"\")\n",
    "    .replace(\"schema:\", \"\")\n",
    "    .replace(\"foaf:\", \"\")\n",
    ")\n",
    "\n",
    "display(dcat_ds)\n",
    "print()"
   ]
  },
  {
   "cell_type": "markdown",
   "metadata": {},
   "source": [
    "**Load DCAT standard for distributions**. \n",
    "\n",
    "The data is derived from [here](https://www.dcat-ap.ch/releases/2.0/dcat-ap-ch.html#Class:Distribution)."
   ]
  },
  {
   "cell_type": "code",
   "execution_count": 7,
   "metadata": {},
   "outputs": [
    {
     "data": {
      "text/html": [
       "<div>\n",
       "<style scoped>\n",
       "    .dataframe tbody tr th:only-of-type {\n",
       "        vertical-align: middle;\n",
       "    }\n",
       "\n",
       "    .dataframe tbody tr th {\n",
       "        vertical-align: top;\n",
       "    }\n",
       "\n",
       "    .dataframe thead th {\n",
       "        text-align: right;\n",
       "    }\n",
       "</style>\n",
       "<table border=\"1\" class=\"dataframe\">\n",
       "  <thead>\n",
       "    <tr style=\"text-align: right;\">\n",
       "      <th></th>\n",
       "      <th>uri</th>\n",
       "      <th>range</th>\n",
       "      <th>requirement</th>\n",
       "      <th>cardinality</th>\n",
       "    </tr>\n",
       "  </thead>\n",
       "  <tbody>\n",
       "    <tr>\n",
       "      <th>0</th>\n",
       "      <td>accessURL</td>\n",
       "      <td>rdfs:Resource</td>\n",
       "      <td>M</td>\n",
       "      <td>1..n</td>\n",
       "    </tr>\n",
       "    <tr>\n",
       "      <th>1</th>\n",
       "      <td>license</td>\n",
       "      <td>dct:LicenseDocument</td>\n",
       "      <td>M</td>\n",
       "      <td>1..1</td>\n",
       "    </tr>\n",
       "    <tr>\n",
       "      <th>2</th>\n",
       "      <td>availability</td>\n",
       "      <td>skos:Concept</td>\n",
       "      <td>R</td>\n",
       "      <td>0..1</td>\n",
       "    </tr>\n",
       "    <tr>\n",
       "      <th>3</th>\n",
       "      <td>description</td>\n",
       "      <td>rdfs:Literal</td>\n",
       "      <td>R</td>\n",
       "      <td>0..n</td>\n",
       "    </tr>\n",
       "    <tr>\n",
       "      <th>4</th>\n",
       "      <td>format</td>\n",
       "      <td>dct:MediaTypeOrExtent</td>\n",
       "      <td>R</td>\n",
       "      <td>0..1</td>\n",
       "    </tr>\n",
       "    <tr>\n",
       "      <th>5</th>\n",
       "      <td>rights</td>\n",
       "      <td>dct:RightsStatement</td>\n",
       "      <td>R</td>\n",
       "      <td>0..1</td>\n",
       "    </tr>\n",
       "    <tr>\n",
       "      <th>6</th>\n",
       "      <td>title</td>\n",
       "      <td>rdfs:Literal</td>\n",
       "      <td>R</td>\n",
       "      <td>0..n</td>\n",
       "    </tr>\n",
       "    <tr>\n",
       "      <th>7</th>\n",
       "      <td>modified</td>\n",
       "      <td>rdfs:Literal (typed as xsd:date, xsd:dateTime,...</td>\n",
       "      <td>R</td>\n",
       "      <td>0..1</td>\n",
       "    </tr>\n",
       "    <tr>\n",
       "      <th>8</th>\n",
       "      <td>accessService</td>\n",
       "      <td>dcat:DataService</td>\n",
       "      <td>O</td>\n",
       "      <td>0..n</td>\n",
       "    </tr>\n",
       "    <tr>\n",
       "      <th>9</th>\n",
       "      <td>byteSize</td>\n",
       "      <td>rdfs:Literal (typed as xsd:decimal)</td>\n",
       "      <td>O</td>\n",
       "      <td>0..1</td>\n",
       "    </tr>\n",
       "    <tr>\n",
       "      <th>10</th>\n",
       "      <td>checksum</td>\n",
       "      <td>spdx:Checksum</td>\n",
       "      <td>O</td>\n",
       "      <td>0..1</td>\n",
       "    </tr>\n",
       "    <tr>\n",
       "      <th>11</th>\n",
       "      <td>coverage</td>\n",
       "      <td>LocationPeriodOrJurisdiction</td>\n",
       "      <td>O</td>\n",
       "      <td>0..n</td>\n",
       "    </tr>\n",
       "    <tr>\n",
       "      <th>12</th>\n",
       "      <td>page</td>\n",
       "      <td>foaf:Document</td>\n",
       "      <td>O</td>\n",
       "      <td>0..n</td>\n",
       "    </tr>\n",
       "    <tr>\n",
       "      <th>13</th>\n",
       "      <td>downloadURL</td>\n",
       "      <td>rdfs:Resource</td>\n",
       "      <td>O</td>\n",
       "      <td>0..n</td>\n",
       "    </tr>\n",
       "    <tr>\n",
       "      <th>14</th>\n",
       "      <td>identifier</td>\n",
       "      <td>rdfs:Literal</td>\n",
       "      <td>O</td>\n",
       "      <td>0..1</td>\n",
       "    </tr>\n",
       "    <tr>\n",
       "      <th>15</th>\n",
       "      <td>image</td>\n",
       "      <td>schema:url or schema:ImageObject</td>\n",
       "      <td>O</td>\n",
       "      <td>0..3</td>\n",
       "    </tr>\n",
       "    <tr>\n",
       "      <th>16</th>\n",
       "      <td>language</td>\n",
       "      <td>dct:LinguisticSystem</td>\n",
       "      <td>O</td>\n",
       "      <td>0..n</td>\n",
       "    </tr>\n",
       "    <tr>\n",
       "      <th>17</th>\n",
       "      <td>conformsTo</td>\n",
       "      <td>dct:Standard</td>\n",
       "      <td>O</td>\n",
       "      <td>0..n</td>\n",
       "    </tr>\n",
       "    <tr>\n",
       "      <th>18</th>\n",
       "      <td>mediaType</td>\n",
       "      <td>dct:MediaType</td>\n",
       "      <td>O</td>\n",
       "      <td>0..1</td>\n",
       "    </tr>\n",
       "    <tr>\n",
       "      <th>19</th>\n",
       "      <td>packageFormat</td>\n",
       "      <td>dcat:mediaType</td>\n",
       "      <td>O</td>\n",
       "      <td>0..1</td>\n",
       "    </tr>\n",
       "    <tr>\n",
       "      <th>20</th>\n",
       "      <td>issued</td>\n",
       "      <td>rdfs:Literal (typed as xsd:date, xsd:dateTime,...</td>\n",
       "      <td>R</td>\n",
       "      <td>0..1</td>\n",
       "    </tr>\n",
       "    <tr>\n",
       "      <th>21</th>\n",
       "      <td>temporalResolution</td>\n",
       "      <td>xsd:duration</td>\n",
       "      <td>R</td>\n",
       "      <td>0..1</td>\n",
       "    </tr>\n",
       "  </tbody>\n",
       "</table>\n",
       "</div>"
      ],
      "text/plain": [
       "                   uri                                              range  \\\n",
       "0            accessURL                                      rdfs:Resource   \n",
       "1              license                                dct:LicenseDocument   \n",
       "2         availability                                       skos:Concept   \n",
       "3          description                                       rdfs:Literal   \n",
       "4               format                              dct:MediaTypeOrExtent   \n",
       "5               rights                                dct:RightsStatement   \n",
       "6                title                                       rdfs:Literal   \n",
       "7             modified  rdfs:Literal (typed as xsd:date, xsd:dateTime,...   \n",
       "8        accessService                                   dcat:DataService   \n",
       "9             byteSize                rdfs:Literal (typed as xsd:decimal)   \n",
       "10            checksum                                      spdx:Checksum   \n",
       "11            coverage                       LocationPeriodOrJurisdiction   \n",
       "12                page                                      foaf:Document   \n",
       "13         downloadURL                                      rdfs:Resource   \n",
       "14          identifier                                       rdfs:Literal   \n",
       "15               image                   schema:url or schema:ImageObject   \n",
       "16            language                               dct:LinguisticSystem   \n",
       "17          conformsTo                                       dct:Standard   \n",
       "18           mediaType                                      dct:MediaType   \n",
       "19       packageFormat                                     dcat:mediaType   \n",
       "20              issued  rdfs:Literal (typed as xsd:date, xsd:dateTime,...   \n",
       "21  temporalResolution                                       xsd:duration   \n",
       "\n",
       "   requirement cardinality  \n",
       "0            M        1..n  \n",
       "1            M        1..1  \n",
       "2            R        0..1  \n",
       "3            R        0..n  \n",
       "4            R        0..1  \n",
       "5            R        0..1  \n",
       "6            R        0..n  \n",
       "7            R        0..1  \n",
       "8            O        0..n  \n",
       "9            O        0..1  \n",
       "10           O        0..1  \n",
       "11           O        0..n  \n",
       "12           O        0..n  \n",
       "13           O        0..n  \n",
       "14           O        0..1  \n",
       "15           O        0..3  \n",
       "16           O        0..n  \n",
       "17           O        0..n  \n",
       "18           O        0..1  \n",
       "19           O        0..1  \n",
       "20           R        0..1  \n",
       "21           R        0..1  "
      ]
     },
     "execution_count": 7,
     "metadata": {},
     "output_type": "execute_result"
    }
   ],
   "source": [
    "dcat_dist = pd.DataFrame(\n",
    "    DCAT_CLASS_DISTRIBUTION,\n",
    "    columns=[\"uri\", \"range\", \"requirement\", \"cardinality\"],\n",
    ")\n",
    "\n",
    "dcat_dist.uri = dcat_dist.uri.apply(\n",
    "    lambda x: x.replace(\"dcat:\", \"\")\n",
    "    .replace(\"dct:\", \"\")\n",
    "    .replace(\"prov:\", \"\")\n",
    "    .replace(\"schema:\", \"\")\n",
    "    .replace(\"foaf:\", \"\")\n",
    "    .replace(\"dcatap:\", \"\")\n",
    "    .replace(\"spdx:\", \"\")\n",
    ")\n",
    "\n",
    "dcat_dist"
   ]
  },
  {
   "cell_type": "code",
   "execution_count": 8,
   "metadata": {},
   "outputs": [],
   "source": [
    "# Create an empty list to store issues and errors.\n",
    "issues = []"
   ]
  },
  {
   "cell_type": "markdown",
   "metadata": {},
   "source": [
    "# Global checks"
   ]
  },
  {
   "cell_type": "markdown",
   "metadata": {},
   "source": [
    "## Structure"
   ]
  },
  {
   "cell_type": "code",
   "execution_count": 9,
   "metadata": {},
   "outputs": [
    {
     "name": "stdout",
     "output_type": "stream",
     "text": [
      "We have 796 datasets in the catalogue and 16 properties.\n",
      "\n",
      "<class 'pandas.core.frame.DataFrame'>\n",
      "RangeIndex: 796 entries, 0 to 795\n",
      "Data columns (total 16 columns):\n",
      " #   Column              Non-Null Count  Dtype \n",
      "---  ------              --------------  ----- \n",
      " 0   identifier          796 non-null    object\n",
      " 1   title               796 non-null    object\n",
      " 2   description         796 non-null    object\n",
      " 3   issued              796 non-null    object\n",
      " 4   modified            796 non-null    object\n",
      " 5   publisher           796 non-null    object\n",
      " 6   contactPoint        796 non-null    object\n",
      " 7   theme               796 non-null    object\n",
      " 8   keyword             776 non-null    object\n",
      " 9   landingPage         396 non-null    object\n",
      " 10  startDate           492 non-null    object\n",
      " 11  endDate             473 non-null    object\n",
      " 12  accrualPeriodicity  794 non-null    object\n",
      " 13  seeAlso             464 non-null    object\n",
      " 14  relation            433 non-null    object\n",
      " 15  distribution        796 non-null    object\n",
      "dtypes: object(16)\n",
      "memory usage: 1.3 MB\n"
     ]
    }
   ],
   "source": [
    "print(\n",
    "    f\"We have {len(df):,.0f} datasets in the catalogue and {df.shape[1]} properties.\\n\"\n",
    ")\n",
    "df.info(memory_usage=\"deep\")"
   ]
  },
  {
   "cell_type": "markdown",
   "metadata": {},
   "source": [
    "## Properties"
   ]
  },
  {
   "cell_type": "markdown",
   "metadata": {},
   "source": [
    "- Check which properties (**mandatory**, **recommened** or **optional**) are present in the metadata.\n",
    "- Check which **additional** properties are present, that aren't defined in the DCAT standard."
   ]
  },
  {
   "cell_type": "code",
   "execution_count": 10,
   "metadata": {},
   "outputs": [
    {
     "name": "stdout",
     "output_type": "stream",
     "text": [
      "The metadata catalogue contains the following properties:\n",
      "\n",
      "5 of 5 mandatory properties.\n",
      "['contactPoint', 'description', 'identifier', 'publisher', 'title']\n",
      "0 missing.\n",
      "\n",
      "6 of 8 recommended properties.\n",
      "['distribution', 'keyword', 'landingPage', 'issued', 'theme', 'modified']\n",
      "2 missing: ['spatial', 'temporal']\n",
      "\n",
      "2 of 10 optional properties.\n",
      "['accrualPeriodicity', 'relation']\n",
      "8 missing: ['accessRights', 'conformsTo', 'page', 'image', 'isReferencedBy', 'language', 'qualifiedAttribution', 'qualifiedRelation']\n",
      "\n",
      "3 additional properties: ['startDate', 'endDate', 'seeAlso']\n"
     ]
    }
   ],
   "source": [
    "# Extract the various requirements for each property.\n",
    "\n",
    "mandatory = dcat_ds[dcat_ds.requirement == \"M\"].uri.tolist()\n",
    "recommended = dcat_ds[dcat_ds.requirement == \"R\"].uri.tolist()\n",
    "optional = dcat_ds[dcat_ds.requirement == \"O\"].uri.tolist()\n",
    "\n",
    "print(\"The metadata catalogue contains the following properties:\\n\")\n",
    "for name, cols in zip(\n",
    "    [\"mandatory\", \"recommended\", \"optional\"],\n",
    "    [mandatory, recommended, optional],\n",
    "):\n",
    "    present = [x for x in cols if x in df.columns]\n",
    "    missing = [x for x in cols if x not in df.columns]\n",
    "    missing_len = len(missing)\n",
    "    if missing == []:\n",
    "        missing = \"\"\n",
    "        print(\n",
    "            f\"{len(cols) - missing_len} of {len(cols)} {name} properties.\\n{present}\\n{missing_len} missing.\"\n",
    "        )\n",
    "    else:\n",
    "        print(\n",
    "            f\"{len(cols) - missing_len} of {len(cols)} {name} properties.\\n{present}\\n{missing_len} missing: {missing}\"\n",
    "        )\n",
    "    print()\n",
    "\n",
    "additional = [x for x in df.columns if x not in dcat_ds.uri.tolist()]\n",
    "print(f\"{len(additional)} additional properties: {additional}\")"
   ]
  },
  {
   "cell_type": "markdown",
   "metadata": {},
   "source": [
    "## Missing values"
   ]
  },
  {
   "cell_type": "code",
   "execution_count": 11,
   "metadata": {},
   "outputs": [
    {
     "name": "stdout",
     "output_type": "stream",
     "text": [
      "Missing mandatory properties:\n",
      "None\n",
      "\n",
      "Missing in recommended properties:\n",
      "property       missing_count\n",
      "-----------  ---------------\n",
      "landingPage              400\n",
      "keyword                   20\n",
      "\n",
      "Missing in optional properties:\n",
      "property              missing_count\n",
      "------------------  ---------------\n",
      "relation                        363\n",
      "accrualPeriodicity                2\n",
      "\n",
      "Missing in additional properties:\n",
      "property      missing_count\n",
      "----------  ---------------\n",
      "seeAlso                 332\n",
      "endDate                 323\n",
      "startDate               304\n",
      "\n"
     ]
    }
   ],
   "source": [
    "# Extract the various requirements for each property that are actually present in the dataset.\n",
    "present_mandatory = [x for x in mandatory if x in df.columns]\n",
    "present_recommended = [x for x in recommended if x in df.columns]\n",
    "present_optional = [x for x in optional if x in df.columns]\n",
    "\n",
    "# Check for missing values in the dataset according to the requirements.\n",
    "for req, cols in zip(\n",
    "    [\"mandatory\", \"recommended\", \"optional\", \"additional\"],\n",
    "    [present_mandatory, present_recommended, present_optional, additional],\n",
    "):\n",
    "    # Add issues to the list.\n",
    "    for prop in cols:\n",
    "        issues.extend(\n",
    "            [\n",
    "                (x, f\"Missing value in {req} property «{prop}»\", \"Missing values\")\n",
    "                for x in df[df[prop].isna()].identifier\n",
    "            ]\n",
    "        )\n",
    "\n",
    "    missing = [(x, df[x].isna().sum()) for x in cols if df[x].isna().sum() > 0]\n",
    "    if missing == []:\n",
    "        print(f\"Missing {req} properties:\\nNone\")\n",
    "        print()\n",
    "    else:\n",
    "        tmp = pd.DataFrame(missing, columns=[\"property\", \"missing_count\"]).sort_values(\n",
    "            \"missing_count\", ascending=False\n",
    "        )\n",
    "        print(f\"Missing in {req} properties:\")\n",
    "        print(\n",
    "            tabulate(\n",
    "                tmp[[\"property\", \"missing_count\"]], headers=\"keys\", showindex=False\n",
    "            )\n",
    "        )\n",
    "        print()"
   ]
  },
  {
   "cell_type": "markdown",
   "metadata": {},
   "source": [
    "## Hidden nulls"
   ]
  },
  {
   "cell_type": "code",
   "execution_count": 12,
   "metadata": {},
   "outputs": [
    {
     "name": "stdout",
     "output_type": "stream",
     "text": [
      "57 hidden null strings in mandatory property «description»: ['null']\n"
     ]
    }
   ],
   "source": [
    "# Check for «hidden nulls», e.g. strings that are not empty (and therefore satisfy the DCAT standard) but are not meaningful either.\n",
    "# Define these according to your needs and imagination of possible hidden nulls in utils.py.\n",
    "\n",
    "results = []\n",
    "for req, cols in zip(\n",
    "    [\"mandatory\", \"recommended\", \"optional\"],\n",
    "    [present_mandatory, present_recommended, present_optional],\n",
    "):\n",
    "    for col in cols:\n",
    "        empty = df[col].apply(\n",
    "            lambda x: x.lower() in HIDDEN_NULLS if isinstance(x, str) else None\n",
    "        )\n",
    "\n",
    "        # Add issues to the list.\n",
    "        tmp = df.loc[empty[empty == True].index, [col, \"identifier\"]]\n",
    "        if len(tmp) > 0:\n",
    "            issues.extend(\n",
    "                [\n",
    "                    (x, f\"Hidden null in {req} property «{col}»\", \"Hidden nulls\")\n",
    "                    for x in tmp.identifier\n",
    "                ]\n",
    "            )\n",
    "\n",
    "        empty_strings_found = df.loc[empty[empty == True].index, col].unique()\n",
    "        if empty.sum() > 0:\n",
    "            message = f\"{empty.sum()} hidden null strings in {req} property «{col}»: {empty_strings_found}\"\n",
    "            results.append(message)\n",
    "\n",
    "if results != []:\n",
    "    print(\"\\n\".join(results))\n",
    "else:\n",
    "    print(\"No empty strings found.\")"
   ]
  },
  {
   "cell_type": "code",
   "execution_count": 13,
   "metadata": {},
   "outputs": [],
   "source": [
    "# Check for empty lists or dictionaries.\n",
    "\n",
    "empty_datatypes = ([], {})\n",
    "results = []\n",
    "for req, cols in zip(\n",
    "    [\"mandatory\", \"recommended\", \"optional\"],\n",
    "    [present_mandatory, present_recommended, present_optional],\n",
    "):\n",
    "    for col in cols:\n",
    "        empty = df[col].apply(\n",
    "            lambda x: x in empty_datatypes if isinstance(x, (list, dict)) else None\n",
    "        )\n",
    "\n",
    "        # Add issues to the list.\n",
    "        tmp = df.loc[empty[empty == True].index, [col, \"identifier\"]]\n",
    "        if len(tmp) > 0:\n",
    "            issues.extend(\n",
    "                [\n",
    "                    (\n",
    "                        x,\n",
    "                        f\"Empty list or dictionary in {req} property «{col}»\",\n",
    "                        \"Empty list or dictionary\",\n",
    "                    )\n",
    "                    for x in tmp.identifier\n",
    "                ]\n",
    "            )\n",
    "\n",
    "        empty_datatypes_found = df.loc[empty[empty == True].index, col].unique()\n",
    "        if empty.sum() > 0:\n",
    "            message = f\"{empty.sum()} empty list or dicts in {req} property «{col}»: {empty_datatypes_found}\"\n",
    "            results.append(message)\n",
    "\n",
    "if results != []:\n",
    "    print(\"\\n\".join(results))"
   ]
  },
  {
   "cell_type": "markdown",
   "metadata": {},
   "source": [
    "## Duplicates"
   ]
  },
  {
   "cell_type": "code",
   "execution_count": 14,
   "metadata": {},
   "outputs": [
    {
     "name": "stdout",
     "output_type": "stream",
     "text": [
      "4 duplicate titles\n",
      "\n",
      "['Abfall im Kanton Zürich', 'Abfall im Kanton Zürich', 'Abfall im Kanton Zürich', 'Regionalisierte Bevölkerungsprognosen für den Kanton Zürich bis 2030', 'Regionalisierte Bevölkerungsprognosen für den Kanton Zürich bis 2030', 'Strukturatlas des Kantons Zürich', 'Strukturatlas des Kantons Zürich']\n",
      "\n",
      "128 duplicate descriptions\n",
      "\n",
      "['Aerzte mit Hauptberufstätigkeit im Ambulanten Sektor. Bis 2008: Ärzte mit eigener Praxis und Spitalärzte, die Privatpatienten behandeln, jeweils am Anfang eines Kalenderjahres. Für 1993 und 2003 keine Zahlen vorhanden. Aktuellstes Jahr provisorisch.', 'Aerzte mit Hauptberufstätigkeit im Ambulanten Sektor. Bis 2008: Ärzte mit eigener Praxis und Spitalärzte, die Privatpatienten behandeln, jeweils am Anfang eines Kalenderjahres. Für 1993 und 2003 keine Zahlen vorhanden. Aktuellstes Jahr provisorisch.', 'Analyse von Handänderungsdaten', 'Analyse von Handänderungsdaten', 'Bruttoaufwand - Bruttoertrag (der Laufenden Rechnung). Aussage: Durch Steuern zu finanzierender Anteil des betreffenden Hauptaufgabenbereichs. Grundlage ist die Konsolidierte Gemeinde. Der Haushalt der Schulgemeinde wird dabei anteilsmässig in den Haushalt der poltischen Gemeinden umgelegt. Umstellung des Rechnungsmodells von HRM1 auf HRM2 ab Rechnungsjahr 2019.', 'Bruttoaufwand - Bruttoertrag (der Laufenden Rechnung). Aussage: Durch Steuern zu finanzierender Anteil des betreffenden Hauptaufgabenbereichs. Grundlage ist die Konsolidierte Gemeinde. Der Haushalt der Schulgemeinde wird dabei anteilsmässig in den Haushalt der poltischen Gemeinden umgelegt. Umstellung des Rechnungsmodells von HRM1 auf HRM2 ab Rechnungsjahr 2019.', 'Bruttoaufwand - Bruttoertrag (der Laufenden Rechnung). Aussage: Durch Steuern zu finanzierender Anteil des betreffenden Hauptaufgabenbereichs. Grundlage ist die Konsolidierte Gemeinde. Der Haushalt der Schulgemeinde wird dabei anteilsmässig in den Haushalt der poltischen Gemeinden umgelegt. Umstellung des Rechnungsmodells von HRM1 auf HRM2 ab Rechnungsjahr 2019.', 'Bruttoaufwand - Bruttoertrag (der Laufenden Rechnung). Aussage: Durch Steuern zu finanzierender Anteil des betreffenden Hauptaufgabenbereichs. Grundlage ist die Konsolidierte Gemeinde. Der Haushalt der Schulgemeinde wird dabei anteilsmässig in den Haushalt der poltischen Gemeinden umgelegt. Umstellung des Rechnungsmodells von HRM1 auf HRM2 ab Rechnungsjahr 2019.', 'Bruttoaufwand - Bruttoertrag (der Laufenden Rechnung). Aussage: Durch Steuern zu finanzierender Anteil des betreffenden Hauptaufgabenbereichs. Grundlage ist die Konsolidierte Gemeinde. Der Haushalt der Schulgemeinde wird dabei anteilsmässig in den Haushalt der poltischen Gemeinden umgelegt. Umstellung des Rechnungsmodells von HRM1 auf HRM2 ab Rechnungsjahr 2019.', 'Bruttoaufwand - Bruttoertrag (der Laufenden Rechnung). Aussage: Durch Steuern zu finanzierender Anteil des betreffenden Hauptaufgabenbereichs. Grundlage ist die Konsolidierte Gemeinde. Der Haushalt der Schulgemeinde wird dabei anteilsmässig in den Haushalt der poltischen Gemeinden umgelegt. Umstellung des Rechnungsmodells von HRM1 auf HRM2 ab Rechnungsjahr 2019.', 'Bruttoaufwand - Bruttoertrag (der Laufenden Rechnung). Aussage: Durch Steuern zu finanzierender Anteil des betreffenden Hauptaufgabenbereichs. Grundlage ist die Konsolidierte Gemeinde. Der Haushalt der Schulgemeinde wird dabei anteilsmässig in den Haushalt der poltischen Gemeinden umgelegt. Umstellung des Rechnungsmodells von HRM1 auf HRM2 ab Rechnungsjahr 2019.', 'Bruttoaufwand - Bruttoertrag (der Laufenden Rechnung). Aussage: Durch Steuern zu finanzierender Anteil des betreffenden Hauptaufgabenbereichs. Grundlage ist die Konsolidierte Gemeinde. Der Haushalt der Schulgemeinde wird dabei anteilsmässig in den Haushalt der poltischen Gemeinden umgelegt. Umstellung des Rechnungsmodells von HRM1 auf HRM2 ab Rechnungsjahr 2019.', 'Bruttoaufwand - Bruttoertrag (der Laufenden Rechnung). Aussage: Durch Steuern zu finanzierender Anteil des betreffenden Hauptaufgabenbereichs. Grundlage ist die Konsolidierte Gemeinde. Der Haushalt der Schulgemeinde wird dabei anteilsmässig in den Haushalt der poltischen Gemeinden umgelegt. Umstellung des Rechnungsmodells von HRM1 auf HRM2 ab Rechnungsjahr 2019.', 'Bruttoaufwand - Bruttoertrag (der Laufenden Rechnung). Aussage: Durch Steuern zu finanzierender Anteil des betreffenden Hauptaufgabenbereichs. Grundlage ist die Konsolidierte Gemeinde. Der Haushalt der Schulgemeinde wird dabei anteilsmässig in den Haushalt der poltischen Gemeinden umgelegt. Umstellung des Rechnungsmodells von HRM1 auf HRM2 ab Rechnungsjahr 2019.', 'Definition: Alle öffentlichen Apotheken im Kanton Zürich. Aktuellstes Jahr provisorisch. Stand: Anfangs Folgejahr.', 'Definition: Alle öffentlichen Apotheken im Kanton Zürich. Aktuellstes Jahr provisorisch. Stand: Anfangs Folgejahr.', 'Definition: Zahnärzte, welche eine Bewilligung zur selbständigen Berufsübung haben, jeweils am Ende eines Kalenderjahres. Für 1993 und 2003 keine Zahlen vorhanden. Aktuellstes Jahr provisorisch.', 'Definition: Zahnärzte, welche eine Bewilligung zur selbständigen Berufsübung haben, jeweils am Ende eines Kalenderjahres. Für 1993 und 2003 keine Zahlen vorhanden. Aktuellstes Jahr provisorisch.', 'Für thematische Karten und Darstellungen in kleinen Massstäben sind oft administrative Grenzen erwünscht, die einen niedrigen Detaillierungsgrad aufweisen. Die generalisierte Grenzverläufe können Sie hier beziehen. Sie stehen in den Formaten Shapefile, Geopackage und GeoJSON zur Verfügung. Es steht jeweils sowohl eine Datei ohne See als auch eine Datei mit den vier grössten Seen (Zürichsee, Greifensee, Pfäffikersee, Türlersee) zur Verfügung.\\nDie Daten werden in den Schweizer Landeskoordinaten der Landesvermessung 1995 (LV95, EPSG:2056) angeboten. Karten im GeoJSON-Format werden zusätzlich im World Geodetic System 1984 (WGS84 , EPSG:4326) angeboten.', 'Für thematische Karten und Darstellungen in kleinen Massstäben sind oft administrative Grenzen erwünscht, die einen niedrigen Detaillierungsgrad aufweisen. Die generalisierte Grenzverläufe können Sie hier beziehen. Sie stehen in den Formaten Shapefile, Geopackage und GeoJSON zur Verfügung. Es steht jeweils sowohl eine Datei ohne See als auch eine Datei mit den vier grössten Seen (Zürichsee, Greifensee, Pfäffikersee, Türlersee) zur Verfügung.\\nDie Daten werden in den Schweizer Landeskoordinaten der Landesvermessung 1995 (LV95, EPSG:2056) angeboten. Karten im GeoJSON-Format werden zusätzlich im World Geodetic System 1984 (WGS84 , EPSG:4326) angeboten.', 'Für thematische Karten und Darstellungen in kleinen Massstäben sind oft administrative Grenzen erwünscht, die einen niedrigen Detaillierungsgrad aufweisen. Die generalisierte Grenzverläufe können Sie hier beziehen. Sie stehen in den Formaten Shapefile, Geopackage und GeoJSON zur Verfügung. Es steht jeweils sowohl eine Datei ohne See als auch eine Datei mit den vier grössten Seen (Zürichsee, Greifensee, Pfäffikersee, Türlersee) zur Verfügung.\\nDie Daten werden in den Schweizer Landeskoordinaten der Landesvermessung 1995 (LV95, EPSG:2056) angeboten. Karten im GeoJSON-Format werden zusätzlich im World Geodetic System 1984 (WGS84 , EPSG:4326) angeboten.', 'Für thematische Karten und Darstellungen in kleinen Massstäben sind oft administrative Grenzen erwünscht, die einen niedrigen Detaillierungsgrad aufweisen. Die generalisierte Grenzverläufe können Sie hier beziehen. Sie stehen in den Formaten Shapefile, Geopackage und GeoJSON zur Verfügung. Es steht jeweils sowohl eine Datei ohne See als auch eine Datei mit den vier grössten Seen (Zürichsee, Greifensee, Pfäffikersee, Türlersee) zur Verfügung.\\nDie Daten werden in den Schweizer Landeskoordinaten der Landesvermessung 1995 (LV95, EPSG:2056) angeboten. Karten im GeoJSON-Format werden zusätzlich im World Geodetic System 1984 (WGS84 , EPSG:4326) angeboten.', 'Gültig eingelegte Listen (Wahlzettel) dividiert durch Anzahl Wahlberechtigte', 'Gültig eingelegte Listen (Wahlzettel) dividiert durch Anzahl Wahlberechtigte', 'Informationen zu den Daten finden sich im Tabellenblatt Hinweise.', 'Informationen zu den Daten finden sich im Tabellenblatt Hinweise.', 'Informationen zu den Daten finden sich im Tabellenblatt Hinweise.', 'Kurzanalyse aus der Broschüre «Kanton Zürich in Zahlen»', 'Kurzanalyse aus der Broschüre «Kanton Zürich in Zahlen»', 'Kurzanalyse aus der Broschüre «Kanton Zürich in Zahlen»', 'Kurzanalyse aus der Broschüre «Kanton Zürich in Zahlen»', 'Kurzanalyse aus der Broschüre «Kanton Zürich in Zahlen»', 'Kurzanalyse aus der Broschüre «Kanton Zürich in Zahlen»', 'Kurzanalyse aus der Broschüre «Kanton Zürich in Zahlen»', 'Kurzanalyse aus der Broschüre «Kanton Zürich in Zahlen»', 'Kurzanalyse aus der Broschüre «Kanton Zürich in Zahlen»', 'Kurzanalyse aus der Broschüre «Kanton Zürich in Zahlen»', 'Kurzanalyse aus der Broschüre «Kanton Zürich in Zahlen»', 'Kurzanalyse aus der Broschüre «Kanton Zürich in Zahlen»', 'Kurzanalyse aus der Broschüre «Kanton Zürich in Zahlen»', 'Kurzanalyse aus der Broschüre «Kanton Zürich in Zahlen»', 'Kurzanalyse aus der Broschüre «Kanton Zürich in Zahlen»', 'Kurzanalyse aus der Broschüre «Kanton Zürich in Zahlen»', 'Kurzanalyse aus der Broschüre «Kanton Zürich in Zahlen»', 'Kurzanalyse aus der Broschüre «Kanton Zürich in Zahlen»', 'Kurzanalyse aus der Broschüre «Kanton Zürich in Zahlen»', 'Kurzanalyse aus der Broschüre «Kanton Zürich in Zahlen»', 'Kurzanalyse aus der Broschüre «Kanton Zürich in Zahlen»', 'Kurzanalyse aus der Broschüre «Kanton Zürich in Zahlen»', 'Kurzanalyse aus der Broschüre «Kanton Zürich in Zahlen»', 'Kurzanalyse aus der Broschüre «Kanton Zürich in Zahlen»', 'Kurzanalyse aus der Broschüre «Kanton Zürich in Zahlen»', 'Kurzanalyse aus der Broschüre «Kanton Zürich in Zahlen»', 'Kurzanalyse aus der Broschüre «Kanton Zürich in Zahlen»', 'Kurzanalyse aus der Broschüre «Kanton Zürich in Zahlen»', 'Kurzanalyse aus der Broschüre «Kanton Zürich in Zahlen»', 'Kurzanalyse aus der Broschüre «Kanton Zürich in Zahlen»', 'Kurzanalyse aus der Broschüre «Kanton Zürich in Zahlen»', 'Kurzanalyse aus der Broschüre «Kanton Zürich in Zahlen»', 'Kurzanalyse aus der Broschüre «Kanton Zürich in Zahlen»', 'Kurzanalyse aus der Broschüre «Kanton Zürich in Zahlen»', 'Kurzanalyse aus der Broschüre «Kanton Zürich in Zahlen»', 'Kurzanalyse aus der Broschüre «Kanton Zürich in Zahlen»', 'Kurzanalyse aus der Broschüre «Kanton Zürich in Zahlen»', 'Kurzanalyse aus der Broschüre «Kanton Zürich in Zahlen»', 'Kurzanalyse aus der Broschüre «Kanton Zürich in Zahlen»', 'Kurzanalyse aus der Broschüre «Kanton Zürich in Zahlen»', 'Kurzanalyse aus der Broschüre «Kanton Zürich in Zahlen»', 'Kurzanalyse aus der Broschüre «Kanton Zürich in Zahlen»', 'Kurzanalyse aus der Broschüre «Kanton Zürich in Zahlen»', 'Kurzanalyse aus der Broschüre «Kanton Zürich in Zahlen»', 'Kurzanalyse aus der Broschüre «Kanton Zürich in Zahlen»', 'Schüler/innen an öffentlichen Volksschulen im Kanton Zürich, die nach kantonalem Lehrplan unterrichtet werden. Mit Volksschule wird die Schulbildung während der obligatorischen Schulzeit bezeichnet. Die obligatorische Schulzeit umfasst den Kindergarten, sechs Jahre Primarschule und drei Jahre Sekundarstufe I. Nicht mitgezählt sind Lernende der Mittelschulen, Lernende in in Heim-/Sonderschulen, und Lernende in Privatschulen. Es gilt das Schulortprinzip, gezählt werden Schülerinnen und Schüler, welche eine Schule innerhalb des Kantons Zürich besuchen.\\n\\nDie Daten werden jährlich für den Stichtag 15.9. erhoben.', 'Schüler/innen an öffentlichen Volksschulen im Kanton Zürich, die nach kantonalem Lehrplan unterrichtet werden. Mit Volksschule wird die Schulbildung während der obligatorischen Schulzeit bezeichnet. Die obligatorische Schulzeit umfasst den Kindergarten, sechs Jahre Primarschule und drei Jahre Sekundarstufe I. Nicht mitgezählt sind Lernende der Mittelschulen, Lernende in in Heim-/Sonderschulen, und Lernende in Privatschulen. Es gilt das Schulortprinzip, gezählt werden Schülerinnen und Schüler, welche eine Schule innerhalb des Kantons Zürich besuchen.\\n\\nDie Daten werden jährlich für den Stichtag 15.9. erhoben.', 'Schüler/innen an öffentlichen Volksschulen im Kanton Zürich, die nach kantonalem Lehrplan unterrichtet werden. Mit Volksschule wird die Schulbildung während der obligatorischen Schulzeit bezeichnet. Die obligatorische Schulzeit umfasst den Kindergarten, sechs Jahre Primarschule und drei Jahre Sekundarstufe I. Nicht mitgezählt sind Lernende der Mittelschulen, Lernende in in Heim-/Sonderschulen, und Lernende in Privatschulen. Es gilt das Schulortprinzip, gezählt werden Schülerinnen und Schüler, welche eine Schule innerhalb des Kantons Zürich besuchen.\\n\\nDie Daten werden jährlich für den Stichtag 15.9. erhoben.', 'Statistische Analyse', 'Statistische Analyse', 'Veränderung des Gebäudevolumens gegenüber Vorjahr (1995: jährliche Veränderung im Zeitraum 1990-2000)', 'Veränderung des Gebäudevolumens gegenüber Vorjahr (1995: jährliche Veränderung im Zeitraum 1990-2000)', 'Veränderung des Gebäudevolumens gegenüber Vorjahr (1995: jährliche Veränderung im Zeitraum 1990-2000)', 'Veränderung des Gebäudevolumens gegenüber Vorjahr (1995: jährliche Veränderung im Zeitraum 1990-2000)', 'Veränderung des Gebäudevolumens gegenüber Vorjahr (1995: jährliche Veränderung im Zeitraum 1990-2000)', 'Veränderung des Gebäudevolumens gegenüber Vorjahr (1995: jährliche Veränderung im Zeitraum 1990-2000)', 'Veränderung des Gebäudevolumens gegenüber Vorjahr (1995: jährliche Veränderung im Zeitraum 1990-2000)', 'null', 'null', 'null', 'null', 'null', 'null', 'null', 'null', 'null', 'null', 'null', 'null', 'null', 'null', 'null', 'null', 'null', 'null', 'null', 'null', 'null', 'null', 'null', 'null', 'null', 'null', 'null', 'null', 'null', 'null', 'null', 'null', 'null', 'null', 'null', 'null', 'null', 'null', 'null', 'null', 'null', 'null', 'null', 'null', 'null', 'null', 'null', 'null', 'null', 'null', 'null', 'null', 'null', 'null', 'null', 'null', 'null']\n",
      "\n"
     ]
    }
   ],
   "source": [
    "# We can't have duplicate identifiers.\n",
    "if df[\"identifier\"].duplicated().sum() > 0:\n",
    "    print(f\"{df['identifier'].duplicated().sum()} duplicate identifiers\\n\")\n",
    "    issues.extend(\n",
    "        [\n",
    "            (x, \"Duplicate identifier\", \"Duplicate\")\n",
    "            for x in df[\"identifier\"].duplicated(keep=False).identifier\n",
    "        ]\n",
    "    )\n",
    "    print()\n",
    "\n",
    "# We shouldn't have duplicate titles, descriptions, or distributions.\n",
    "for col in (\"title\", \"description\", \"distribution\"):\n",
    "    if df[col].duplicated().sum() > 0:\n",
    "        print(f\"{df[col].duplicated().sum()} duplicate {col}s\\n\")\n",
    "        print(f\"{sorted(df.loc[df[col].duplicated(keep=False), col].tolist())}\\n\")\n",
    "\n",
    "        # Add issues to the list.\n",
    "        tmp = df.loc[df[col].duplicated(keep=False), [col, \"identifier\"]]\n",
    "        issues.extend(\n",
    "            [(x, f\"Duplicate value in {col}\", \"Duplicate\") for x in tmp.identifier]\n",
    "        )"
   ]
  },
  {
   "cell_type": "markdown",
   "metadata": {},
   "source": [
    "## Shortest, and longest strings"
   ]
  },
  {
   "cell_type": "markdown",
   "metadata": {},
   "source": [
    "Check shortest, and longest **title** strings."
   ]
  },
  {
   "cell_type": "code",
   "execution_count": 15,
   "metadata": {},
   "outputs": [
    {
     "name": "stdout",
     "output_type": "stream",
     "text": [
      "['Zuzüge [%]', 'Fläche [ha]', 'Kühe [Anz.]', 'Verdichtung', 'Wegzüge [%]', 'Höhe [m.ü.M.]', 'Aerzte [Anz.]', 'Sozialbericht', 'Bauzonen [ha]', 'Hotels [Anz.]', 'Schafe [Anz.]', 'Zuzüge [Pers.]', 'Heiraten [Anz.]', 'Anteil GK F [%]', 'Anteil GK A [%]', 'Anteil GK B [%]', 'Anteil GK C [%]', 'Anteil GK D [%]', 'Anteil GK E [%]', 'Über die Grenze']\n",
      "\n",
      "['Web Analytics der Open Government Data des Kantons Zürich auf opendata.swiss von Februar 2018 bis Februar 2021', 'COVID_19 open government data reported by Swiss Cantons and Principality of Liechtenstein from January 5, 2020', 'Betriebslandschaft im Kanton Zürich mit dem Bestand und den Umzügen nach Branchen, Gemeinden und anderen Kantonen', 'Die Entwicklung der Steuerkraft nach der Dot-Com-Krise. Gegenläufige Tendenzen in den Zürcher Gemeinden und Einflussfaktoren', 'Effektive Quadratmeterpreise von unbebautem Gewerbe- und Industriebauland pro Raumplanungsregion und Bezirk sowie gesamter Kanton']\n"
     ]
    }
   ],
   "source": [
    "top_n = 20\n",
    "low_n = 5\n",
    "print(sorted(df.title.values, key=len)[:top_n])\n",
    "print()\n",
    "print(sorted(df.title.values, key=len)[-low_n:])"
   ]
  },
  {
   "cell_type": "markdown",
   "metadata": {},
   "source": [
    "Check shortest, and longest **description** strings."
   ]
  },
  {
   "cell_type": "code",
   "execution_count": 16,
   "metadata": {},
   "outputs": [
    {
     "name": "stdout",
     "output_type": "stream",
     "text": [
      "['null', 'null', 'null', 'null', 'null', 'null', 'null', 'null', 'null', 'null', 'null', 'null', 'null', 'null', 'null', 'null', 'null', 'null', 'null', 'null']\n",
      "\n",
      "['Emissionen der wichtigsten Luftschadstoffe (BC, CO, NH3, NMVOC, NOx, PM10, PM2.5, SO2) im Kanton Zürich. Die Emissionsbilanzierung liegt bis auf Stufe Gemeinde und für verschiedene Zeitstände vor. Die Emissionsdaten der Stickoxide (NOx), Feinstaub (PM10 und PM2.5) sowie Russ (BC) wurden im Rahmen einer schweizweiten Aktualisierung der Karten für Luftschadstoffimmissionen Schweiz und Liechtenstein 2015, 2020, 2030 in Hektarrasterauflösung bilanziert. Die Datengrundlagen für die Emissionen bildet das Emissionsinformations-System Schweiz (EMIS) – die Datenbank des Bundesamts für Umwelt BAFU mit den nationalen Luftschadstoff- und Treibhausgasemissionen - zum Zeitpunkt Mitte 2019. In einer Ergänzungsstudie im Auftrag des BAFU wurden für dieselben Emittentengruppen anschliessend auch Emissionskataster in Hektarrasterauflösung für weitere Luftschadstoffe und Treibhausgase erstellt. Im Anschluss an die genannten Arbeiten hat die \\'Luftqualitätsüberwachung der Ostschweizer Kantone und des Fürstentums Liechtenstein\\' (OSTLUFT) die Arbeitsgemeinschaft INFRAS/Meteotest damit beauftragt, die Emissionen aller genannten Substanzen auf Stufe Gemeinden des OSTLUFT-Gebiets zu aggregieren und die Daten in geeigneter Form aufzubereiten mit dem Ziel, für die OSTLUFT-Gemeinden eine mit dem schweizerischen Emissionskataster konsistente Datengrundlage zur Verfügung zu haben. Eine Aktualisierung der Daten wurde mit gleicher Methodik aber basierend auf den Datengrundlagen aus dem Emissionsinformations-System Schweiz (EMIS) zum Zeitpunkt Mitte 2023 durchgeführt. Hinweis: Die Städte Winterthur und Zürich verfügen über eigenen Bilanzierungen der Luftschadstoffe auf ihrem Gebiet. Detailliertere Angaben dazu sind unter \"weitere Informationen\" verlinkt. ']\n"
     ]
    }
   ],
   "source": [
    "top_n = 20\n",
    "low_n = 1\n",
    "print(sorted(df.description.values, key=len)[:top_n])\n",
    "print()\n",
    "print(sorted(df.description.values, key=len)[-low_n:])"
   ]
  },
  {
   "cell_type": "markdown",
   "metadata": {},
   "source": [
    "## Issues in text properties"
   ]
  },
  {
   "cell_type": "code",
   "execution_count": 17,
   "metadata": {},
   "outputs": [
    {
     "name": "stdout",
     "output_type": "stream",
     "text": [
      "Unstripped strings that start or end with whitespace\n",
      "4 unstripped titles\n",
      "41 unstripped descriptions\n"
     ]
    }
   ],
   "source": [
    "unstripped_titles = df.title.apply(lambda x: len(x) != len(x.strip()))\n",
    "unstripped_titles_cnt = unstripped_titles.sum()\n",
    "unstripped_descriptions = df.description.apply(lambda x: len(x) != len(x.strip()))\n",
    "unstripped_descriptions_cnt = unstripped_descriptions.sum()\n",
    "\n",
    "print(\"Unstripped strings that start or end with whitespace\")\n",
    "print(f\"{unstripped_titles_cnt} unstripped titles\")\n",
    "print(f\"{unstripped_descriptions_cnt} unstripped descriptions\")\n",
    "\n",
    "# Add issues to the list.\n",
    "issues.extend(\n",
    "    [\n",
    "        (x, f\"Unstripped title\", \"Text issue\")\n",
    "        for x in df.loc[unstripped_titles].identifier\n",
    "    ]\n",
    ")\n",
    "issues.extend(\n",
    "    [\n",
    "        (x, f\"Unstripped description\", \"Text issue\")\n",
    "        for x in df.loc[unstripped_descriptions].identifier\n",
    "    ]\n",
    ")"
   ]
  },
  {
   "cell_type": "code",
   "execution_count": 18,
   "metadata": {},
   "outputs": [
    {
     "name": "stdout",
     "output_type": "stream",
     "text": [
      "Line breaks\n",
      "25 descriptions with line breaks\n"
     ]
    }
   ],
   "source": [
    "print(\"Line breaks\")\n",
    "line_breaks = [\"\\n\", \"\\r\", \"\\t\"]\n",
    "for col in (\"title\", \"description\"):\n",
    "    line_breaks_found = df[col].apply(lambda x: any([y in x for y in line_breaks]))\n",
    "\n",
    "    # Add issues to the list.\n",
    "    tmp = df.loc[\n",
    "        line_breaks_found[line_breaks_found == True].index, [col, \"identifier\"]\n",
    "    ]\n",
    "    if len(tmp) > 0:\n",
    "        issues.extend(\n",
    "            [\n",
    "                (x, f\"Line breaks in property «{col}»\", \"Text issue\")\n",
    "                for x in tmp.identifier\n",
    "            ]\n",
    "        )\n",
    "\n",
    "    if line_breaks_found.sum() > 0:\n",
    "        print(f\"{line_breaks_found.sum()} {col}s with line breaks\")"
   ]
  },
  {
   "cell_type": "code",
   "execution_count": 19,
   "metadata": {},
   "outputs": [
    {
     "name": "stdout",
     "output_type": "stream",
     "text": [
      "Superfluous spaces\n",
      "2 descriptions with superfluous spaces\n"
     ]
    }
   ],
   "source": [
    "print(\"Superfluous spaces\")\n",
    "extra_spaces = [\"  \"]\n",
    "for col in (\"title\", \"description\"):\n",
    "    extra_spaces_found = df[col].apply(lambda x: any([y in x for y in extra_spaces]))\n",
    "\n",
    "    # Add issues to the list.\n",
    "    tmp = df.loc[\n",
    "        extra_spaces_found[extra_spaces_found == True].index, [col, \"identifier\"]\n",
    "    ]\n",
    "    if len(tmp) > 0:\n",
    "        issues.extend(\n",
    "            [\n",
    "                (x, f\"Superfluous spaces in property «{col}»\", \"Text issue\")\n",
    "                for x in tmp.identifier\n",
    "            ]\n",
    "        )\n",
    "\n",
    "    if extra_spaces_found.sum() > 0:\n",
    "        print(f\"{extra_spaces_found.sum()} {col}s with superfluous spaces\")"
   ]
  },
  {
   "cell_type": "code",
   "execution_count": 20,
   "metadata": {},
   "outputs": [
    {
     "name": "stdout",
     "output_type": "stream",
     "text": [
      "1 HTML link(s) found in descriptions\n",
      "https://www.zh.ch/de/politik-staat/statistik-daten/datenkatalog.html\n"
     ]
    }
   ],
   "source": [
    "# TODO: More complete link checking.\n",
    "\n",
    "link_pattern = re.compile(\n",
    "    r\"http[s]?://(?:[a-zA-Z]|[0-9]|[$-_@.&+]|[!*\\\\(\\\\),]|(?:%[0-9a-fA-F][0-9a-fA-F]))+\"\n",
    ")\n",
    "for col in (\"title\", \"description\"):\n",
    "    links_found = df[col].apply(lambda x: link_pattern.findall(x))\n",
    "    links_found = [x for x in links_found if x != []]\n",
    "    if len(links_found) > 0:\n",
    "        print(f\"{len(links_found)} HTML link(s) found in {col}s\")\n",
    "        for link in links_found:\n",
    "            print(f\"{link[0]}\")"
   ]
  },
  {
   "cell_type": "code",
   "execution_count": 21,
   "metadata": {},
   "outputs": [
    {
     "name": "stdout",
     "output_type": "stream",
     "text": [
      "25 control characters found in descriptions\n"
     ]
    }
   ],
   "source": [
    "# TODO: More complete and relevant escape sequences.\n",
    "\n",
    "pattern = r\"(\\x04|\\x1a|\\xa0|\\x00|\\ue83a|\\x19|\\uf06c|\\x10|\\x17|\\x13|\\x11|\\x16|\\x18|\\x1b|\\x15|\\a|\\v|\\f|<br>|<space>|\\n)\"\n",
    "ESCAPE_SEQS = re.compile(pattern)\n",
    "\n",
    "for col in (\"title\", \"description\"):\n",
    "    control_chars = df[col].apply(lambda x: re.findall(ESCAPE_SEQS, x))\n",
    "    control_chars_found = [x for x in control_chars if x != []]\n",
    "\n",
    "    # Add issues to the list.\n",
    "    tmp = df.loc[control_chars[~control_chars.isin([[]])].index, [col, \"identifier\"]]\n",
    "    if len(tmp) > 0:\n",
    "        issues.extend(\n",
    "            [\n",
    "                (x, f\"Escape sequences in property «{col}»\", \"Text issue\")\n",
    "                for x in tmp.identifier\n",
    "            ]\n",
    "        )\n",
    "\n",
    "    if len(control_chars_found) > 0:\n",
    "        print(f\"{len(control_chars_found)} control characters found in {col}s\")"
   ]
  },
  {
   "cell_type": "code",
   "execution_count": 22,
   "metadata": {},
   "outputs": [
    {
     "name": "stdout",
     "output_type": "stream",
     "text": [
      "Strings with outlying length in description\n",
      "\n",
      "[\"Dreimal* wöchentliche SARS-CoV-2-RNA-Messungen aus Proben von dreizehn über den Kanton Zürich verteilten Abwasserreinigungsanlagen (ARA). Die analysierten Werte werden einige Tage darauf publiziert (einmal wöchentlich jeweils am Mittwoch). Daten enhalten: 'SARS-CoV-2 RNA im Rohabwasser pro 100'000 Personen', 'Zufluss zur ARA in Kubikmeter pro Tag', 'Einzugsgebiet (Anzahl an die ARA angeschlossene Einwohner:innen)'. Wichtiger Hinweis: Die Messungen von SARS-CoV-2-RNA im Abwasser unterliegen teilweise erheblichen Messfehlern. Eine Interpretation der Abwassermessungen von SARS-CoV-2 im Vergleich zu den Fallzahlen ist daher nur über längere Zeiträume aussagekräftig und hängt von der gewählten Skala ab. Die Daten sollten daher mit Vorsicht interpretiert werden, da ein grosser Spielraum für Fehlinterpretationen besteht. Im Zeitraum von Januar bis Anfang März 2022 wurde die Aktualisierung der Daten pausiert, um die Abweichungen des Abwassermonitorings von den gemeldeten positiven Fallzahlen zu untersuchen. Nachdem die Methode an die vorherrschende Virusvariante angepasst worden ist, werden die Daten rückwirkend ab Januar 2022 weiter aktualisiert.\\nAb Januar 2023 wird die Beprobung auf die ARAs Bülach, Dietikon, Illnau-Effretikon, Winterthur und Zürich (Werdhölzli) reduziert.\"\n",
      " 'Emissionen der wichtigsten Luftschadstoffe (BC, CO, NH3, NMVOC, NOx, PM10, PM2.5, SO2) im Kanton Zürich. Die Emissionsbilanzierung liegt bis auf Stufe Gemeinde und für verschiedene Zeitstände vor. Die Emissionsdaten der Stickoxide (NOx), Feinstaub (PM10 und PM2.5) sowie Russ (BC) wurden im Rahmen einer schweizweiten Aktualisierung der Karten für Luftschadstoffimmissionen Schweiz und Liechtenstein 2015, 2020, 2030 in Hektarrasterauflösung bilanziert. Die Datengrundlagen für die Emissionen bildet das Emissionsinformations-System Schweiz (EMIS) – die Datenbank des Bundesamts für Umwelt BAFU mit den nationalen Luftschadstoff- und Treibhausgasemissionen - zum Zeitpunkt Mitte 2019. In einer Ergänzungsstudie im Auftrag des BAFU wurden für dieselben Emittentengruppen anschliessend auch Emissionskataster in Hektarrasterauflösung für weitere Luftschadstoffe und Treibhausgase erstellt. Im Anschluss an die genannten Arbeiten hat die \\'Luftqualitätsüberwachung der Ostschweizer Kantone und des Fürstentums Liechtenstein\\' (OSTLUFT) die Arbeitsgemeinschaft INFRAS/Meteotest damit beauftragt, die Emissionen aller genannten Substanzen auf Stufe Gemeinden des OSTLUFT-Gebiets zu aggregieren und die Daten in geeigneter Form aufzubereiten mit dem Ziel, für die OSTLUFT-Gemeinden eine mit dem schweizerischen Emissionskataster konsistente Datengrundlage zur Verfügung zu haben. Eine Aktualisierung der Daten wurde mit gleicher Methodik aber basierend auf den Datengrundlagen aus dem Emissionsinformations-System Schweiz (EMIS) zum Zeitpunkt Mitte 2023 durchgeführt. Hinweis: Die Städte Winterthur und Zürich verfügen über eigenen Bilanzierungen der Luftschadstoffe auf ihrem Gebiet. Detailliertere Angaben dazu sind unter \"weitere Informationen\" verlinkt. '\n",
      " 'Der \"Remote Sensing Detector\" (RSD) ermöglicht berührungsfreie Messungen von Abgasen vorbeifahrender Fahrzeuge unter realen Verkehrsbedingungen. Diese Messungen können hauptsächlich dazu verwendet werden, Erkenntnisse über die Emissionen von Stickoxiden bestimmter Fahrzeugkategorien zu erlangen. Die Messungen liefern zudem Informationen über die Emissionen von Kohlenstoffmonoxid und Kohlenwasserstoffen. Die Emissionen der Fahrzeuge werden somit in realen Verkehrssituationen bestimmt und erlauben beispielsweise Aussagen über die Emissionen der Fahrzeugflotte, den Anteil hochemittierender Fahrzeuge am gesamten Fahrzeugbestand, dem Alterungsverhalten von Abgasreinigungssystemen sowie der Abhängigkeiten der Schadstoffwerte von einzelnen Abgasstufen (EURO-Normen). Darüber hinaus ermöglichen die Daten eine Untersuchung des Einflusses verkehrsbezogener Faktoren, wie etwa der Fahrdynamik, auf den Abgasausstoss. Der Datensatz enthält hunderttausende Messdaten aus Messkampagnen seit dem Jahr 2002 (jährlich, beziehungsweise seit dem Jahr 2022 mit Unterbrüchen), die mit ausreichendem Fachwissen eine aussagekräftige Auswertung zulassen. Weitere Informationen sind der abgelegten Datensatz-Beschreibung zu entnehmen. Für eine Methodendokumentation, Beispielauswertungen und deren fachliche Einordnung sei auf den verlinkten Fachbericht verwiesen.']\n",
      "\n"
     ]
    }
   ],
   "source": [
    "# Find titles or descriptions that are overly long or short.\n",
    "\n",
    "df[\"chars_title\"] = df.title.apply(len)\n",
    "df[\"chars_description\"] = df.description.apply(len)\n",
    "std_threshold = 5\n",
    "for col, col_charcount in zip(\n",
    "    [\"title\", \"description\"], [\"chars_title\", \"chars_description\"]\n",
    "):\n",
    "    mean = df[col_charcount].mean()\n",
    "    std = df[col_charcount].std()\n",
    "    outliers = df[col_charcount].apply(lambda x: abs(x - mean) > std_threshold * std)\n",
    "    if outliers.sum() > 0:\n",
    "        print(f\"Strings with outlying length in {col}\\n\")\n",
    "        print(f\"{df.loc[outliers, col].values}\")\n",
    "        print()"
   ]
  },
  {
   "cell_type": "code",
   "execution_count": 23,
   "metadata": {},
   "outputs": [
    {
     "name": "stdout",
     "output_type": "stream",
     "text": [
      "Dates found in titles\n",
      "\n",
      "[['1995-2008'], ['1995-2008'], ['1850-2000'], ['1995-1999'], ['1995–2005'], ['1994-2009'], ['27.02.2020', '03.01.2023'], ['15.03.2020'], ['06.07.2020', '15.08.2021'], ['29.10.2020', '02.05.2023'], ['14.05.2020', '30.03.2022'], ['18.01.2021', '12.10.2022'], ['30.05.2021', '02.05.2023'], ['1991-2001'], ['1999/2000'], ['17.06.07'], ['25.11.07'], ['24.2.2008'], ['1998-2007'], ['1985–2003'], ['1998–2002'], ['10.6.2018'], ['2000-2005'], ['2002-2004']]\n",
      "\n",
      "Dates found in descriptions\n",
      "\n",
      "[['2008 5610'], ['1979-1985', '1992-1997', '2004-2009', '2013-2018'], ['1979-1985', '1992-1997', '2004-2009', '2013-2018'], ['1979-1985', '1992-1997', '2004-2009', '2013-2018'], ['1979-1985', '1992-1997', '2004-2009', '2013-2018'], ['1979-1985', '1992-1997', '2004-2009', '2013-2018'], ['1979-1985', '1992-1997', '2004-2009', '2013-2018'], ['1979-1985', '1992-1997', '2004-2009', '2013-2018'], ['1999-2003'], ['2009/2010', '2010/2011'], ['13.06.2021'], ['2008 5610'], ['20.04.2015'], ['20.04.2015'], ['20.04.2015'], ['1974-2006'], ['1990–2015'], ['2006-2015'], ['29.11.2009'], ['2003-2008'], ['2009/2010'], ['26.9.2010'], ['03.01.2023'], ['22.9.2013'], ['18.5.2014'], ['28.9.2014'], ['30.11.2014'], ['2021-12', '02.05.2023'], ['1979/85', '2013/18'], ['22.10.2020', '31.12.2020', '04.01.2021'], ['04.03.2021'], ['1966–2018'], ['1990-2000'], ['1990-2000'], ['1990-2000'], ['1990-2000'], ['1990-2000'], ['1990-2000'], ['1999-2003'], ['1999-2003'], ['1990-2000'], ['28.11.2010'], ['13.2.2011'], ['15.5.2011'], ['1970–2050'], ['28.9.2008'], ['1999–2007'], ['30.11.2008'], ['1988-2008'], ['1970-2000'], ['1999–2014'], ['2010-2016'], ['23.9.2018'], ['1970–2017'], ['1970–2018'], ['1999–2019'], ['11.3.2012'], ['17.6.2012'], ['2003-2011'], ['23.9.2012'], ['25.11.2012'], ['2011/12'], ['1970-2000'], ['1991-2003'], ['1991-2005'], ['1950-2000'], ['19,20-64'], ['2007–2023'], ['2010–2023'], ['1945–2022'], ['49/2021'], ['2010–2020']]\n",
      "\n"
     ]
    }
   ],
   "source": [
    "# Find dates in titles and descriptions.\n",
    "\n",
    "date_pattern = re.compile(r\"\\d{2}.\\d{1,2}.\\d{2,4}\")\n",
    "for col in (\"title\", \"description\"):\n",
    "    dates_found = df[col].apply(lambda x: date_pattern.findall(x))\n",
    "    print(f\"Dates found in {col}s\\n\")\n",
    "    print(f\"{[x for x in dates_found if x != []]}\")\n",
    "    print()"
   ]
  },
  {
   "cell_type": "code",
   "execution_count": 24,
   "metadata": {},
   "outputs": [
    {
     "name": "stdout",
     "output_type": "stream",
     "text": [
      "Possible abbreviations found in titles\n",
      "\n",
      "['A', 'AHV', 'AL', 'ALV', 'B', 'BDP', 'Bauinv. ', 'C', 'CSP', 'CVP', 'D', 'Dienstl. ', 'Durchschn. ', 'E', 'EDU', 'EFH', 'EVP', 'Einw. ', 'Entsorg. ', 'F', 'FDP', 'FGA', 'GIS', 'GK', 'GLP', 'GP', 'GWR', 'I', 'IDG', 'II', 'ISOLA', 'J', 'J.', 'J. ', 'Kommunik. ', 'Krise. ', 'Kt. ', 'M', 'M.', 'MEI', 'MFH', 'MIV', 'PDA', 'PKS', 'PP', 'PW', 'Pers. ', 'RSD', 'S', 'SD', 'SP', 'SVP', 'Schulgem. ', 'Steuerb. ', 'Vol. ', 'ZL', 'ZVV', 'allg. ', 'arith. ', 'bedarfsabh. ', 'ber. ', 'inkl. ', 'jur. ', 'steuerpfl. ', 'u.m.', 'usw. ']\n",
      "\n",
      "Possible abbreviations found in descriptions\n",
      "\n",
      "['A', 'AB', 'AHV', 'AIG', 'AL', 'ALV', 'AP', 'API', 'APIs. ', 'ARA', 'AWEL', 'Abs. ', 'Anfragen. ', 'Ant. ', 'B', 'B.', 'B. ', 'BAFU', 'BAG', 'BC', 'BDP', 'BESTA', 'BFE', 'BFS', 'BIP', 'BUR', 'BVG', 'BWO', 'BY', 'BZ', 'Bauinv. ', 'Bilanz. ', 'Branche. ', 'C', 'CC', 'CET', 'CH', 'CHF', 'CO', 'COVID', 'CSP', 'CSV', 'CVP', 'D', 'D.', 'D.h.', 'DCAP', 'DCAT', 'DL', 'DWV', 'Dezember. ', 'Dienstl. ', 'Differenz. ', 'Durchschn. ', 'E', 'EDU', 'EFH', 'EFV', 'EGID', 'EHRA', 'EKZ', 'EMIS', 'EPSG', 'ETH', 'EU', 'EURO', 'EVP', 'EWZ', 'Einw. ', 'Einwohner. ', 'Energie. ', 'Entsorg. ', 'Ertrag. ', 'F', 'FAV', 'FDP', 'FGA', 'Folgen. ', 'Format. ', 'GDS', 'GF', 'GIS', 'GK', 'GLP', 'GP', 'GVM', 'GVZ', 'GWR', 'GWS', 'GWS. ', 'GWZ', 'Gebiet. ', 'Gemeinde. ', 'Gemeinden. ', 'Gesuche. ', 'HA', 'HF', 'Heiraten. ', 'Hellfeld. ', 'Hotels. ', 'I', 'I.', 'I. ', 'ID', 'IDG', 'II', 'INFRAS', 'ISOLA', 'Inkl. ', 'J', 'J.', 'J. ', 'Jahr. ', 'Jahre. ', 'Jahren.\\n', 'Jahren. ', 'Jahres. ', 'KBE', 'KVA', 'Kantonen. ', 'Kantonsrat. ', 'Kommunik. ', 'Kraft. ', 'Krise. ', 'Kt. ', 'LINDAS', 'Links. ', 'London. ', 'M', 'M.', 'MDV', 'MEI', 'MFH', 'MIV', 'MZMV', 'Mail. ', 'Menschen. ', 'Merkmale. ', 'Metadaten. ', 'Minuten. ', 'Mofas. ', 'NHF', 'NIS', 'NMVOC', 'NOGA', 'Nr. ', 'OECD', 'OGD', 'OSTLUFT', 'PBG', 'PDA', 'PDF', 'PKS', 'PP', 'PV', 'PW', 'Pers. ', 'Personen. ', 'Prozent. ', 'Quartal. ', 'Quartale. ', 'R', 'R.', 'R. ', 'RDF', 'RNA', 'RRB', 'RSD', 'S', 'SA', 'SAKE', 'SAP', 'SARS', 'SD', 'SEM', 'SIA', 'SP', 'SPARQL', 'STATENT', 'STATENT. ', 'STATPOP', 'SVP', 'Schafe. ', 'Schulgem. ', 'Schultypen. ', 'Sektor. ', 'Sektors. ', 'Statistik. ', 'Steueramt. ', 'Steueramts. ', 'Steuerb. ', 'Strom. ', 'T', 'TEI', 'TEI. ', 'TKR', 'Tausend. ', 'UMWEKO', 'URL', 'UTC', 'Urteils. ', 'Uster. ', 'V', 'V.', 'VUSTA', 'Verwaltung. ', 'Vol. ', 'Vorjahr. ', 'Vorjahres. ', 'WBT', 'WBT. ', 'WLAN', 'Wahlen. ', 'Winterthur. ', 'X', 'XML', 'ZEMIS', 'ZH', 'ZIP', 'ZL', 'ZVV', 'a. ', 'ab. ', 'abgebildet. ', 'abrufbar. ', 'aggregiert. ', 'allg. ', 'an. ', 'anfordern. ', 'angeboten. ', 'angepasst. ', 'arith. ', 'arithm. ', 'auf. ', 'auftreten. ', 'aufweisen. ', 'aus. ', 'ausstossen. ', 'bedarfsabh. ', 'ber. ', 'berechnet. ', 'bereinigt. ', 'bereit. ', 'besteht. ', 'besuchen.\\n', 'besuchen. ', 'betrieben. ', 'beurteilen. ', 'bezeichnet. ', 'beziehen. ', 'bezieht. ', 'bilanziert. ', 'bzw. ', 'ca. ', 'dabei. ', 'daraus. ', 'date. ', 'durch. ', 'ebenda. ', 'ehem. ', 'eidg. ', 'einzuholen. ', 'entgegen. ', 'enthalten.\\n', 'enthalten. ', 'entnehmen. ', 'erfasst. ', 'erhalten. ', 'erhoben.\\n', 'erhoben. ', 'erlangen. ', 'ermittelt. ', 'ersetzt. ', 'erstellen. ', 'erstellt. ', 'erwartet. ', 'erwerben. ', 'etc. ', 'exkl. ', 'fehlbetrag. ', 'gegliedert. ', 'gemacht. ', 'genutzt. ', 'gestaltet. ', 'getestet. ', 'h. ', 'haben. ', 'hat. ', 'hin. ', 'hinaus. ', 'hinterlegt. ', 'i.V.m.', 'i.d.R.', 'informiert. ', 'inkl. ', 'innen. ', 'ist. ', 'jur. ', 'kann. ', 'kant. ', 'leben. ', 'lit. ', 'm. ', 'max. ', 'mehr. ', 'muss. ', 'pausiert. ', 'procedures. ', 'publiziert. ', 'resp. ', 'sind. ', 'sollten. ', 'sorgt. ', 'steht. ', 'steuerpfl. ', 'tanks. ', 'u. ', 'u.a.', 'u.m.', 'umfasst. ', 'umgelagert. ', 'umgelegt. ', 'usw. ', 'verlinkt. ', 'verteilt. ', 'verwendet. ', 'vor. ', 'vorhanden. ', 'werden.\\n', 'werden. ', 'wird. ', 'wohnhaft. ', 'wurde. ', 'wurden. ', 'z. ', 'z.B.', 'zu. ', 'zulassen. ', 'zusammen. ', 'zuvor. ']\n",
      "\n"
     ]
    }
   ],
   "source": [
    "# Find abbreviations in titles and descriptions.\n",
    "\n",
    "results = []\n",
    "\n",
    "patterns = [\n",
    "    re.compile(r\"\\b(?:[A-Z]\\.)+\"),  # Single-letter abbreviations (e.g., \"z. B.\")\n",
    "    re.compile(\n",
    "        r\"\\b(?:[A-Za-z]\\.){2,}\"\n",
    "    ),  # Multi-letter abbreviations with periods (e.g., \"d.h.\")\n",
    "    re.compile(r\"\\b[A-Z]{1,}\\b\"),  # Abbreviations without periods (e.g., \"GMBH\", \"AG\")\n",
    "    re.compile(r\"\\b[A-Za-z]{1,10}\\.\\s\"),\n",
    "]\n",
    "\n",
    "for col in (\"title\", \"description\"):\n",
    "    print(f\"Possible abbreviations found in {col}s\\n\")\n",
    "    for abbr_pattern in patterns:\n",
    "        abbrs_found = df[col].apply(lambda x: abbr_pattern.findall(x))\n",
    "        results.extend(abbrs_found.to_list())\n",
    "        # print(f\"{[x for x in abbrs_found if x != []]} abbreviations found in {col}s\")\n",
    "    print(sorted(set([y for x in results for y in x])))\n",
    "    print()"
   ]
  },
  {
   "cell_type": "code",
   "execution_count": 25,
   "metadata": {},
   "outputs": [
    {
     "name": "stdout",
     "output_type": "stream",
     "text": [
      "11 datasets have a copied title as description.\n"
     ]
    }
   ],
   "source": [
    "copied_titles = df[df.title == df.description][[\"identifier\", \"title\", \"description\"]]\n",
    "print(f\"{len(copied_titles)} datasets have a copied title as description.\")\n",
    "df[df.title == df.description][[\"identifier\", \"title\", \"description\"]]\n",
    "\n",
    "# Add issues to the list.\n",
    "tmp = copied_titles[[\"identifier\", \"title\"]]\n",
    "if len(tmp) > 0:\n",
    "    issues.extend(\n",
    "        [(x, f\"Copied title as description\", \"Text issue\") for x in tmp.identifier]\n",
    "    )"
   ]
  },
  {
   "cell_type": "markdown",
   "metadata": {},
   "source": [
    "## Use LLMs to validate titles and descriptions globally"
   ]
  },
  {
   "cell_type": "code",
   "execution_count": 83,
   "metadata": {},
   "outputs": [
    {
     "name": "stdout",
     "output_type": "stream",
     "text": [
      "Bei der Überprüfung der kommagetrennten Liste von Datensatz-Titeln im Datenkatalog habe ich folgende Anomalien und Auffälligkeiten festgestellt:\n",
      "\n",
      "1. **Doppelte Einträge**:\n",
      "   - `'Abfall im Kanton Zürich'` erscheint dreimal in der Liste.\n",
      "     - Beispiel: `'Abfall im Kanton Zürich', 'Abfall im Kanton Zürich', 'Abfall im Kanton Zürich'`\n",
      "     - **Kommentar**: Doppelte Einträge können zu Verwirrung führen und die Konsistenz des Datenkatalogs beeinträchtigen.\n",
      "\n",
      "2. **Uneinheitliche Schreibweise**:\n",
      "   - `'Aerzte [Anz.]'` und `'Ärzte [Anz.]'` sowie `'Zahnärzte [Anz.]'` und `'Zahnärzte [pro 1000 Einw.]'`.\n",
      "     - Beispiel: `'Aerzte [Anz.]', 'Ärzte [Anz.]'`\n",
      "     - **Kommentar**: Uneinheitliche Schreibweisen erschweren die Suche und Filterung nach bestimmten Datensätzen.\n",
      "\n",
      "3. **Unklare bzw. unpräzise Titel**:\n",
      "   - `'Reiche Rentner?'`\n",
      "     - **Kommentar**: Der Titel ist unklar und enthält ein Fragezeichen, was für Datensätze ungewöhnlich ist. Präzisere und beschreibende Titel sind vorzuziehen.\n",
      "\n",
      "4. **Unterschiedliche Formatierungen**:\n",
      "   - `'Volkszählung 2000'` und `'Volkszählung 2000 – die Region Zürich wächst'`\n",
      "     - Beispiel: `'Volkszählung 2000', 'Volkszählung 2000 – die Region Zürich wächst'`\n",
      "     - **Kommentar**: Unterschiedliche Formatierungen und Ergänzungen können zu Verwirrung führen, wenn ähnliche Datensätze unterschiedlich benannt werden.\n",
      "\n",
      "5. **Sonderzeichen und Anführungszeichen**:\n",
      "   - `'Der «Ernährereffekt»'` und `'Frauenlöhne, Männerlöhne.'`\n",
      "     - Beispiel: `'Der «Ernährereffekt»', 'Frauenlöhne, Männerlöhne.'`\n",
      "     - **Kommentar**: Sonderzeichen und Anführungszeichen können in verschiedenen Systemen zu Problemen führen und sollten einheitlich verwendet oder vermieden werden.\n",
      "\n",
      "6. **Mehrdeutige Titel**:\n",
      "   - `'Über die Grenze'`\n",
      "     - **Kommentar**: Der Titel ist zu allgemein und gibt keinen klaren Hinweis auf den Inhalt des Datensatzes.\n",
      "\n",
      "7. **Fehlende Einheiten oder Maßangaben**:\n",
      "   - `'Leerwohnungszahlen'`\n",
      "     - **Kommentar**: Es ist unklar, ob es sich um absolute Zahlen oder Prozentsätze handelt. Einheiten oder Maßangaben sollten, wenn möglich, immer angegeben werden.\n",
      "\n",
      "8. **Inkonsistente Abkürzungen**:\n",
      "   - `'VZÄ im Primärsektor [Anz.]'` und `'Total VZÄ [Anz.]'`\n",
      "     - Beispiel: `'VZÄ im Primärsektor [Anz.]', 'Total VZÄ [Anz.]'`\n",
      "     - **Kommentar**: Die Abkürzung \"VZÄ\" (Vollzeitäquivalente) sollte einheitlich verwendet werden und gegebenenfalls erklärt werden.\n",
      "\n",
      "9. **Redundante Informationen**:\n",
      "   - `'COVID_19 Massnahmen im Kanton Zürich'` und `'COVID_19 Gesellschaftsmonitoring des Kantons Zürich'`\n",
      "     - **Kommentar**: Mehrere Datensätze zu ähnlichen Themen sollten konsolidiert oder klar differenziert werden.\n",
      "\n",
      "**Zusammenfassung**:\n",
      "- Doppelte Einträge sollten entfernt oder konsolidiert werden.\n",
      "- Einheitliche Schreibweisen und Formatierungen sind wichtig für die Konsistenz.\n",
      "- Präzise und beschreibende Titel verbessern die Verständlichkeit.\n",
      "- Sonderzeichen und Anführungszeichen sollten einheitlich verwendet oder vermieden werden.\n",
      "- Einheiten und Maßangaben sollten klar angegeben werden.\n",
      "- Redundante Informationen sollten vermieden oder klar differenziert werden.\n"
     ]
    }
   ],
   "source": [
    "# This takes ~20 seconds and cost next to nothing token-wise.\n",
    "titles = sorted(df.title.values, key=lambda x: len(x))\n",
    "titles = \"'\" + \"', '\".join(titles) + \"'\"\n",
    "response = check_text_properties(\"Titel\", titles)\n",
    "print(response)"
   ]
  },
  {
   "cell_type": "code",
   "execution_count": 27,
   "metadata": {},
   "outputs": [
    {
     "name": "stdout",
     "output_type": "stream",
     "text": [
      "Bei der Überprüfung der Datenkatalog-Beschreibungen fallen mehrere Anomalien und Auffälligkeiten auf. Hier sind die wichtigsten Punkte:\n",
      "\n",
      "1. **Häufige Wiederholung von \"null\"**:\n",
      "   - `'null', 'null', 'null', 'null', 'null', 'null', 'null', 'null', 'null', 'null', 'null', 'null', 'null', 'null', 'null', 'null', 'null', 'null', 'null', 'null', 'null', 'null', 'null', 'null', 'null', 'null', 'null', 'null', 'null', 'null', 'null', 'null', 'null', 'null', 'null', 'null', 'null', 'null', 'null', 'null', 'null', 'null', 'null', 'null', 'null', 'null', 'null', 'null', 'null', 'null'`\n",
      "   - **Kommentar**: Die wiederholte Angabe von `'null'` deutet darauf hin, dass viele Datensätze keine Beschreibung haben oder dass es sich um Platzhalter handelt. Dies ist problematisch, da es die Übersichtlichkeit und Nützlichkeit des Datenkatalogs beeinträchtigt.\n",
      "\n",
      "2. **Doppelte Einträge**:\n",
      "   - `'Statistische Analyse', 'Statistische Analyse'`\n",
      "   - `'Kurzanalyse aus der Broschüre «Kanton Zürich in Zahlen»', 'Kurzanalyse aus der Broschüre «Kanton Zürich in Zahlen»', 'Kurzanalyse aus der Broschüre «Kanton Zürich in Zahlen»', 'Kurzanalyse aus der Broschüre «Kanton Zürich in Zahlen»', 'Kurzanalyse aus der Broschüre «Kanton Zürich in Zahlen»', 'Kurzanalyse aus der Broschüre «Kanton Zürich in Zahlen»', 'Kurzanalyse aus der Broschüre «Kanton Zürich in Zahlen»', 'Kurzanalyse aus der Broschüre «Kanton Zürich in Zahlen»', 'Kurzanalyse aus der Broschüre «Kanton Zürich in Zahlen»', 'Kurzanalyse aus der Broschüre «Kanton Zürich in Zahlen»', 'Kurzanalyse aus der Broschüre «Kanton Zürich in Zahlen»', 'Kurzanalyse aus der Broschüre «Kanton Zürich in Zahlen»', 'Kurzanalyse aus der Broschüre «Kanton Zürich in Zahlen»', 'Kurzanalyse aus der Broschüre «Kanton Zürich in Zahlen»', 'Kurzanalyse aus der Broschüre «Kanton Zürich in Zahlen»', 'Kurzanalyse aus der Broschüre «Kanton Zürich in Zahlen»', 'Kurzanalyse aus der Broschüre «Kanton Zürich in Zahlen»', 'Kurzanalyse aus der Broschüre «Kanton Zürich in Zahlen»', 'Kurzanalyse aus der Broschüre «Kanton Zürich in Zahlen»', 'Kurzanalyse aus der Broschüre «Kanton Zürich in Zahlen»', 'Kurzanalyse aus der Broschüre «Kanton Zürich in Zahlen»', 'Kurzanalyse aus der Broschüre «Kanton Zürich in Zahlen»', 'Kurzanalyse aus der Broschüre «Kanton Zürich in Zahlen»', 'Kurzanalyse aus der Broschüre «Kanton Zürich in Zahlen»', 'Kurzanalyse aus der Broschüre «Kanton Zürich in Zahlen»', 'Kurzanalyse aus der Broschüre «Kanton Zürich in Zahlen»', 'Kurzanalyse aus der Broschüre «Kanton Zürich in Zahlen»', 'Kurzanalyse aus der Broschüre «Kanton Zürich in Zahlen»', 'Kurzanalyse aus der Broschüre «Kanton Zürich in Zahlen»', 'Kurzanalyse aus der Broschüre «Kanton Zürich in Zahlen»', 'Kurzanalyse aus der Broschüre «Kanton Zürich in Zahlen»'`\n",
      "   - **Kommentar**: Doppelte oder vielfach wiederholte Einträge können zu Verwirrung führen und die Effizienz der Datensuche und -nutzung mindern.\n",
      "\n",
      "3. **Unvollständige oder ungenaue Beschreibungen**:\n",
      "   - `'Anzahl Schweine '` (mit einem nachgestellten Leerzeichen)\n",
      "   - `'Eine Analyse der Strukturerhebung 2011'` und ähnliche Beschreibungen ohne spezifische Details.\n",
      "   - **Kommentar**: Unvollständige oder ungenaue Beschreibungen können die Verständlichkeit und den Nutzen der Datensätze beeinträchtigen.\n",
      "\n",
      "4. **Inkonsequente Formatierung**:\n",
      "   - `'Informationen zu den Daten finden sich im Tabellenblatt.'` vs. `'Informationen zu den Daten finden sich im Tabellenblatt Hinweise.'`\n",
      "   - `'Steuerkraft absolut (Nettosteuerertrag zu 100%).'` vs. `'Steuerkraft absolut (Nettosteuerertrag zu 100%): arithm. Mittel der letzten 3 Jahre.'`\n",
      "   - **Kommentar**: Inkonsequente Formatierung kann die Lesbarkeit und die Vergleichbarkeit der Datensätze erschweren.\n",
      "\n",
      "5. **Veraltete oder nicht mehr relevante Einträge**:\n",
      "   - `'Daten werden nicht mehr nachgeführt.'`, `'Dieser Datensatz wird nicht mehr aktualisiert.'`\n",
      "   - **Kommentar**: Veraltete oder nicht mehr relevante Einträge sollten klar gekennzeichnet oder entfernt werden, um die Aktualität und Relevanz des Datenkatalogs zu gewährleisten.\n",
      "\n",
      "6. **Unklare oder zu allgemeine Beschreibungen**:\n",
      "   - `'Eine Kurzanalyse'`, `'Eine Analyse'`, `'Eine Einschätzung'`\n",
      "   - **Kommentar**: Zu allgemeine Beschreibungen bieten keine ausreichenden Informationen über den Inhalt und die Nützlichkeit des Datensatzes.\n",
      "\n",
      "7. **Doppelte und redundante Angaben**:\n",
      "   - `'Informationen zu den Daten finden sich im Tabellenblatt Hinweise.', 'Informationen zu den Daten finden sich im Tabellenblatt Hinweise.'`\n",
      "   - **Kommentar**: Redundante Angaben sollten vermieden werden, um die Übersichtlichkeit zu verbessern.\n",
      "\n",
      "Diese Anomalien sollten behoben werden, um die Datenqualität zu verbessern und die Nutzung des Datenkatalogs zu erleichtern.\n"
     ]
    }
   ],
   "source": [
    "descriptions = sorted(df.description.values, key=lambda x: len(x))\n",
    "descriptions = \"'\" + \"', '\".join(descriptions) + \"'\"\n",
    "response = check_text_properties(\"Beschreibungen\", descriptions)\n",
    "print(response)"
   ]
  },
  {
   "cell_type": "markdown",
   "metadata": {},
   "source": [
    "## Dates"
   ]
  },
  {
   "cell_type": "code",
   "execution_count": 28,
   "metadata": {},
   "outputs": [
    {
     "name": "stdout",
     "output_type": "stream",
     "text": [
      "2 dates in startDate can't be parsed.\n"
     ]
    }
   ],
   "source": [
    "# Check if dates can be parsed.\n",
    "\n",
    "for date_feature in [\"issued\", \"modified\"]:\n",
    "    tmp = pd.to_datetime(\n",
    "        df[date_feature].dropna(), errors=\"coerce\", format=\"%Y-%m-%dT%H:%M:%S\"\n",
    "    )\n",
    "\n",
    "    # Add issues to the list.\n",
    "    if len(tmp[tmp.isna()]) > 0:\n",
    "        issues.extend(\n",
    "            [\n",
    "                (x, f\"Date in property {date_feature} can't be parsed\", \"Date issue\")\n",
    "                for x in df[tmp.isna()].identifier\n",
    "            ]\n",
    "        )\n",
    "\n",
    "    to_check = tmp[tmp.isna()].index\n",
    "    if len(to_check) > 0:\n",
    "        print(f\"{len(to_check)} dates of «{date_feature}» can't be parsed.\")\n",
    "\n",
    "for date_feature in [\"startDate\", \"endDate\"]:\n",
    "    tmp = pd.to_datetime(df[date_feature].dropna(), errors=\"coerce\", format=\"%Y-%m-%d\")\n",
    "\n",
    "    # Add issues to the list.\n",
    "    if len(tmp[tmp.isna()].index) > 0:\n",
    "        issues.extend(\n",
    "            [\n",
    "                (x, f\"Date in property {date_feature} can't be parsed\", \"Date issue\")\n",
    "                for x in df.dropna(subset=[date_feature])[tmp.isna()].identifier\n",
    "            ]\n",
    "        )\n",
    "\n",
    "    to_check = tmp[tmp.isna()].index\n",
    "    if len(to_check) > 0:\n",
    "        print(f\"{len(to_check)} dates in {date_feature} can't be parsed.\")"
   ]
  },
  {
   "cell_type": "code",
   "execution_count": 29,
   "metadata": {},
   "outputs": [],
   "source": [
    "# Convert date strings to datetime objects.\n",
    "\n",
    "df.startDate = pd.to_datetime(df.startDate, errors=\"coerce\", format=\"%Y-%m-%d\")\n",
    "df.endDate = pd.to_datetime(df.endDate, errors=\"coerce\", format=\"%Y-%m-%d\")"
   ]
  },
  {
   "cell_type": "code",
   "execution_count": 30,
   "metadata": {},
   "outputs": [
    {
     "name": "stdout",
     "output_type": "stream",
     "text": [
      "15 dates in startDate are identical with their endDate.\n",
      "\n",
      "                                                 title  startDate    endDate\n",
      "32                                       Höhe [m.ü.M.] 1995-12-31 1995-12-31\n",
      "246                         Staatssteuerstatistik 2003 2003-12-31 2003-12-31\n",
      "260          Dokumente Quartieranalyse für GIS Browser 2021-12-31 2021-12-31\n",
      "291  Vom Covid-19-Lockdown besonders betroffene Hau... 2019-12-31 2019-12-31\n",
      "413                     Wahlbeteiligung Kantonsrat [%] 2023-12-31 2023-12-31\n",
      "710  Resultate und Wahlbeteiligung Kantonsratswahl ... 2023-02-12 2023-02-12\n",
      "720  Vergleich der Standortattraktivität des Kanton... 2023-12-31 2023-12-31\n",
      "731        Echtzeitdaten am Wahltag des Kantons Zürich 2023-02-12 2023-02-12\n",
      "734  Vorlage für die Auswertung des GWR nach Bautät... 2023-05-31 2023-05-31\n",
      "735      Kantonsratswahlen: Wähleranteil Die Mitte [%] 2023-12-31 2023-12-31\n",
      "743          Politische Profile veränderter Wahlzettel 2019-10-20 2019-10-20\n",
      "744  Resultate und Wahlbeteiligung Regierungsratswa... 2023-02-12 2023-02-12\n",
      "745  Resultate und Wahlbeteiligung Nationalratswahl... 2023-10-22 2023-10-22\n",
      "748     Nationalratswahlen: Wähleranteil Die Mitte [%] 2023-12-31 2023-12-31\n",
      "756             Gebäude und Wohnungen im Kanton Zürich 2024-03-31 2024-03-31\n"
     ]
    }
   ],
   "source": [
    "# Find startDates that occur after endDate.\n",
    "\n",
    "tmp = df[[\"startDate\", \"endDate\"]].dropna()\n",
    "tmp = tmp[tmp.startDate > tmp.endDate]\n",
    "if len(tmp) > 0:\n",
    "    print(f\"{len(tmp)} startDates occur after endDate\")\n",
    "    print(df.loc[tmp.index, [\"title\", \"startDate\", \"endDate\"]])\n",
    "    print()\n",
    "\n",
    "tmp = df[[\"startDate\", \"endDate\"]].dropna()\n",
    "tmp = tmp[tmp.startDate == tmp.endDate]\n",
    "print(f\"{len(tmp)} dates in startDate are identical with their endDate.\\n\")\n",
    "if len(tmp) > 0:\n",
    "    print(df.loc[tmp.index, [\"title\", \"startDate\", \"endDate\"]])"
   ]
  },
  {
   "cell_type": "code",
   "execution_count": 31,
   "metadata": {},
   "outputs": [
    {
     "name": "stdout",
     "output_type": "stream",
     "text": [
      "8 endDates are in the future.\n",
      "                                                 title  startDate    endDate\n",
      "113                Steuerfuss juristische Personen [%] 1990-12-31 2024-12-31\n",
      "168                      Steuerfuss (ohne Kirchen) [%] 2012-12-31 2024-12-31\n",
      "259                            Zürcher Finanzausgleich 2012-12-31 2024-12-31\n",
      "336  Steuerfüsse der Zürcher Gemeinden für natürlic... 2012-12-31 2024-12-31\n",
      "340         Bevölkerungsprognose für den Kanton Zürich 2010-12-31 2050-12-31\n",
      "721             Anzahl Kantonsratssitze nach Wahlkreis 1935-01-01 2027-01-01\n",
      "769  Verkehrsnachfrage im ÖV, MIV und im Veloverkeh... 2018-12-31 2040-12-31\n",
      "778  Dokumentation zur Bevölkerungsprognose für den... 1981-12-31 2050-12-31\n",
      "\n"
     ]
    }
   ],
   "source": [
    "# Filter all dates that lie in the future.\n",
    "\n",
    "for feature in [\"startDate\", \"endDate\"]:\n",
    "    tmp = df[feature].dropna()\n",
    "    tmp = tmp[tmp > pd.Timestamp.now()]\n",
    "    if len(tmp) > 0:\n",
    "        print(f\"{len(tmp)} {feature}s are in the future.\")\n",
    "        print(df.loc[tmp.index, [\"title\", \"startDate\", \"endDate\"]])\n",
    "        print()"
   ]
  },
  {
   "cell_type": "code",
   "execution_count": 32,
   "metadata": {},
   "outputs": [
    {
     "data": {
      "image/png": "[encoded data removed]",
      "text/plain": [
       "<Figure size 700x200 with 1 Axes>"
      ]
     },
     "metadata": {
      "image/png": {
       "height": 212,
       "width": 599
      }
     },
     "output_type": "display_data"
    },
    {
     "data": {
      "image/png": "[encoded data removed]",
      "text/plain": [
       "<Figure size 700x200 with 1 Axes>"
      ]
     },
     "metadata": {
      "image/png": {
       "height": 212,
       "width": 590
      }
     },
     "output_type": "display_data"
    },
    {
     "data": {
      "image/png": "[encoded data removed]",
      "text/plain": [
       "<Figure size 700x200 with 1 Axes>"
      ]
     },
     "metadata": {
      "image/png": {
       "height": 212,
       "width": 590
      }
     },
     "output_type": "display_data"
    },
    {
     "data": {
      "image/png": "[encoded data removed]",
      "text/plain": [
       "<Figure size 700x200 with 1 Axes>"
      ]
     },
     "metadata": {
      "image/png": {
       "height": 212,
       "width": 590
      }
     },
     "output_type": "display_data"
    }
   ],
   "source": [
    "# Plot date features.\n",
    "\n",
    "df.issued = pd.to_datetime(df.issued, format=\"%Y-%m-%dT%H:%M:%S\")\n",
    "df.modified = pd.to_datetime(df.modified, format=\"%Y-%m-%dT%H:%M:%S\")\n",
    "df.endDate = pd.to_datetime(df.endDate, format=\"%Y-%m-%d\")\n",
    "\n",
    "for date_feature in [\"issued\", \"modified\", \"startDate\", \"endDate\"]:\n",
    "    fig, ax = plt.subplots(figsize=(7, 2))\n",
    "    if date_feature == \"startDate\":\n",
    "        to_drop = df.startDate.sort_values().head(2).index\n",
    "        tmp = df.drop(to_drop)\n",
    "        tmp = tmp.dropna(subset=[\"startDate\"])\n",
    "        tmp.startDate = pd.to_datetime(tmp.startDate, format=\"%Y-%m-%d\")\n",
    "        tmp.groupby(tmp[date_feature].dt.year)[date_feature].count().plot(\n",
    "            kind=\"line\", marker=\"o\", ax=ax\n",
    "        )\n",
    "    else:\n",
    "        df.groupby(df[date_feature].dt.year)[date_feature].count().plot(\n",
    "            kind=\"line\", marker=\"o\", ax=ax\n",
    "        )\n",
    "    ax.set_xlabel(\"\")\n",
    "    ax.set_title(f\"Dataset counts based on «{date_feature}» per year\")\n",
    "    plt.show(fig)"
   ]
  },
  {
   "cell_type": "markdown",
   "metadata": {},
   "source": [
    "# Examine properties"
   ]
  },
  {
   "cell_type": "markdown",
   "metadata": {},
   "source": [
    "## Mandatory: `identifier`\n",
    "According to DCAT the property `identifier` may be used as part of the URI of the Dataset."
   ]
  },
  {
   "cell_type": "code",
   "execution_count": 33,
   "metadata": {},
   "outputs": [
    {
     "data": {
      "text/plain": [
       "identifier\n",
       "afm-kanton-zuerich                         1\n",
       "aln-kanton-zuerich                         1\n",
       "are-kanton-zuerich                         3\n",
       "awel-kanton-zuerich                       11\n",
       "awi-kanton-zuerich                         1\n",
       "bildungsstatistik-kanton-zuerich           8\n",
       "ekz                                        1\n",
       "fachstelle-ogd-kanton-zuerich             15\n",
       "finanzverwaltung-kanton-zuerich            1\n",
       "gemeindeamt-kanton-zuerich                 1\n",
       "gesundheitsdirektion-kanton-zuerich        9\n",
       "handelsregisteramt-kanton-zuerich          1\n",
       "ima-kanton-zuerich                         1\n",
       "kantonspolizei-kanton-zuerich              3\n",
       "oberjugendanwaltschaft-kanton-zuerich      1\n",
       "personalamt-kanton-zuerich                 1\n",
       "staatsarchiv-kanton-zuerich                7\n",
       "staatskanzlei-kanton-zuerich               1\n",
       "stadt-uster                                4\n",
       "stadt-winterthur                          14\n",
       "statistisches-amt-kanton-zuerich         709\n",
       "tiefbauamt-kanton-zuerich                  1\n",
       "volksschulamt-kanton-zuerich               1\n",
       "Name: count, dtype: int64"
      ]
     },
     "execution_count": 33,
     "metadata": {},
     "output_type": "execute_result"
    }
   ],
   "source": [
    "df.identifier.apply(lambda x: x.split(\"@\")[-1]).value_counts().sort_index()"
   ]
  },
  {
   "cell_type": "markdown",
   "metadata": {},
   "source": [
    "## Mandatory: `contactPoint`\n",
    "- `contactPoint` must contain an email address that is continuously monitored."
   ]
  },
  {
   "cell_type": "code",
   "execution_count": 34,
   "metadata": {},
   "outputs": [
    {
     "name": "stdout",
     "output_type": "stream",
     "text": [
      "53 unique email addresses found in contactPoint.\n"
     ]
    },
    {
     "data": {
      "text/plain": [
       "['andrea.schnell@statistik.ji.zh.ch',\n",
       " 'basil.schlaepfer@statistik.ji.zh.ch',\n",
       " 'bista@bi.zh.ch',\n",
       " 'daniel.cahn@statistik.ji.zh.ch',\n",
       " 'datashop@statistik.zh.ch',\n",
       " 'datenlogistik@bd.zh.ch',\n",
       " 'davi@kl.zh.ch',\n",
       " 'dm@statistik.ji.zh.ch',\n",
       " 'fachstellekultur@ji.zh.ch',\n",
       " 'finanzhaushalt@fdfv.zh.ch',\n",
       " 'fm-steuerung@bd.zh.ch',\n",
       " 'gdstab@gd.zh.ch',\n",
       " 'gian-marco.alt@bd.zh.ch',\n",
       " 'hr-controlling@pa.zh.ch',\n",
       " 'info.aw@bd.zh.ch',\n",
       " 'info@kl.zh.ch',\n",
       " 'info@open.zh.ch',\n",
       " 'info@vsa.zh.ch',\n",
       " 'irene.boeckmann@statistik.ji.zh.ch',\n",
       " 'iris.wurmitzer@statistik.ji.zh.ch',\n",
       " 'joerg.sintermann@bd.zh.ch',\n",
       " 'kanzlei.hra@ji.zh.ch',\n",
       " 'katharina.kaelin@statistik.ji.zh.ch',\n",
       " 'kdm-kla@kapo.zh.ch',\n",
       " 'kindheit@uster.ch',\n",
       " 'kontakt.gaz@ji.zh.ch',\n",
       " 'kultursekretariat@uster.ch',\n",
       " 'luft@bd.zh.ch',\n",
       " 'michael.schiess@statistik.ji.zh.ch',\n",
       " 'mirjam.baumann@bd.zh.ch',\n",
       " 'naturschutz@bd.zh.ch',\n",
       " 'netzwirtschaft@ekz.ch',\n",
       " 'nora.wight@statistik.ji.zh.ch',\n",
       " 'peter.moser@statistik.ji.zh.ch',\n",
       " 'quartier@uster.ch',\n",
       " 'raumbeobachtung@bd.zh.ch',\n",
       " 'sandra.surber@statistik.ji.zh.ch',\n",
       " 'sarah.reimann@ji.zh.ch',\n",
       " 'sebastian.weingartner@statistik.ji.zh.ch',\n",
       " 'silvia.wuermli@statistik.ji.zh.ch',\n",
       " 'staatsarchivzh@ji.zh.ch',\n",
       " 'stadtwerk.messdaten@win.ch',\n",
       " 'standort@vd.zh.ch',\n",
       " 'statistik@win.ch',\n",
       " 'stefan.bruehwiler@baurekursgericht-zh.ch',\n",
       " 'stefan.dasen@vd.zh.ch',\n",
       " 'tba.vo@bd.zh.ch',\n",
       " 'thomas.hofer@statistik.ji.zh.ch',\n",
       " 'umfragen@statistik.ji.zh.ch',\n",
       " 'umwelt@win.ch',\n",
       " 'urs.utiger@statistik.ji.zh.ch',\n",
       " 'vpsa@kapo.zh.ch',\n",
       " 'wahlen@statistik.ji.zh.ch']"
      ]
     },
     "execution_count": 34,
     "metadata": {},
     "output_type": "execute_result"
    }
   ],
   "source": [
    "assert df.contactPoint.isna().sum() == 0\n",
    "email = list(set(df.contactPoint.apply(lambda x: x[0][\"email\"]).values))\n",
    "email = [x.lower() for x in email]\n",
    "email = [x for x in email if \"@\" in x]\n",
    "print(f\"{len(email)} unique email addresses found in contactPoint.\")\n",
    "sorted(email)"
   ]
  },
  {
   "cell_type": "code",
   "execution_count": 35,
   "metadata": {},
   "outputs": [
    {
     "name": "stdout",
     "output_type": "stream",
     "text": [
      "We have 34 empty orgUnit fields in contactPoint.\n",
      "\n"
     ]
    }
   ],
   "source": [
    "for col in (\"email\", \"org\", \"orgUnit\"):\n",
    "    tmp = df.contactPoint.apply(lambda x: True if x[0][col] is None else False)\n",
    "    if tmp.sum() > 0:\n",
    "        print(f\"We have {tmp.sum()} empty {col} fields in contactPoint.\\n\")\n",
    "\n",
    "    # Add issues to the list.\n",
    "    issues.extend(\n",
    "        [\n",
    "            (x, f\"Empty values in property contactPoint {col}\", \"Missing values\")\n",
    "            for x in df.loc[tmp].identifier\n",
    "        ]\n",
    "    )"
   ]
  },
  {
   "cell_type": "markdown",
   "metadata": {},
   "source": [
    "## Mandatory: `publisher`"
   ]
  },
  {
   "cell_type": "code",
   "execution_count": 36,
   "metadata": {},
   "outputs": [
    {
     "data": {
      "text/plain": [
       "publisher\n",
       "[Statistisches Amt des Kantons Zürich]                           709\n",
       "[Fachstelle Open Government Data des Kantons Zürich]              15\n",
       "[Stadt Winterthur]                                                14\n",
       "[Amt für Abfall, Wasser, Energie und Luft des Kantons Zürich]     11\n",
       "[Gesundheitsdirektion des Kantons Zürich]                          9\n",
       "[Bildungsstatistik des Kantons Zürich]                             8\n",
       "[Staatsarchiv des Kantons Zürich]                                  7\n",
       "[Stadt Uster]                                                      4\n",
       "[Kantonspolizei des Kantons Zürich]                                3\n",
       "[Amt für Raumentwicklung des Kantons Zürich]                       3\n",
       "[Personalamt des Kantons Zürich]                                   1\n",
       "[Amt für Mobilität des Kantons Zürich]                             1\n",
       "[Amt für Landschaft und Natur]                                     1\n",
       "[Immobilienamt des Kantons Zürich]                                 1\n",
       "[Elektrizitätswerke des Kantons Zürich EKZ]                        1\n",
       "[Handelsregisteramt des Kantons Zürich]                            1\n",
       "[Volksschulamt des Kantons Zürich]                                 1\n",
       "[Amt für Wirtschaft des Kantons Zürich]                            1\n",
       "[Staatskanzlei des Kantons Zürich]                                 1\n",
       "[Gemeindeamt des Kantons Zürich]                                   1\n",
       "[Tiefbauamt des Kantons Zürich]                                    1\n",
       "[Oberjugendanwaltschaft des Kantons Zürich]                        1\n",
       "[Finanzverwaltung des Kantons Zürich]                              1\n",
       "Name: count, dtype: int64"
      ]
     },
     "execution_count": 36,
     "metadata": {},
     "output_type": "execute_result"
    }
   ],
   "source": [
    "df.publisher.value_counts()"
   ]
  },
  {
   "cell_type": "markdown",
   "metadata": {},
   "source": [
    "## Recommended: `theme`\n",
    "A Dataset may be associated with multiple themes. "
   ]
  },
  {
   "cell_type": "code",
   "execution_count": 37,
   "metadata": {},
   "outputs": [
    {
     "name": "stdout",
     "output_type": "stream",
     "text": [
      "We have 10 unique themes in the dataset.\n"
     ]
    },
    {
     "data": {
      "text/plain": [
       "['http://publications.europa.eu/resource/authority/data-theme/AGRI',\n",
       " 'http://publications.europa.eu/resource/authority/data-theme/ECON',\n",
       " 'http://publications.europa.eu/resource/authority/data-theme/EDUC',\n",
       " 'http://publications.europa.eu/resource/authority/data-theme/ENER',\n",
       " 'http://publications.europa.eu/resource/authority/data-theme/ENVI',\n",
       " 'http://publications.europa.eu/resource/authority/data-theme/GOVE',\n",
       " 'http://publications.europa.eu/resource/authority/data-theme/HEAL',\n",
       " 'http://publications.europa.eu/resource/authority/data-theme/JUST',\n",
       " 'http://publications.europa.eu/resource/authority/data-theme/SOCI',\n",
       " 'http://publications.europa.eu/resource/authority/data-theme/TRAN']"
      ]
     },
     "metadata": {},
     "output_type": "display_data"
    }
   ],
   "source": [
    "themes = [y for x in df.theme.values.tolist() for y in x if y is not None]\n",
    "themes_categories = list(set(themes))\n",
    "print(f\"We have {len(themes_categories):,.0f} unique themes in the dataset.\")\n",
    "display(sorted(list(themes_categories)))"
   ]
  },
  {
   "cell_type": "code",
   "execution_count": 38,
   "metadata": {},
   "outputs": [],
   "source": [
    "out_of_vocab = [x for x in themes_categories if x not in VOCAB_EU_THEME]\n",
    "if len(out_of_vocab) > 0:\n",
    "    print(f\"{len(out_of_vocab)} themes are not in the EU theme vocabulary.\")"
   ]
  },
  {
   "cell_type": "code",
   "execution_count": 39,
   "metadata": {},
   "outputs": [],
   "source": [
    "empties = df.theme.apply(lambda x: len([y for y in x if y is None]))\n",
    "if empties.sum() > 0:\n",
    "    print(f\"{len(empties.sum())} datasets have empty themes.\")"
   ]
  },
  {
   "cell_type": "code",
   "execution_count": 40,
   "metadata": {},
   "outputs": [],
   "source": [
    "duplicates = df.theme.apply(lambda x: len(x) != len(set(x)))\n",
    "if duplicates.sum() > 0:\n",
    "    print(f\"{duplicates.sum()} datasets have duplicate themes.\")"
   ]
  },
  {
   "cell_type": "code",
   "execution_count": 41,
   "metadata": {},
   "outputs": [
    {
     "name": "stdout",
     "output_type": "stream",
     "text": [
      "Datasets have between 1 and 10 themes:\n"
     ]
    },
    {
     "data": {
      "text/plain": [
       "theme_count\n",
       "1     547\n",
       "2     222\n",
       "3      18\n",
       "4       4\n",
       "7       1\n",
       "8       2\n",
       "9       1\n",
       "10      1\n",
       "Name: count, dtype: int64"
      ]
     },
     "metadata": {},
     "output_type": "display_data"
    }
   ],
   "source": [
    "df[\"theme_count\"] = df.theme.apply(lambda x: len(x))\n",
    "print(\n",
    "    f\"Datasets have between {df.theme_count.min()} and {df.theme_count.max()} themes:\"\n",
    ")\n",
    "display(df.theme_count.value_counts().sort_index())"
   ]
  },
  {
   "cell_type": "code",
   "execution_count": 42,
   "metadata": {},
   "outputs": [
    {
     "name": "stdout",
     "output_type": "stream",
     "text": [
      "Dataset with most themes:\n",
      "Statistisches Jahrbuch des Kantons Zürich\n"
     ]
    },
    {
     "data": {
      "text/plain": [
       "array(['http://publications.europa.eu/resource/authority/data-theme/SOCI',\n",
       "       'http://publications.europa.eu/resource/authority/data-theme/EDUC',\n",
       "       'http://publications.europa.eu/resource/authority/data-theme/ENER',\n",
       "       'http://publications.europa.eu/resource/authority/data-theme/HEAL',\n",
       "       'http://publications.europa.eu/resource/authority/data-theme/JUST',\n",
       "       'http://publications.europa.eu/resource/authority/data-theme/AGRI',\n",
       "       'http://publications.europa.eu/resource/authority/data-theme/GOVE',\n",
       "       'http://publications.europa.eu/resource/authority/data-theme/ENVI',\n",
       "       'http://publications.europa.eu/resource/authority/data-theme/TRAN',\n",
       "       'http://publications.europa.eu/resource/authority/data-theme/ECON'],\n",
       "      dtype=object)"
      ]
     },
     "execution_count": 42,
     "metadata": {},
     "output_type": "execute_result"
    }
   ],
   "source": [
    "print(\"Dataset with most themes:\")\n",
    "print(df[df.theme_count == df.theme_count.max()][[\"title\"]].values[0][0])\n",
    "df[df.theme_count == df.theme_count.max()].theme.values[0]"
   ]
  },
  {
   "cell_type": "code",
   "execution_count": 43,
   "metadata": {},
   "outputs": [
    {
     "name": "stdout",
     "output_type": "stream",
     "text": [
      "Distribution of themes \n",
      "theme                                                               count\n",
      "----------------------------------------------------------------  -------\n",
      "http://publications.europa.eu/resource/authority/data-theme/SOCI      304\n",
      "http://publications.europa.eu/resource/authority/data-theme/ECON      257\n",
      "http://publications.europa.eu/resource/authority/data-theme/GOVE      248\n",
      "http://publications.europa.eu/resource/authority/data-theme/ENVI       99\n",
      "http://publications.europa.eu/resource/authority/data-theme/TRAN       72\n",
      "http://publications.europa.eu/resource/authority/data-theme/EDUC       49\n",
      "http://publications.europa.eu/resource/authority/data-theme/HEAL       35\n",
      "http://publications.europa.eu/resource/authority/data-theme/AGRI       19\n",
      "http://publications.europa.eu/resource/authority/data-theme/ENER       11\n",
      "http://publications.europa.eu/resource/authority/data-theme/JUST        9\n"
     ]
    }
   ],
   "source": [
    "# Print distribution of themes.\n",
    "print(\"Distribution of themes \")\n",
    "cnt = Counter(themes)\n",
    "print(\n",
    "    tabulate(\n",
    "        pd.DataFrame(cnt.most_common(20)), showindex=False, headers=[\"theme\", \"count\"]\n",
    "    )\n",
    ")"
   ]
  },
  {
   "cell_type": "markdown",
   "metadata": {},
   "source": [
    "## Recommended: `keyword`\n",
    "- If a suitable keyword is available in [TERMDAT](https://www.bk.admin.ch/bk/en/home/dokumentation/languages/termdat.html) then this SHOULD be used.\n",
    "- Good practice: Mark the language of the keywords with the [ISO 639-1](https://www.iso.org/obp/ui/en/#iso:std:iso:639:ed-2:v1:en) language code such as `geodata@en`."
   ]
  },
  {
   "cell_type": "code",
   "execution_count": 44,
   "metadata": {},
   "outputs": [
    {
     "name": "stdout",
     "output_type": "stream",
     "text": [
      "20 datasets have no keywords.\n"
     ]
    },
    {
     "data": {
      "text/html": [
       "<div>\n",
       "<style scoped>\n",
       "    .dataframe tbody tr th:only-of-type {\n",
       "        vertical-align: middle;\n",
       "    }\n",
       "\n",
       "    .dataframe tbody tr th {\n",
       "        vertical-align: top;\n",
       "    }\n",
       "\n",
       "    .dataframe thead th {\n",
       "        text-align: right;\n",
       "    }\n",
       "</style>\n",
       "<table border=\"1\" class=\"dataframe\">\n",
       "  <thead>\n",
       "    <tr style=\"text-align: right;\">\n",
       "      <th></th>\n",
       "      <th>title</th>\n",
       "      <th>keyword</th>\n",
       "    </tr>\n",
       "  </thead>\n",
       "  <tbody>\n",
       "    <tr>\n",
       "      <th>179</th>\n",
       "      <td>Gesamtbericht Zufriedenheitsbefragung der betr...</td>\n",
       "      <td>None</td>\n",
       "    </tr>\n",
       "    <tr>\n",
       "      <th>180</th>\n",
       "      <td>Individualbericht Betreutenbefragung inkl. Vor...</td>\n",
       "      <td>None</td>\n",
       "    </tr>\n",
       "    <tr>\n",
       "      <th>181</th>\n",
       "      <td>Benchmarkingbericht Angehörige und externe Ste...</td>\n",
       "      <td>None</td>\n",
       "    </tr>\n",
       "    <tr>\n",
       "      <th>182</th>\n",
       "      <td>Befragung in Institutionen für Menschen mit Be...</td>\n",
       "      <td>None</td>\n",
       "    </tr>\n",
       "    <tr>\n",
       "      <th>183</th>\n",
       "      <td>Benchmarkingbericht der Kundenbefragung im Ber...</td>\n",
       "      <td>None</td>\n",
       "    </tr>\n",
       "    <tr>\n",
       "      <th>184</th>\n",
       "      <td>Vom Stolperstein zum Baustein: ein Baukasten z...</td>\n",
       "      <td>None</td>\n",
       "    </tr>\n",
       "    <tr>\n",
       "      <th>185</th>\n",
       "      <td>Poster zu potentiellen Stolpersteinen bei Befr...</td>\n",
       "      <td>None</td>\n",
       "    </tr>\n",
       "    <tr>\n",
       "      <th>186</th>\n",
       "      <td>Resultate der direkt durchgeführten Online-Bef...</td>\n",
       "      <td>None</td>\n",
       "    </tr>\n",
       "    <tr>\n",
       "      <th>205</th>\n",
       "      <td>Über die Grenze</td>\n",
       "      <td>None</td>\n",
       "    </tr>\n",
       "    <tr>\n",
       "      <th>206</th>\n",
       "      <td>Verdichtung</td>\n",
       "      <td>None</td>\n",
       "    </tr>\n",
       "    <tr>\n",
       "      <th>254</th>\n",
       "      <td>Statistisches Jahrbuch des Kantons Zürich</td>\n",
       "      <td>None</td>\n",
       "    </tr>\n",
       "    <tr>\n",
       "      <th>290</th>\n",
       "      <td>Institutionen für Menschen mit Behinderung - P...</td>\n",
       "      <td>None</td>\n",
       "    </tr>\n",
       "    <tr>\n",
       "      <th>301</th>\n",
       "      <td>Informationsbestände des Statistischen Amtes</td>\n",
       "      <td>None</td>\n",
       "    </tr>\n",
       "    <tr>\n",
       "      <th>309</th>\n",
       "      <td>Kundenbefragung Sommer- und Hallenbäder</td>\n",
       "      <td>None</td>\n",
       "    </tr>\n",
       "    <tr>\n",
       "      <th>310</th>\n",
       "      <td>Personalbefragung Zürcher Gemeinden</td>\n",
       "      <td>None</td>\n",
       "    </tr>\n",
       "    <tr>\n",
       "      <th>311</th>\n",
       "      <td>Kundenbefragung Werkstätten</td>\n",
       "      <td>None</td>\n",
       "    </tr>\n",
       "    <tr>\n",
       "      <th>327</th>\n",
       "      <td>Statistikreport Beispielbericht</td>\n",
       "      <td>None</td>\n",
       "    </tr>\n",
       "    <tr>\n",
       "      <th>636</th>\n",
       "      <td>Kanton Zürich in Zahlen</td>\n",
       "      <td>None</td>\n",
       "    </tr>\n",
       "    <tr>\n",
       "      <th>723</th>\n",
       "      <td>Benchmarking Persuisse</td>\n",
       "      <td>None</td>\n",
       "    </tr>\n",
       "    <tr>\n",
       "      <th>772</th>\n",
       "      <td>Effektive Quadratmeterpreise von Wald pro Raum...</td>\n",
       "      <td>None</td>\n",
       "    </tr>\n",
       "  </tbody>\n",
       "</table>\n",
       "</div>"
      ],
      "text/plain": [
       "                                                 title keyword\n",
       "179  Gesamtbericht Zufriedenheitsbefragung der betr...    None\n",
       "180  Individualbericht Betreutenbefragung inkl. Vor...    None\n",
       "181  Benchmarkingbericht Angehörige und externe Ste...    None\n",
       "182  Befragung in Institutionen für Menschen mit Be...    None\n",
       "183  Benchmarkingbericht der Kundenbefragung im Ber...    None\n",
       "184  Vom Stolperstein zum Baustein: ein Baukasten z...    None\n",
       "185  Poster zu potentiellen Stolpersteinen bei Befr...    None\n",
       "186  Resultate der direkt durchgeführten Online-Bef...    None\n",
       "205                                    Über die Grenze    None\n",
       "206                                        Verdichtung    None\n",
       "254          Statistisches Jahrbuch des Kantons Zürich    None\n",
       "290  Institutionen für Menschen mit Behinderung - P...    None\n",
       "301       Informationsbestände des Statistischen Amtes    None\n",
       "309            Kundenbefragung Sommer- und Hallenbäder    None\n",
       "310                Personalbefragung Zürcher Gemeinden    None\n",
       "311                        Kundenbefragung Werkstätten    None\n",
       "327                    Statistikreport Beispielbericht    None\n",
       "636                            Kanton Zürich in Zahlen    None\n",
       "723                            Benchmarking Persuisse     None\n",
       "772  Effektive Quadratmeterpreise von Wald pro Raum...    None"
      ]
     },
     "metadata": {},
     "output_type": "display_data"
    }
   ],
   "source": [
    "if len(df[df.keyword.isna()]) > 0:\n",
    "    print(f\"{len(df[df.keyword.isna()])} datasets have no keywords.\")\n",
    "    display(df[df.keyword.isna()][[\"title\", \"keyword\"]])\n",
    "\n",
    "    # Add issues to the list.\n",
    "    issues.extend(\n",
    "        [\n",
    "            (x, f\"Empty values in property keyword\", \"Missing values\")\n",
    "            for x in df[df.keyword.isna()].identifier\n",
    "        ]\n",
    "    )"
   ]
  },
  {
   "cell_type": "code",
   "execution_count": 45,
   "metadata": {},
   "outputs": [
    {
     "name": "stdout",
     "output_type": "stream",
     "text": [
      "We have 455 unique keywords in the dataset.\n",
      "\n",
      "Here are the first 50 keywords:\n",
      "['abfall', 'abfallanlagen', 'abfallgebuehren', 'abgase', 'abstimmungen', 'abstimmungsergebnisse', 'abwasser', 'administrative_grenzen', 'aerzteschaft', 'ahv', 'alleinerziehende', 'alter', 'altersgruppen', 'altersheime', 'altersklassen', 'altersstruktur', 'ammoniak', 'amtliches_geschlecht', 'angestellte', 'apotheken', 'arbeitskraefte', 'arbeitslose', 'arbeitslosigkeit', 'arbeitsmarkt', 'arbeitsstaetten', 'arbeitszeitmodelle', 'armut', 'aufenthalt', 'ausbildung', 'ausbildungsniveau', 'aushub', 'auslaender*innen', 'auto', 'bahn', 'bahntransport', 'bauland', 'bautaetigkeit', 'bauvorhaben', 'bauzonen', 'beratungsangebote', 'berufsbildung', 'berufslehre', 'berufsmaturitaetsschule', 'berufsschule', 'beschaeftigte', 'beschaeftigungsgrad', 'betreuungsbeitraege', 'betriebe', 'bevoelkerung', 'bevoelkerungsbestand']\n"
     ]
    }
   ],
   "source": [
    "top_n = 50\n",
    "keywords = [y for x in df.keyword.dropna().values.tolist() for y in x]\n",
    "keyword_categories = list(set(keywords))\n",
    "if len(keyword_categories) > 0:\n",
    "    print(f\"We have {len(keyword_categories):,.0f} unique keywords in the dataset.\\n\")\n",
    "    print(f\"Here are the first {top_n} keywords:\")\n",
    "    print(sorted(list(keyword_categories))[:top_n])"
   ]
  },
  {
   "cell_type": "code",
   "execution_count": 46,
   "metadata": {},
   "outputs": [
    {
     "name": "stdout",
     "output_type": "stream",
     "text": [
      "Datasets have between 1 and 45 keywords.\n"
     ]
    },
    {
     "data": {
      "text/plain": [
       "keyword_count\n",
       "1.0      33\n",
       "2.0      79\n",
       "3.0     110\n",
       "4.0      79\n",
       "5.0      61\n",
       "6.0     113\n",
       "7.0     142\n",
       "8.0      89\n",
       "9.0      28\n",
       "10.0     11\n",
       "11.0     10\n",
       "12.0      9\n",
       "13.0      5\n",
       "14.0      4\n",
       "16.0      1\n",
       "28.0      1\n",
       "45.0      1\n",
       "Name: count, dtype: int64"
      ]
     },
     "metadata": {},
     "output_type": "display_data"
    },
    {
     "name": "stdout",
     "output_type": "stream",
     "text": [
      "Dataset with the most keywords:\n"
     ]
    },
    {
     "data": {
      "text/plain": [
       "array([['COVID_19 Gesellschaftsmonitoring des Kantons Zürich',\n",
       "        array(['arbeitslose', 'ausbildung', 'bahn', 'berufslehre', 'bildung',\n",
       "               'energie', 'familien', 'flugbewegungen', 'flughafen',\n",
       "               'flugverkehr', 'gesundheit', 'gesundheitszustand',\n",
       "               'handelsregister', 'internetnutzung', 'beratungsangebote',\n",
       "               'kinder', 'kinderbetreuung', 'kindergarten', 'konkurse', 'konsum',\n",
       "               'langsamverkehr', 'lernende', 'luftverkehr', 'medien',\n",
       "               'oeffentlicher_verkehr', 'oeffentliche_schulen', 'primarschule',\n",
       "               's-bahn', 'stellensuchende', 'strassenverkehr',\n",
       "               'strassenverkehrszaehlung', 'suchtkrankheiten', 'todesfaelle',\n",
       "               'verkehr', 'verkehrsfrequenz', 'verkehrsmittelwahl',\n",
       "               'volkswirtschaft', 'vorschulstufe', 'wirtschaft', 'corona',\n",
       "               'covid-19', 'mobilitaet', 'epidemien', 'covid19', 'ogd'],\n",
       "              dtype=object)                                                      ]],\n",
       "      dtype=object)"
      ]
     },
     "execution_count": 46,
     "metadata": {},
     "output_type": "execute_result"
    }
   ],
   "source": [
    "df[\"keyword_count\"] = df.keyword.dropna().apply(lambda x: len(x))\n",
    "print(\n",
    "    f\"Datasets have between {df.keyword_count.min():.0f} and {df.keyword_count.max():.0f} keywords.\"\n",
    ")\n",
    "display(df.keyword_count.value_counts().sort_index())\n",
    "print(\"Dataset with the most keywords:\")\n",
    "df[df.keyword_count == df.keyword_count.max()][[\"title\", \"keyword\"]].values"
   ]
  },
  {
   "cell_type": "code",
   "execution_count": 47,
   "metadata": {},
   "outputs": [
    {
     "name": "stdout",
     "output_type": "stream",
     "text": [
      "Most frequent keywords\n",
      "keyword             count\n",
      "----------------  -------\n",
      "ogd                   445\n",
      "kanton_zuerich        364\n",
      "gemeinden             361\n",
      "bezirke               327\n",
      "statistik.info        290\n",
      "bevoelkerung          141\n",
      "politik                90\n",
      "demokratie             78\n",
      "einwohner              73\n",
      "gemeindefinanzen       54\n",
      "\n",
      "Least frequent keywords\n",
      "keyword               count\n",
      "------------------  -------\n",
      "gebaeudeareal             1\n",
      "unbebautes_land           1\n",
      "wohngebaeude              1\n",
      "stickoxide                1\n",
      "abgase                    1\n",
      "naturschutzgebiete        1\n",
      "messung                   1\n",
      "jugend_und_sport          1\n",
      "geschossflaeche           1\n",
      "freizeitverkehr           1\n"
     ]
    }
   ],
   "source": [
    "top_n = 10\n",
    "cnt = Counter(keywords)\n",
    "print(\"Most frequent keywords\")\n",
    "print(\n",
    "    tabulate(\n",
    "        pd.DataFrame(cnt.most_common(top_n)),\n",
    "        showindex=False,\n",
    "        headers=[\"keyword\", \"count\"],\n",
    "    )\n",
    ")\n",
    "print()\n",
    "print(\"Least frequent keywords\")\n",
    "print(\n",
    "    tabulate(\n",
    "        pd.DataFrame(cnt.most_common()[-top_n:]),\n",
    "        showindex=False,\n",
    "        headers=[\"keyword\", \"count\"],\n",
    "    )\n",
    ")"
   ]
  },
  {
   "cell_type": "markdown",
   "metadata": {},
   "source": [
    "## Recommended: `landingPage`"
   ]
  },
  {
   "cell_type": "code",
   "execution_count": 48,
   "metadata": {},
   "outputs": [
    {
     "name": "stdout",
     "output_type": "stream",
     "text": [
      "400 datasets have no landing page.\n",
      "\n",
      "publisher\n",
      "[Statistisches Amt des Kantons Zürich]                           362\n",
      "[Amt für Abfall, Wasser, Energie und Luft des Kantons Zürich]      9\n",
      "[Bildungsstatistik des Kantons Zürich]                             8\n",
      "[Fachstelle Open Government Data des Kantons Zürich]               5\n",
      "[Amt für Raumentwicklung des Kantons Zürich]                       3\n",
      "[Kantonspolizei des Kantons Zürich]                                2\n",
      "[Gesundheitsdirektion des Kantons Zürich]                          2\n",
      "[Stadt Winterthur]                                                 2\n",
      "[Oberjugendanwaltschaft des Kantons Zürich]                        1\n",
      "[Staatsarchiv des Kantons Zürich]                                  1\n",
      "[Amt für Wirtschaft des Kantons Zürich]                            1\n",
      "[Personalamt des Kantons Zürich]                                   1\n",
      "[Handelsregisteramt des Kantons Zürich]                            1\n",
      "[Immobilienamt des Kantons Zürich]                                 1\n",
      "[Finanzverwaltung des Kantons Zürich]                              1\n",
      "Name: count, dtype: int64\n",
      "Here are the first 10:\n"
     ]
    },
    {
     "data": {
      "text/html": [
       "<div>\n",
       "<style scoped>\n",
       "    .dataframe tbody tr th:only-of-type {\n",
       "        vertical-align: middle;\n",
       "    }\n",
       "\n",
       "    .dataframe tbody tr th {\n",
       "        vertical-align: top;\n",
       "    }\n",
       "\n",
       "    .dataframe thead th {\n",
       "        text-align: right;\n",
       "    }\n",
       "</style>\n",
       "<table border=\"1\" class=\"dataframe\">\n",
       "  <thead>\n",
       "    <tr style=\"text-align: right;\">\n",
       "      <th></th>\n",
       "      <th>title</th>\n",
       "      <th>publisher</th>\n",
       "      <th>landingPage</th>\n",
       "    </tr>\n",
       "  </thead>\n",
       "  <tbody>\n",
       "    <tr>\n",
       "      <th>108</th>\n",
       "      <td>Abstimmungsarchiv des Kantons Zürich ab 1831</td>\n",
       "      <td>[Statistisches Amt des Kantons Zürich]</td>\n",
       "      <td>None</td>\n",
       "    </tr>\n",
       "    <tr>\n",
       "      <th>142</th>\n",
       "      <td>Jahresrechnungen der Körperschaften des Kanton...</td>\n",
       "      <td>[Statistisches Amt des Kantons Zürich]</td>\n",
       "      <td>None</td>\n",
       "    </tr>\n",
       "    <tr>\n",
       "      <th>171</th>\n",
       "      <td>Abstimmungsempfehlungen von Kantonsrat und Reg...</td>\n",
       "      <td>[Statistisches Amt des Kantons Zürich]</td>\n",
       "      <td>None</td>\n",
       "    </tr>\n",
       "    <tr>\n",
       "      <th>173</th>\n",
       "      <td>Abstimmungsparolen von kantonalzürcher und nat...</td>\n",
       "      <td>[Statistisches Amt des Kantons Zürich]</td>\n",
       "      <td>None</td>\n",
       "    </tr>\n",
       "    <tr>\n",
       "      <th>174</th>\n",
       "      <td>Web Analytics der Open Government Data des Kan...</td>\n",
       "      <td>[Fachstelle Open Government Data des Kantons Z...</td>\n",
       "      <td>None</td>\n",
       "    </tr>\n",
       "    <tr>\n",
       "      <th>177</th>\n",
       "      <td>Lufttemperatur und Luftfeuchte LoRa-Sensor-Mes...</td>\n",
       "      <td>[Amt für Abfall, Wasser, Energie und Luft des ...</td>\n",
       "      <td>None</td>\n",
       "    </tr>\n",
       "    <tr>\n",
       "      <th>178</th>\n",
       "      <td>Sozialbericht</td>\n",
       "      <td>[Statistisches Amt des Kantons Zürich]</td>\n",
       "      <td>None</td>\n",
       "    </tr>\n",
       "    <tr>\n",
       "      <th>179</th>\n",
       "      <td>Gesamtbericht Zufriedenheitsbefragung der betr...</td>\n",
       "      <td>[Statistisches Amt des Kantons Zürich]</td>\n",
       "      <td>None</td>\n",
       "    </tr>\n",
       "    <tr>\n",
       "      <th>180</th>\n",
       "      <td>Individualbericht Betreutenbefragung inkl. Vor...</td>\n",
       "      <td>[Statistisches Amt des Kantons Zürich]</td>\n",
       "      <td>None</td>\n",
       "    </tr>\n",
       "    <tr>\n",
       "      <th>181</th>\n",
       "      <td>Benchmarkingbericht Angehörige und externe Ste...</td>\n",
       "      <td>[Statistisches Amt des Kantons Zürich]</td>\n",
       "      <td>None</td>\n",
       "    </tr>\n",
       "  </tbody>\n",
       "</table>\n",
       "</div>"
      ],
      "text/plain": [
       "                                                 title  \\\n",
       "108       Abstimmungsarchiv des Kantons Zürich ab 1831   \n",
       "142  Jahresrechnungen der Körperschaften des Kanton...   \n",
       "171  Abstimmungsempfehlungen von Kantonsrat und Reg...   \n",
       "173  Abstimmungsparolen von kantonalzürcher und nat...   \n",
       "174  Web Analytics der Open Government Data des Kan...   \n",
       "177  Lufttemperatur und Luftfeuchte LoRa-Sensor-Mes...   \n",
       "178                                      Sozialbericht   \n",
       "179  Gesamtbericht Zufriedenheitsbefragung der betr...   \n",
       "180  Individualbericht Betreutenbefragung inkl. Vor...   \n",
       "181  Benchmarkingbericht Angehörige und externe Ste...   \n",
       "\n",
       "                                             publisher landingPage  \n",
       "108             [Statistisches Amt des Kantons Zürich]        None  \n",
       "142             [Statistisches Amt des Kantons Zürich]        None  \n",
       "171             [Statistisches Amt des Kantons Zürich]        None  \n",
       "173             [Statistisches Amt des Kantons Zürich]        None  \n",
       "174  [Fachstelle Open Government Data des Kantons Z...        None  \n",
       "177  [Amt für Abfall, Wasser, Energie und Luft des ...        None  \n",
       "178             [Statistisches Amt des Kantons Zürich]        None  \n",
       "179             [Statistisches Amt des Kantons Zürich]        None  \n",
       "180             [Statistisches Amt des Kantons Zürich]        None  \n",
       "181             [Statistisches Amt des Kantons Zürich]        None  "
      ]
     },
     "metadata": {},
     "output_type": "display_data"
    }
   ],
   "source": [
    "top_n = 10\n",
    "no_landing = df[df.landingPage.isna()]\n",
    "if len(no_landing) > 0:\n",
    "    print(f\"{len(no_landing)} datasets have no landing page.\")\n",
    "    print()\n",
    "    print(no_landing.publisher.value_counts())\n",
    "    print(f\"Here are the first {top_n}:\")\n",
    "    display(no_landing[[\"title\", \"publisher\", \"landingPage\"]].head(top_n))\n",
    "\n",
    "    # Add issues to the list.\n",
    "    issues.extend(\n",
    "        [\n",
    "            (x, f\"Empty values in property landingPage\", \"Missing values\")\n",
    "            for x in df[df.landingPage.isna()].identifier\n",
    "        ]\n",
    "    )"
   ]
  },
  {
   "cell_type": "code",
   "execution_count": 49,
   "metadata": {},
   "outputs": [
    {
     "name": "stdout",
     "output_type": "stream",
     "text": [
      "Check if landing pages are reachable.\n",
      "\n",
      "Status code 202 for https://openzh.shinyapps.io/UAstat/\n",
      "202 https://openzh.shinyapps.io/UAstat/\n"
     ]
    },
    {
     "data": {
      "text/html": [
       "<div>\n",
       "<style scoped>\n",
       "    .dataframe tbody tr th:only-of-type {\n",
       "        vertical-align: middle;\n",
       "    }\n",
       "\n",
       "    .dataframe tbody tr th {\n",
       "        vertical-align: top;\n",
       "    }\n",
       "\n",
       "    .dataframe thead th {\n",
       "        text-align: right;\n",
       "    }\n",
       "</style>\n",
       "<table border=\"1\" class=\"dataframe\">\n",
       "  <thead>\n",
       "    <tr style=\"text-align: right;\">\n",
       "      <th></th>\n",
       "      <th>title</th>\n",
       "      <th>landingPage</th>\n",
       "    </tr>\n",
       "  </thead>\n",
       "  <tbody>\n",
       "    <tr>\n",
       "      <th>370</th>\n",
       "      <td>Web Analytics des Webauftritts des Kantons Zür...</td>\n",
       "      <td>https://openzh.shinyapps.io/UAstat/</td>\n",
       "    </tr>\n",
       "  </tbody>\n",
       "</table>\n",
       "</div>"
      ],
      "text/plain": [
       "                                                 title  \\\n",
       "370  Web Analytics des Webauftritts des Kantons Zür...   \n",
       "\n",
       "                             landingPage  \n",
       "370  https://openzh.shinyapps.io/UAstat/  "
      ]
     },
     "metadata": {},
     "output_type": "display_data"
    }
   ],
   "source": [
    "# Check if landing pages are reachable.\n",
    "\n",
    "print(\"Check if landing pages are reachable.\\n\")\n",
    "landing_pages = list(set(df.landingPage.dropna().to_list()))\n",
    "errors = []\n",
    "for page in landing_pages:\n",
    "    res = requests.get(page)\n",
    "    if res.status_code != 200:\n",
    "        print(f\"Status code {res.status_code} for {page}\")\n",
    "        errors.append((res.status_code, page))\n",
    "\n",
    "for status_code, page in errors:\n",
    "    print(status_code, page)\n",
    "    display(df[df.landingPage == page][[\"title\", \"landingPage\"]])\n",
    "\n",
    "    # Add issues to the list.\n",
    "    issues.extend(\n",
    "        [\n",
    "            (\n",
    "                x,\n",
    "                f\"landingPage not reachable: {status_code} - {page}\",\n",
    "                \"Landing page issue\",\n",
    "            )\n",
    "            for x in df[df.landingPage == page].identifier\n",
    "        ]\n",
    "    )"
   ]
  },
  {
   "cell_type": "markdown",
   "metadata": {},
   "source": [
    "## Optional: `accrualPeriodicity`\n",
    "Vocabulary to be used: [VOCAB-EU-FREQUENCY](https://publications.europa.eu/resource/authority/frequency)."
   ]
  },
  {
   "cell_type": "code",
   "execution_count": 50,
   "metadata": {},
   "outputs": [
    {
     "name": "stdout",
     "output_type": "stream",
     "text": [
      "12 frequencies are not in the EU frequency vocabulary.\n",
      "\n",
      "['http://publications.europa.eu/resource/authority/frequency/annual', 'http://publications.europa.eu/resource/authority/frequency/irreg', 'http://publications.europa.eu/resource/authority/frequency/never', 'http://publications.europa.eu/resource/authority/frequency/monthly', 'http://publications.europa.eu/resource/authority/frequency/cont', 'http://publications.europa.eu/resource/authority/frequency/annual_2', 'http://publications.europa.eu/resource/authority/frequency/quarterly', 'http://publications.europa.eu/resource/authority/frequency/biennial', 'http://publications.europa.eu/resource/authority/frequency/daily', 'http://publications.europa.eu/resource/authority/frequency/weekly', 'http://publications.europa.eu/resource/authority/frequency/weekly_2', None]\n"
     ]
    }
   ],
   "source": [
    "not_in_vocab = [\n",
    "    x for x in df.accrualPeriodicity.unique() if x not in VOCAB_EU_FREQUENCY\n",
    "]\n",
    "if len(not_in_vocab) > 0:\n",
    "    print(f\"{len(not_in_vocab)} frequencies are not in the EU frequency vocabulary.\\n\")\n",
    "    print(not_in_vocab)"
   ]
  },
  {
   "cell_type": "code",
   "execution_count": 51,
   "metadata": {},
   "outputs": [
    {
     "name": "stdout",
     "output_type": "stream",
     "text": [
      "Distribution of accrualPeriodicity\n"
     ]
    },
    {
     "data": {
      "text/plain": [
       "accrualPeriodicity\n",
       "http://publications.europa.eu/resource/authority/frequency/annual       358\n",
       "http://publications.europa.eu/resource/authority/frequency/never        308\n",
       "http://publications.europa.eu/resource/authority/frequency/irreg         82\n",
       "http://publications.europa.eu/resource/authority/frequency/cont          16\n",
       "http://publications.europa.eu/resource/authority/frequency/quarterly      8\n",
       "http://publications.europa.eu/resource/authority/frequency/daily          7\n",
       "http://publications.europa.eu/resource/authority/frequency/monthly        6\n",
       "http://publications.europa.eu/resource/authority/frequency/weekly         5\n",
       "http://publications.europa.eu/resource/authority/frequency/biennial       2\n",
       "http://publications.europa.eu/resource/authority/frequency/annual_2       1\n",
       "http://publications.europa.eu/resource/authority/frequency/weekly_2       1\n",
       "Name: count, dtype: int64"
      ]
     },
     "metadata": {},
     "output_type": "display_data"
    }
   ],
   "source": [
    "print(\"Distribution of accrualPeriodicity\")\n",
    "display(df.accrualPeriodicity.value_counts())"
   ]
  },
  {
   "cell_type": "markdown",
   "metadata": {},
   "source": [
    "## Optional: `relation`"
   ]
  },
  {
   "cell_type": "code",
   "execution_count": 52,
   "metadata": {},
   "outputs": [
    {
     "name": "stdout",
     "output_type": "stream",
     "text": [
      "We have 363 datasets without relation.\n",
      "\n",
      "publisher\n",
      "[Statistisches Amt des Kantons Zürich]                           355\n",
      "[Stadt Winterthur]                                                 4\n",
      "[Amt für Wirtschaft des Kantons Zürich]                            1\n",
      "[Amt für Landschaft und Natur]                                     1\n",
      "[Fachstelle Open Government Data des Kantons Zürich]               1\n",
      "[Amt für Abfall, Wasser, Energie und Luft des Kantons Zürich]      1\n",
      "Name: count, dtype: int64\n"
     ]
    },
    {
     "data": {
      "text/html": [
       "<div>\n",
       "<style scoped>\n",
       "    .dataframe tbody tr th:only-of-type {\n",
       "        vertical-align: middle;\n",
       "    }\n",
       "\n",
       "    .dataframe tbody tr th {\n",
       "        vertical-align: top;\n",
       "    }\n",
       "\n",
       "    .dataframe thead th {\n",
       "        text-align: right;\n",
       "    }\n",
       "</style>\n",
       "<table border=\"1\" class=\"dataframe\">\n",
       "  <thead>\n",
       "    <tr style=\"text-align: right;\">\n",
       "      <th></th>\n",
       "      <th>title</th>\n",
       "      <th>publisher</th>\n",
       "      <th>relation</th>\n",
       "    </tr>\n",
       "  </thead>\n",
       "  <tbody>\n",
       "    <tr>\n",
       "      <th>178</th>\n",
       "      <td>Sozialbericht</td>\n",
       "      <td>[Statistisches Amt des Kantons Zürich]</td>\n",
       "      <td>None</td>\n",
       "    </tr>\n",
       "    <tr>\n",
       "      <th>179</th>\n",
       "      <td>Gesamtbericht Zufriedenheitsbefragung der betr...</td>\n",
       "      <td>[Statistisches Amt des Kantons Zürich]</td>\n",
       "      <td>None</td>\n",
       "    </tr>\n",
       "    <tr>\n",
       "      <th>180</th>\n",
       "      <td>Individualbericht Betreutenbefragung inkl. Vor...</td>\n",
       "      <td>[Statistisches Amt des Kantons Zürich]</td>\n",
       "      <td>None</td>\n",
       "    </tr>\n",
       "    <tr>\n",
       "      <th>181</th>\n",
       "      <td>Benchmarkingbericht Angehörige und externe Ste...</td>\n",
       "      <td>[Statistisches Amt des Kantons Zürich]</td>\n",
       "      <td>None</td>\n",
       "    </tr>\n",
       "    <tr>\n",
       "      <th>182</th>\n",
       "      <td>Befragung in Institutionen für Menschen mit Be...</td>\n",
       "      <td>[Statistisches Amt des Kantons Zürich]</td>\n",
       "      <td>None</td>\n",
       "    </tr>\n",
       "    <tr>\n",
       "      <th>183</th>\n",
       "      <td>Benchmarkingbericht der Kundenbefragung im Ber...</td>\n",
       "      <td>[Statistisches Amt des Kantons Zürich]</td>\n",
       "      <td>None</td>\n",
       "    </tr>\n",
       "    <tr>\n",
       "      <th>184</th>\n",
       "      <td>Vom Stolperstein zum Baustein: ein Baukasten z...</td>\n",
       "      <td>[Statistisches Amt des Kantons Zürich]</td>\n",
       "      <td>None</td>\n",
       "    </tr>\n",
       "    <tr>\n",
       "      <th>185</th>\n",
       "      <td>Poster zu potentiellen Stolpersteinen bei Befr...</td>\n",
       "      <td>[Statistisches Amt des Kantons Zürich]</td>\n",
       "      <td>None</td>\n",
       "    </tr>\n",
       "    <tr>\n",
       "      <th>186</th>\n",
       "      <td>Resultate der direkt durchgeführten Online-Bef...</td>\n",
       "      <td>[Statistisches Amt des Kantons Zürich]</td>\n",
       "      <td>None</td>\n",
       "    </tr>\n",
       "    <tr>\n",
       "      <th>188</th>\n",
       "      <td>Bodenpreise für die Zürcher Gemeinden</td>\n",
       "      <td>[Statistisches Amt des Kantons Zürich]</td>\n",
       "      <td>None</td>\n",
       "    </tr>\n",
       "  </tbody>\n",
       "</table>\n",
       "</div>"
      ],
      "text/plain": [
       "                                                 title  \\\n",
       "178                                      Sozialbericht   \n",
       "179  Gesamtbericht Zufriedenheitsbefragung der betr...   \n",
       "180  Individualbericht Betreutenbefragung inkl. Vor...   \n",
       "181  Benchmarkingbericht Angehörige und externe Ste...   \n",
       "182  Befragung in Institutionen für Menschen mit Be...   \n",
       "183  Benchmarkingbericht der Kundenbefragung im Ber...   \n",
       "184  Vom Stolperstein zum Baustein: ein Baukasten z...   \n",
       "185  Poster zu potentiellen Stolpersteinen bei Befr...   \n",
       "186  Resultate der direkt durchgeführten Online-Bef...   \n",
       "188              Bodenpreise für die Zürcher Gemeinden   \n",
       "\n",
       "                                  publisher relation  \n",
       "178  [Statistisches Amt des Kantons Zürich]     None  \n",
       "179  [Statistisches Amt des Kantons Zürich]     None  \n",
       "180  [Statistisches Amt des Kantons Zürich]     None  \n",
       "181  [Statistisches Amt des Kantons Zürich]     None  \n",
       "182  [Statistisches Amt des Kantons Zürich]     None  \n",
       "183  [Statistisches Amt des Kantons Zürich]     None  \n",
       "184  [Statistisches Amt des Kantons Zürich]     None  \n",
       "185  [Statistisches Amt des Kantons Zürich]     None  \n",
       "186  [Statistisches Amt des Kantons Zürich]     None  \n",
       "188  [Statistisches Amt des Kantons Zürich]     None  "
      ]
     },
     "metadata": {},
     "output_type": "display_data"
    }
   ],
   "source": [
    "missing = df[df.relation.isna()]\n",
    "if len(missing) > 0:\n",
    "    print(f\"We have {len(missing)} datasets without relation.\\n\")\n",
    "    print(df[df.relation.isna()].publisher.value_counts())\n",
    "    display(df[df.relation.isna()][[\"title\", \"publisher\", \"relation\"]].head(10))\n",
    "\n",
    "    # Add issues to the list.\n",
    "    issues.extend(\n",
    "        [\n",
    "            (x, f\"Missing value for property relations\", \"Missing values\")\n",
    "            for x in df[df.relation.isna()].identifier\n",
    "        ]\n",
    "    )"
   ]
  },
  {
   "cell_type": "code",
   "execution_count": 53,
   "metadata": {},
   "outputs": [
    {
     "name": "stdout",
     "output_type": "stream",
     "text": [
      "We have 156 unique relations in the dataset.\n"
     ]
    },
    {
     "data": {
      "text/plain": [
       "[('https://openzh.github.io/starter-code-openZH/', 405),\n",
       " ('https://www.zh.ch/de/politik-staat/gesetze-beschluesse/gesetzessammlung/zhlex-os/erlass-431_1-70-359.html',\n",
       "  321),\n",
       " ('https://www.zh.ch/de/politik-staat/statistik-daten/datenkatalog.html#/datasets/693@statistisches-amt-kanton-zuerich/distributions/4844',\n",
       "  14),\n",
       " ('https://www.zh.ch/de/politik-staat/statistik-daten/datenkatalog.html#/datasets/690@statistisches-amt-kanton-zuerich/distributions/4843',\n",
       "  13),\n",
       " ('https://www.zh.ch/de/politik-staat/gesetze-beschluesse/gesetzessammlung/zhlex-os/erlass-170_6-68-452.html',\n",
       "  11),\n",
       " ('https://www.zh.ch/de/bildung/bildungssystem/zahlen-fakten.html', 8),\n",
       " ('https://maps.zh.ch/system/docs/afv/KTZH_AFV_OeV_Gueteklassen_2_1_2020_08_25.pdf',\n",
       "  7),\n",
       " ('https://pub.bista.zh.ch/de/aktuell/publikationen/', 7),\n",
       " ('https://www.zh.ch/de/gesundheit/coronavirus.html', 5),\n",
       " ('https://github.com/openZH/dokumentation_archiv_wahlresultate', 4)]"
      ]
     },
     "metadata": {},
     "output_type": "display_data"
    }
   ],
   "source": [
    "relations = df.relation.dropna().apply(lambda x: [y[\"link\"] for y in x]).to_list()\n",
    "relations = [y for x in relations for y in x]\n",
    "relations_categories = list(set(relations))\n",
    "print(f\"We have {len(relations_categories):,.0f} unique relations in the dataset.\")\n",
    "cnt = Counter(relations)\n",
    "display(cnt.most_common(10))"
   ]
  },
  {
   "cell_type": "markdown",
   "metadata": {},
   "source": [
    "## Additional: `seeAlso`"
   ]
  },
  {
   "cell_type": "code",
   "execution_count": 54,
   "metadata": {},
   "outputs": [
    {
     "name": "stdout",
     "output_type": "stream",
     "text": [
      "We have 332 datasets without seeAlso.\n"
     ]
    },
    {
     "data": {
      "text/plain": [
       "publisher\n",
       "[Statistisches Amt des Kantons Zürich]                           317\n",
       "[Amt für Abfall, Wasser, Energie und Luft des Kantons Zürich]      5\n",
       "[Fachstelle Open Government Data des Kantons Zürich]               3\n",
       "[Gemeindeamt des Kantons Zürich]                                   1\n",
       "[Gesundheitsdirektion des Kantons Zürich]                          1\n",
       "[Amt für Wirtschaft des Kantons Zürich]                            1\n",
       "[Personalamt des Kantons Zürich]                                   1\n",
       "[Amt für Landschaft und Natur]                                     1\n",
       "[Stadt Winterthur]                                                 1\n",
       "[Finanzverwaltung des Kantons Zürich]                              1\n",
       "Name: count, dtype: int64"
      ]
     },
     "metadata": {},
     "output_type": "display_data"
    }
   ],
   "source": [
    "print(f\"We have {df.seeAlso.isna().sum()} datasets without seeAlso.\")\n",
    "display(df[df.seeAlso.isna()].publisher.value_counts())\n",
    "\n",
    "# Add issues to the list.\n",
    "issues.extend(\n",
    "    [\n",
    "        (x, f\"Missing value for property relations\", \"Missing values\")\n",
    "        for x in df[df.seeAlso.isna()].identifier\n",
    "    ]\n",
    ")"
   ]
  },
  {
   "cell_type": "code",
   "execution_count": 55,
   "metadata": {},
   "outputs": [
    {
     "name": "stdout",
     "output_type": "stream",
     "text": [
      "We have 463 unique seeAlso datasets in the dataset.\n"
     ]
    },
    {
     "data": {
      "text/plain": [
       "[('55@statistisches-amt-kanton-zuerich', 18),\n",
       " ('60@statistisches-amt-kanton-zuerich', 17),\n",
       " ('148@statistisches-amt-kanton-zuerich', 17),\n",
       " ('195@statistisches-amt-kanton-zuerich', 16),\n",
       " ('74@statistisches-amt-kanton-zuerich', 14),\n",
       " ('92@statistisches-amt-kanton-zuerich', 14),\n",
       " ('93@statistisches-amt-kanton-zuerich', 14),\n",
       " ('95@statistisches-amt-kanton-zuerich', 14),\n",
       " ('97@statistisches-amt-kanton-zuerich', 14),\n",
       " ('99@statistisches-amt-kanton-zuerich', 14)]"
      ]
     },
     "metadata": {},
     "output_type": "display_data"
    },
    {
     "data": {
      "text/html": [
       "<div>\n",
       "<style scoped>\n",
       "    .dataframe tbody tr th:only-of-type {\n",
       "        vertical-align: middle;\n",
       "    }\n",
       "\n",
       "    .dataframe tbody tr th {\n",
       "        vertical-align: top;\n",
       "    }\n",
       "\n",
       "    .dataframe thead th {\n",
       "        text-align: right;\n",
       "    }\n",
       "</style>\n",
       "<table border=\"1\" class=\"dataframe\">\n",
       "  <thead>\n",
       "    <tr style=\"text-align: right;\">\n",
       "      <th></th>\n",
       "      <th>title</th>\n",
       "    </tr>\n",
       "  </thead>\n",
       "  <tbody>\n",
       "    <tr>\n",
       "      <th>15</th>\n",
       "      <td>Steuerpflichtige juristische Personen [Anz.]</td>\n",
       "    </tr>\n",
       "    <tr>\n",
       "      <th>377</th>\n",
       "      <td>4-Personenhaushalte [Anz.]</td>\n",
       "    </tr>\n",
       "    <tr>\n",
       "      <th>382</th>\n",
       "      <td>Gebäudevolumen: Zunahme [%]</td>\n",
       "    </tr>\n",
       "    <tr>\n",
       "      <th>384</th>\n",
       "      <td>Geb.Vol. Dienstleistungen: Anteil [%]</td>\n",
       "    </tr>\n",
       "    <tr>\n",
       "      <th>385</th>\n",
       "      <td>Geb.Vol. Dienstleistungen: Zunahme [%]</td>\n",
       "    </tr>\n",
       "    <tr>\n",
       "      <th>386</th>\n",
       "      <td>Geb.Vol. Industrie/Lager: Zunahme [%]</td>\n",
       "    </tr>\n",
       "    <tr>\n",
       "      <th>387</th>\n",
       "      <td>Geb.Vol. Infrastruktur: Zunahme [%]</td>\n",
       "    </tr>\n",
       "    <tr>\n",
       "      <th>389</th>\n",
       "      <td>Geb.Vol. Landwirtschaft: Anteil [%]</td>\n",
       "    </tr>\n",
       "    <tr>\n",
       "      <th>425</th>\n",
       "      <td>Personenwagen [Anz.]</td>\n",
       "    </tr>\n",
       "    <tr>\n",
       "      <th>477</th>\n",
       "      <td>Steuerertrag von juristischen Personen [Mio.Fr.]</td>\n",
       "    </tr>\n",
       "  </tbody>\n",
       "</table>\n",
       "</div>"
      ],
      "text/plain": [
       "                                                title\n",
       "15       Steuerpflichtige juristische Personen [Anz.]\n",
       "377                        4-Personenhaushalte [Anz.]\n",
       "382                       Gebäudevolumen: Zunahme [%]\n",
       "384             Geb.Vol. Dienstleistungen: Anteil [%]\n",
       "385            Geb.Vol. Dienstleistungen: Zunahme [%]\n",
       "386             Geb.Vol. Industrie/Lager: Zunahme [%]\n",
       "387               Geb.Vol. Infrastruktur: Zunahme [%]\n",
       "389               Geb.Vol. Landwirtschaft: Anteil [%]\n",
       "425                              Personenwagen [Anz.]\n",
       "477  Steuerertrag von juristischen Personen [Mio.Fr.]"
      ]
     },
     "execution_count": 55,
     "metadata": {},
     "output_type": "execute_result"
    }
   ],
   "source": [
    "see_also = [y for x in df.seeAlso.dropna() for y in x]\n",
    "see_also_categories = list(set(see_also))\n",
    "print(\n",
    "    f\"We have {len(see_also_categories):,.0f} unique seeAlso datasets in the dataset.\"\n",
    ")\n",
    "cnt = Counter(see_also)\n",
    "display(cnt.most_common(10))\n",
    "df[df.identifier.isin([x[0] for x in cnt.most_common(10)])][[\"title\"]]"
   ]
  },
  {
   "cell_type": "markdown",
   "metadata": {},
   "source": [
    "# Examine distributions"
   ]
  },
  {
   "cell_type": "markdown",
   "metadata": {},
   "source": [
    "## Global checks"
   ]
  },
  {
   "cell_type": "markdown",
   "metadata": {},
   "source": [
    "### Structure"
   ]
  },
  {
   "cell_type": "code",
   "execution_count": 84,
   "metadata": {},
   "outputs": [
    {
     "name": "stdout",
     "output_type": "stream",
     "text": [
      "Datasets have between 1 and 65 ressources.\n"
     ]
    },
    {
     "data": {
      "text/plain": [
       "ressource_count\n",
       "1     687\n",
       "2      38\n",
       "3      14\n",
       "4      10\n",
       "5       6\n",
       "6       5\n",
       "7       3\n",
       "8       8\n",
       "9       3\n",
       "10      1\n",
       "11      2\n",
       "12      3\n",
       "13      1\n",
       "14      6\n",
       "16      2\n",
       "18      1\n",
       "20      1\n",
       "22      1\n",
       "26      1\n",
       "31      1\n",
       "37      1\n",
       "65      1\n",
       "Name: count, dtype: int64"
      ]
     },
     "metadata": {},
     "output_type": "display_data"
    }
   ],
   "source": [
    "df[\"ressource_count\"] = df.distribution.apply(len)\n",
    "print(\n",
    "    f\"Datasets have between {df.ressource_count.min()} and {df.ressource_count.max()} ressources.\"\n",
    ")\n",
    "display(df.ressource_count.value_counts().sort_index())"
   ]
  },
  {
   "cell_type": "code",
   "execution_count": 57,
   "metadata": {},
   "outputs": [],
   "source": [
    "# Create dataframe from distributions.\n",
    "\n",
    "results = []\n",
    "for idx, row in df.iterrows():\n",
    "    tmp = [pd.json_normalize(x) for x in row.distribution]\n",
    "    tmp = pd.concat(tmp)\n",
    "    tmp[\"identifier\"] = row.identifier\n",
    "    results.append(tmp)\n",
    "\n",
    "dist = pd.concat(results)\n",
    "dist.reset_index(drop=True, inplace=True)"
   ]
  },
  {
   "cell_type": "code",
   "execution_count": 58,
   "metadata": {},
   "outputs": [
    {
     "name": "stdout",
     "output_type": "stream",
     "text": [
      "We have 1,433 ressources in the 796 datasets.\n",
      "\n",
      "<class 'pandas.core.frame.DataFrame'>\n",
      "RangeIndex: 1433 entries, 0 to 1432\n",
      "Data columns (total 13 columns):\n",
      " #   Column       Non-Null Count  Dtype  \n",
      "---  ------       --------------  -----  \n",
      " 0   accessUrl    1433 non-null   object \n",
      " 1   byteSize     1349 non-null   float64\n",
      " 2   description  508 non-null    object \n",
      " 3   downloadUrl  1406 non-null   object \n",
      " 4   format       1433 non-null   object \n",
      " 5   issued       1433 non-null   object \n",
      " 6   ktzhDistId   1433 non-null   int64  \n",
      " 7   language     1367 non-null   object \n",
      " 8   license      1433 non-null   object \n",
      " 9   mediaType    1433 non-null   object \n",
      " 10  modified     1433 non-null   object \n",
      " 11  title        1433 non-null   object \n",
      " 12  identifier   1433 non-null   object \n",
      "dtypes: float64(1), int64(1), object(11)\n",
      "memory usage: 145.7+ KB\n"
     ]
    },
    {
     "data": {
      "text/plain": [
       "None"
      ]
     },
     "metadata": {},
     "output_type": "display_data"
    }
   ],
   "source": [
    "print(f\"We have {len(dist):,.0f} ressources in the {len(df)} datasets.\")\n",
    "print()\n",
    "display(dist.info())"
   ]
  },
  {
   "cell_type": "markdown",
   "metadata": {},
   "source": [
    "### Properties"
   ]
  },
  {
   "cell_type": "code",
   "execution_count": 59,
   "metadata": {},
   "outputs": [
    {
     "name": "stdout",
     "output_type": "stream",
     "text": [
      "The distributions contain the following properties:\n",
      "\n",
      "1 of 2 mandatory properties.\n",
      "['license']\n",
      "1 missing: ['accessURL']\n",
      "\n",
      "5 of 8 recommended properties.\n",
      "['description', 'format', 'title', 'modified', 'issued']\n",
      "3 missing: ['availability', 'rights', 'temporalResolution']\n",
      "\n",
      "4 of 12 optional properties.\n",
      "['byteSize', 'identifier', 'language', 'mediaType']\n",
      "8 missing: ['accessService', 'checksum', 'coverage', 'page', 'downloadURL', 'image', 'conformsTo', 'packageFormat']\n",
      "\n",
      "3 additional properties: ['accessUrl', 'downloadUrl', 'ktzhDistId']\n"
     ]
    }
   ],
   "source": [
    "# Extract the various requirements for each property.\n",
    "\n",
    "mandatory = dcat_dist[dcat_dist.requirement == \"M\"].uri.tolist()\n",
    "recommended = dcat_dist[dcat_dist.requirement == \"R\"].uri.tolist()\n",
    "optional = dcat_dist[dcat_dist.requirement == \"O\"].uri.tolist()\n",
    "\n",
    "print(\"The distributions contain the following properties:\\n\")\n",
    "\n",
    "for name, cols in zip(\n",
    "    [\"mandatory\", \"recommended\", \"optional\"],\n",
    "    [mandatory, recommended, optional],\n",
    "):\n",
    "    present = [x for x in cols if x in dist.columns]\n",
    "    missing = [x for x in cols if x not in dist.columns]\n",
    "    missing_len = len(missing)\n",
    "    if missing == []:\n",
    "        missing = \"\"\n",
    "        print(\n",
    "            f\"{len(cols) - missing_len} of {len(cols)} {name} properties.\\n{present}\\n{missing_len} missing.\"\n",
    "        )\n",
    "    else:\n",
    "        print(\n",
    "            f\"{len(cols) - missing_len} of {len(cols)} {name} properties.\\n{present}\\n{missing_len} missing: {missing}\"\n",
    "        )\n",
    "    print()\n",
    "\n",
    "additional = [x for x in dist.columns if x not in dcat_dist.uri.tolist()]\n",
    "print(f\"{len(additional)} additional properties: {additional}\")"
   ]
  },
  {
   "cell_type": "code",
   "execution_count": 60,
   "metadata": {},
   "outputs": [],
   "source": [
    "# Fix DCAT erroneous casing of properties.\n",
    "dcat_dist.replace(\"accessURL\", \"accessUrl\", inplace=True)\n",
    "dcat_dist.replace(\"downloadURL\", \"downloadUrl\", inplace=True)"
   ]
  },
  {
   "cell_type": "markdown",
   "metadata": {},
   "source": [
    "### Missing values"
   ]
  },
  {
   "cell_type": "code",
   "execution_count": 61,
   "metadata": {},
   "outputs": [
    {
     "name": "stdout",
     "output_type": "stream",
     "text": [
      "Missing Mandatory properties:\n",
      "None\n",
      "\n",
      "Missing in Recommended:\n",
      "property       missing_count\n",
      "-----------  ---------------\n",
      "description              925\n",
      "\n",
      "Missing in Optional:\n",
      "property      missing_count\n",
      "----------  ---------------\n",
      "byteSize                 84\n",
      "language                 66\n",
      "\n",
      "Missing in Additional:\n",
      "property       missing_count\n",
      "-----------  ---------------\n",
      "downloadUrl               27\n",
      "\n"
     ]
    }
   ],
   "source": [
    "# Extract the various requirements for each property that are actually present in the dataset.\n",
    "present_mandatory = [x for x in mandatory if x in dist.columns]\n",
    "present_recommended = [x for x in recommended if x in dist.columns]\n",
    "present_optional = [x for x in optional if x in dist.columns]\n",
    "\n",
    "# Check for missing values in the dataset according to the requirements.\n",
    "for name, cols in zip(\n",
    "    [\"Mandatory\", \"Recommended\", \"Optional\", \"Additional\"],\n",
    "    [present_mandatory, present_recommended, present_optional, additional],\n",
    "):\n",
    "    missing = [(x, dist[x].isna().sum()) for x in cols if dist[x].isna().sum() > 0]\n",
    "    if missing == []:\n",
    "        print(f\"Missing {name} properties:\\nNone\")\n",
    "        print()\n",
    "    else:\n",
    "        tmp = pd.DataFrame(missing, columns=[\"property\", \"missing_count\"]).sort_values(\n",
    "            \"missing_count\", ascending=False\n",
    "        )\n",
    "        print(f\"Missing in {name}:\")\n",
    "        print(tabulate(tmp, headers=\"keys\", showindex=False))\n",
    "        print()"
   ]
  },
  {
   "cell_type": "code",
   "execution_count": 62,
   "metadata": {},
   "outputs": [],
   "source": [
    "for col in dist.columns:\n",
    "    missing = dist[col].isna()\n",
    "    if missing.sum() > 0:\n",
    "        # Add issues to the list.\n",
    "        issues.extend(\n",
    "            [\n",
    "                (\n",
    "                    x,\n",
    "                    f\"Missing value for property distribution > {col}\",\n",
    "                    \"Missing values\",\n",
    "                )\n",
    "                for x in dist[dist[col].isna()].identifier\n",
    "            ]\n",
    "        )"
   ]
  },
  {
   "cell_type": "markdown",
   "metadata": {},
   "source": [
    "### Duplicates"
   ]
  },
  {
   "cell_type": "code",
   "execution_count": 63,
   "metadata": {},
   "outputs": [],
   "source": [
    "assert len(dist.drop_duplicates()) == len(dist)"
   ]
  },
  {
   "cell_type": "markdown",
   "metadata": {},
   "source": [
    "### Examine properties"
   ]
  },
  {
   "cell_type": "markdown",
   "metadata": {},
   "source": [
    "#### `title` and `description`"
   ]
  },
  {
   "cell_type": "code",
   "execution_count": 64,
   "metadata": {},
   "outputs": [
    {
     "name": "stdout",
     "output_type": "stream",
     "text": [
      "619 of 796 datasets have the dataset title as the ressources title\n",
      "13 of 796 datasets have the dataset description as the ressources description.\n"
     ]
    }
   ],
   "source": [
    "tmp = pd.merge(df, dist, on=\"identifier\", how=\"inner\")\n",
    "tmp = tmp[tmp.title_x == tmp.title_y]\n",
    "print(\n",
    "    f\"{tmp.identifier.nunique()} of {len(df)} datasets have the dataset title as the ressources title\"\n",
    ")\n",
    "\n",
    "# Add issues to the list.\n",
    "issues.extend(\n",
    "    [\n",
    "        (x, f\"Dataset title is identical with ressource title\", \"Text issue\")\n",
    "        for x in tmp.identifier\n",
    "    ]\n",
    ")\n",
    "\n",
    "tmp = pd.merge(df, dist, on=\"identifier\", how=\"inner\")\n",
    "tmp = tmp[tmp.description_x == tmp.description_y]\n",
    "print(\n",
    "    f\"{tmp.identifier.nunique()} of {len(df)} datasets have the dataset description as the ressources description.\"\n",
    ")\n",
    "\n",
    "# Add issues to the list.\n",
    "issues.extend(\n",
    "    [\n",
    "        (\n",
    "            x,\n",
    "            f\"Dataset description is identical with ressource description\",\n",
    "            \"Text issue\",\n",
    "        )\n",
    "        for x in tmp.identifier\n",
    "    ]\n",
    ")"
   ]
  },
  {
   "cell_type": "code",
   "execution_count": 65,
   "metadata": {},
   "outputs": [],
   "source": [
    "empties = dist[dist.description.isin([\"NA\", \"keine\", \"null\", \"\"])]\n",
    "if len(empties) > 0:\n",
    "    print(f\"{len(empties)} distributions have empty descriptions.\")\n",
    "    display(empties[[\"title\", \"description\"]])\n",
    "\n",
    "    # Add issues to the list.\n",
    "    issues.extend(\n",
    "        [\n",
    "            (\n",
    "                x,\n",
    "                f\"Hidden null in distribution > description\",\n",
    "                \"Text issue\",\n",
    "            )\n",
    "            for x in empties.identifier\n",
    "        ]\n",
    "    )"
   ]
  },
  {
   "cell_type": "code",
   "execution_count": 66,
   "metadata": {},
   "outputs": [],
   "source": [
    "# TODO: Check for HTML or XML tags in descriptions.\n",
    "# tmp = dist.dropna(subset=[\"description\"])\n",
    "# tmp[tmp.description.str.contains(\"<|>\")].description.values"
   ]
  },
  {
   "cell_type": "markdown",
   "metadata": {},
   "source": [
    "Descriptions contain meta information about ressources rather than a description about the content itself."
   ]
  },
  {
   "cell_type": "code",
   "execution_count": 67,
   "metadata": {},
   "outputs": [
    {
     "data": {
      "text/plain": [
       "description\n",
       "Informationen zum Datensatz siehe abgelegte Datensatzbeschreibung                                                                                                                                                      21\n",
       "Um die Stabilität unserer Server nicht zu gefährden, bitten wir die Konsumenten auf eine Direktverlinkung zu verzichten und stattdessen das File in regelmässigen Abständen auf den eigenen Server herunterzuladen.    17\n",
       "Anzahl erhaltener Stimmen pro Liste und Gebiet                                                                                                                                                                         10\n",
       "Anzahl erhaltener Stimmen pro Partei und Gebiet. Die Zuteilung der Listen zu einer Partei erfolgt gemäss der Ressource \"Zuordnungstabelle Listen – Parteien\" dieses Datasets.                                          10\n",
       "Ausgenommen sind die Datensätze, die von der Geoinformation des Kantons Zürich auf opendata.swiss verwaltet werden.                                                                                                    10\n",
       "Die Geodaten stehen in den Formaten Shapefile, GeoPackage und GeoJSON zur Verfügung.                                                                                                                                    8\n",
       "Informationen zum Datensatz siehe Datensatzbeschrieb                                                                                                                                                                    6\n",
       "Eine vollständige Dokumentation ist in der Ressource \"Dokumentation Daten\" zu finden.                                                                                                                                   5\n",
       "Wichtigste Ergebnisse der Sozialhilfestatistik                                                                                                                                                                          5\n",
       "Resultate der Betreutenbefragung aller teilnehmenden Institutionen                                                                                                                                                      4\n",
       "Name: count, dtype: int64"
      ]
     },
     "metadata": {},
     "output_type": "display_data"
    }
   ],
   "source": [
    "display(\n",
    "    dist[dist.description.duplicated(keep=False)].description.value_counts().head(10)\n",
    ")"
   ]
  },
  {
   "cell_type": "markdown",
   "metadata": {},
   "source": [
    "#### `accessUrl` and `downloadUrl`"
   ]
  },
  {
   "cell_type": "code",
   "execution_count": 68,
   "metadata": {},
   "outputs": [
    {
     "name": "stdout",
     "output_type": "stream",
     "text": [
      "27 distributions have no downloadUrl.\n"
     ]
    },
    {
     "data": {
      "text/html": [
       "<div>\n",
       "<style scoped>\n",
       "    .dataframe tbody tr th:only-of-type {\n",
       "        vertical-align: middle;\n",
       "    }\n",
       "\n",
       "    .dataframe tbody tr th {\n",
       "        vertical-align: top;\n",
       "    }\n",
       "\n",
       "    .dataframe thead th {\n",
       "        text-align: right;\n",
       "    }\n",
       "</style>\n",
       "<table border=\"1\" class=\"dataframe\">\n",
       "  <thead>\n",
       "    <tr style=\"text-align: right;\">\n",
       "      <th></th>\n",
       "      <th>title</th>\n",
       "      <th>downloadUrl</th>\n",
       "    </tr>\n",
       "  </thead>\n",
       "  <tbody>\n",
       "    <tr>\n",
       "      <th>367</th>\n",
       "      <td>SRU-Schnittstelle - Archivinformationssystem d...</td>\n",
       "      <td>None</td>\n",
       "    </tr>\n",
       "    <tr>\n",
       "      <th>368</th>\n",
       "      <td>Suchmaske - Archivinformationssystem des Staat...</td>\n",
       "      <td>None</td>\n",
       "    </tr>\n",
       "    <tr>\n",
       "      <th>514</th>\n",
       "      <td>Kantonale Leerwohnungsziffer seit 1984</td>\n",
       "      <td>None</td>\n",
       "    </tr>\n",
       "    <tr>\n",
       "      <th>565</th>\n",
       "      <td>Echtzeit Verkehrszähldaten MIV im Kanton Zürich</td>\n",
       "      <td>None</td>\n",
       "    </tr>\n",
       "    <tr>\n",
       "      <th>754</th>\n",
       "      <td>Mitglieder des Kantonsrates des Kantons Zürich</td>\n",
       "      <td>None</td>\n",
       "    </tr>\n",
       "    <tr>\n",
       "      <th>755</th>\n",
       "      <td>Fraktionen im Gever des Kantonsrates des Kanto...</td>\n",
       "      <td>None</td>\n",
       "    </tr>\n",
       "    <tr>\n",
       "      <th>756</th>\n",
       "      <td>Beispielabfrage: Sitzungs- und Geschäftsdokume...</td>\n",
       "      <td>None</td>\n",
       "    </tr>\n",
       "    <tr>\n",
       "      <th>757</th>\n",
       "      <td>Sitzungen (Agenda) des Kantonsrates des Kanton...</td>\n",
       "      <td>None</td>\n",
       "    </tr>\n",
       "    <tr>\n",
       "      <th>758</th>\n",
       "      <td>Geschäfte des Kantonsrates des Kantons Zürich</td>\n",
       "      <td>None</td>\n",
       "    </tr>\n",
       "    <tr>\n",
       "      <th>759</th>\n",
       "      <td>Beispielabfrage: Fraktionsmitglieder des Kanto...</td>\n",
       "      <td>None</td>\n",
       "    </tr>\n",
       "    <tr>\n",
       "      <th>760</th>\n",
       "      <td>Parteien im Gever des Kantonsrates des Kantons...</td>\n",
       "      <td>None</td>\n",
       "    </tr>\n",
       "    <tr>\n",
       "      <th>761</th>\n",
       "      <td>Wahlkreise im Gever des Kantonsrates des Kanto...</td>\n",
       "      <td>None</td>\n",
       "    </tr>\n",
       "    <tr>\n",
       "      <th>762</th>\n",
       "      <td>Kommissionen des Kantonsrates des Kantons Zürich</td>\n",
       "      <td>None</td>\n",
       "    </tr>\n",
       "    <tr>\n",
       "      <th>763</th>\n",
       "      <td>Kommissionsmitglieder des Kantonsrates des Kan...</td>\n",
       "      <td>None</td>\n",
       "    </tr>\n",
       "    <tr>\n",
       "      <th>764</th>\n",
       "      <td>Direktionen und Organe im Gever des Kantonsrat...</td>\n",
       "      <td>None</td>\n",
       "    </tr>\n",
       "    <tr>\n",
       "      <th>765</th>\n",
       "      <td>Geschäftsarten des Kantonsrates des Kantons Zü...</td>\n",
       "      <td>None</td>\n",
       "    </tr>\n",
       "    <tr>\n",
       "      <th>766</th>\n",
       "      <td>Gremientypen im Gever des Kantonsrates des Kan...</td>\n",
       "      <td>None</td>\n",
       "    </tr>\n",
       "    <tr>\n",
       "      <th>767</th>\n",
       "      <td>Kantonsratsversand des Kantonsrates des Kanton...</td>\n",
       "      <td>None</td>\n",
       "    </tr>\n",
       "    <tr>\n",
       "      <th>768</th>\n",
       "      <td>Medienmitteilungen des Kantonsrates des Kanton...</td>\n",
       "      <td>None</td>\n",
       "    </tr>\n",
       "    <tr>\n",
       "      <th>769</th>\n",
       "      <td>Beispielabfrage: Fraktionsdetails des Kantonsr...</td>\n",
       "      <td>None</td>\n",
       "    </tr>\n",
       "    <tr>\n",
       "      <th>770</th>\n",
       "      <td>Kulturförderung der Stadt Uster - ein Überblick</td>\n",
       "      <td>None</td>\n",
       "    </tr>\n",
       "    <tr>\n",
       "      <th>784</th>\n",
       "      <td>Karte aller Standorte von Quartierkästen der S...</td>\n",
       "      <td>None</td>\n",
       "    </tr>\n",
       "    <tr>\n",
       "      <th>806</th>\n",
       "      <td>Leitlinien des Kantons Zürich für einfach nutz...</td>\n",
       "      <td>None</td>\n",
       "    </tr>\n",
       "    <tr>\n",
       "      <th>1306</th>\n",
       "      <td>Bestand im Handelsregister eingetragener Recht...</td>\n",
       "      <td>None</td>\n",
       "    </tr>\n",
       "    <tr>\n",
       "      <th>1340</th>\n",
       "      <td>Aktuelle Entscheide von öffentlichem Interesse</td>\n",
       "      <td>None</td>\n",
       "    </tr>\n",
       "    <tr>\n",
       "      <th>1341</th>\n",
       "      <td>Aktuelle Leitentscheide</td>\n",
       "      <td>None</td>\n",
       "    </tr>\n",
       "    <tr>\n",
       "      <th>1411</th>\n",
       "      <td>API-Endpoint für Datensätze im Metadatenkatalo...</td>\n",
       "      <td>None</td>\n",
       "    </tr>\n",
       "  </tbody>\n",
       "</table>\n",
       "</div>"
      ],
      "text/plain": [
       "                                                  title downloadUrl\n",
       "367   SRU-Schnittstelle - Archivinformationssystem d...        None\n",
       "368   Suchmaske - Archivinformationssystem des Staat...        None\n",
       "514              Kantonale Leerwohnungsziffer seit 1984        None\n",
       "565     Echtzeit Verkehrszähldaten MIV im Kanton Zürich        None\n",
       "754      Mitglieder des Kantonsrates des Kantons Zürich        None\n",
       "755   Fraktionen im Gever des Kantonsrates des Kanto...        None\n",
       "756   Beispielabfrage: Sitzungs- und Geschäftsdokume...        None\n",
       "757   Sitzungen (Agenda) des Kantonsrates des Kanton...        None\n",
       "758       Geschäfte des Kantonsrates des Kantons Zürich        None\n",
       "759   Beispielabfrage: Fraktionsmitglieder des Kanto...        None\n",
       "760   Parteien im Gever des Kantonsrates des Kantons...        None\n",
       "761   Wahlkreise im Gever des Kantonsrates des Kanto...        None\n",
       "762    Kommissionen des Kantonsrates des Kantons Zürich        None\n",
       "763   Kommissionsmitglieder des Kantonsrates des Kan...        None\n",
       "764   Direktionen und Organe im Gever des Kantonsrat...        None\n",
       "765   Geschäftsarten des Kantonsrates des Kantons Zü...        None\n",
       "766   Gremientypen im Gever des Kantonsrates des Kan...        None\n",
       "767   Kantonsratsversand des Kantonsrates des Kanton...        None\n",
       "768   Medienmitteilungen des Kantonsrates des Kanton...        None\n",
       "769   Beispielabfrage: Fraktionsdetails des Kantonsr...        None\n",
       "770     Kulturförderung der Stadt Uster - ein Überblick        None\n",
       "784   Karte aller Standorte von Quartierkästen der S...        None\n",
       "806   Leitlinien des Kantons Zürich für einfach nutz...        None\n",
       "1306  Bestand im Handelsregister eingetragener Recht...        None\n",
       "1340     Aktuelle Entscheide von öffentlichem Interesse        None\n",
       "1341                            Aktuelle Leitentscheide        None\n",
       "1411  API-Endpoint für Datensätze im Metadatenkatalo...        None"
      ]
     },
     "metadata": {},
     "output_type": "display_data"
    }
   ],
   "source": [
    "for property in [\"accessUrl\", \"downloadUrl\"]:\n",
    "    missing = dist[dist[property].isna()]\n",
    "    if len(missing) > 0:\n",
    "        print(f\"{len(missing)} distributions have no {property}.\")\n",
    "        display(missing[[\"title\", property]])"
   ]
  },
  {
   "cell_type": "code",
   "execution_count": 69,
   "metadata": {},
   "outputs": [
    {
     "name": "stdout",
     "output_type": "stream",
     "text": [
      "27 datasets have different access and download URLs.\n"
     ]
    },
    {
     "data": {
      "text/html": [
       "<div>\n",
       "<style scoped>\n",
       "    .dataframe tbody tr th:only-of-type {\n",
       "        vertical-align: middle;\n",
       "    }\n",
       "\n",
       "    .dataframe tbody tr th {\n",
       "        vertical-align: top;\n",
       "    }\n",
       "\n",
       "    .dataframe thead th {\n",
       "        text-align: right;\n",
       "    }\n",
       "</style>\n",
       "<table border=\"1\" class=\"dataframe\">\n",
       "  <thead>\n",
       "    <tr style=\"text-align: right;\">\n",
       "      <th></th>\n",
       "      <th>title</th>\n",
       "      <th>accessUrl</th>\n",
       "      <th>downloadUrl</th>\n",
       "    </tr>\n",
       "  </thead>\n",
       "  <tbody>\n",
       "    <tr>\n",
       "      <th>367</th>\n",
       "      <td>SRU-Schnittstelle - Archivinformationssystem d...</td>\n",
       "      <td>https://suche.staatsarchiv.djiktzh.ch/SRU/?ope...</td>\n",
       "      <td>None</td>\n",
       "    </tr>\n",
       "    <tr>\n",
       "      <th>368</th>\n",
       "      <td>Suchmaske - Archivinformationssystem des Staat...</td>\n",
       "      <td>https://suche.staatsarchiv.djiktzh.ch</td>\n",
       "      <td>None</td>\n",
       "    </tr>\n",
       "    <tr>\n",
       "      <th>514</th>\n",
       "      <td>Kantonale Leerwohnungsziffer seit 1984</td>\n",
       "      <td>https://www.zh.ch/de/politik-staat/gemeinden/g...</td>\n",
       "      <td>None</td>\n",
       "    </tr>\n",
       "    <tr>\n",
       "      <th>565</th>\n",
       "      <td>Echtzeit Verkehrszähldaten MIV im Kanton Zürich</td>\n",
       "      <td>https://vdp.zh.ch/openapi</td>\n",
       "      <td>None</td>\n",
       "    </tr>\n",
       "    <tr>\n",
       "      <th>754</th>\n",
       "      <td>Mitglieder des Kantonsrates des Kantons Zürich</td>\n",
       "      <td>https://parlzhcdws.cmicloud.ch/parlzh2/cdws/In...</td>\n",
       "      <td>None</td>\n",
       "    </tr>\n",
       "    <tr>\n",
       "      <th>755</th>\n",
       "      <td>Fraktionen im Gever des Kantonsrates des Kanto...</td>\n",
       "      <td>https://parlzhcdws.cmicloud.ch/parlzh2/cdws/In...</td>\n",
       "      <td>None</td>\n",
       "    </tr>\n",
       "    <tr>\n",
       "      <th>756</th>\n",
       "      <td>Beispielabfrage: Sitzungs- und Geschäftsdokume...</td>\n",
       "      <td>https://parlzhcdws.cmicloud.ch/parlzh5/cdws/Fi...</td>\n",
       "      <td>None</td>\n",
       "    </tr>\n",
       "    <tr>\n",
       "      <th>757</th>\n",
       "      <td>Sitzungen (Agenda) des Kantonsrates des Kanton...</td>\n",
       "      <td>https://parlzhcdws.cmicloud.ch/parlzh3/cdws/In...</td>\n",
       "      <td>None</td>\n",
       "    </tr>\n",
       "    <tr>\n",
       "      <th>758</th>\n",
       "      <td>Geschäfte des Kantonsrates des Kantons Zürich</td>\n",
       "      <td>https://parlzhcdws.cmicloud.ch/parlzh5/cdws/In...</td>\n",
       "      <td>None</td>\n",
       "    </tr>\n",
       "    <tr>\n",
       "      <th>759</th>\n",
       "      <td>Beispielabfrage: Fraktionsmitglieder des Kanto...</td>\n",
       "      <td>https://parlzhcdws.cmicloud.ch/parlzh2/cdws/In...</td>\n",
       "      <td>None</td>\n",
       "    </tr>\n",
       "    <tr>\n",
       "      <th>760</th>\n",
       "      <td>Parteien im Gever des Kantonsrates des Kantons...</td>\n",
       "      <td>https://parlzhcdws.cmicloud.ch/parlzh2/cdws/In...</td>\n",
       "      <td>None</td>\n",
       "    </tr>\n",
       "    <tr>\n",
       "      <th>761</th>\n",
       "      <td>Wahlkreise im Gever des Kantonsrates des Kanto...</td>\n",
       "      <td>https://parlzhcdws.cmicloud.ch/parlzh2/cdws/In...</td>\n",
       "      <td>None</td>\n",
       "    </tr>\n",
       "    <tr>\n",
       "      <th>762</th>\n",
       "      <td>Kommissionen des Kantonsrates des Kantons Zürich</td>\n",
       "      <td>https://parlzhcdws.cmicloud.ch/parlzh2/cdws/In...</td>\n",
       "      <td>None</td>\n",
       "    </tr>\n",
       "    <tr>\n",
       "      <th>763</th>\n",
       "      <td>Kommissionsmitglieder des Kantonsrates des Kan...</td>\n",
       "      <td>https://parlzhcdws.cmicloud.ch/parlzh2/cdws/In...</td>\n",
       "      <td>None</td>\n",
       "    </tr>\n",
       "    <tr>\n",
       "      <th>764</th>\n",
       "      <td>Direktionen und Organe im Gever des Kantonsrat...</td>\n",
       "      <td>https://parlzhcdws.cmicloud.ch/parlzh5/cdws/In...</td>\n",
       "      <td>None</td>\n",
       "    </tr>\n",
       "    <tr>\n",
       "      <th>765</th>\n",
       "      <td>Geschäftsarten des Kantonsrates des Kantons Zü...</td>\n",
       "      <td>https://parlzhcdws.cmicloud.ch/parlzh5/cdws/In...</td>\n",
       "      <td>None</td>\n",
       "    </tr>\n",
       "    <tr>\n",
       "      <th>766</th>\n",
       "      <td>Gremientypen im Gever des Kantonsrates des Kan...</td>\n",
       "      <td>https://parlzhcdws.cmicloud.ch/parlzh3/cdws/In...</td>\n",
       "      <td>None</td>\n",
       "    </tr>\n",
       "    <tr>\n",
       "      <th>767</th>\n",
       "      <td>Kantonsratsversand des Kantonsrates des Kanton...</td>\n",
       "      <td>https://parlzhcdws.cmicloud.ch/parlzh1/cdws/In...</td>\n",
       "      <td>None</td>\n",
       "    </tr>\n",
       "    <tr>\n",
       "      <th>768</th>\n",
       "      <td>Medienmitteilungen des Kantonsrates des Kanton...</td>\n",
       "      <td>https://parlzhcdws.cmicloud.ch/parlzh5/cdws/In...</td>\n",
       "      <td>None</td>\n",
       "    </tr>\n",
       "    <tr>\n",
       "      <th>769</th>\n",
       "      <td>Beispielabfrage: Fraktionsdetails des Kantonsr...</td>\n",
       "      <td>https://parlzhcdws.cmicloud.ch/parlzh2/cdws/In...</td>\n",
       "      <td>None</td>\n",
       "    </tr>\n",
       "    <tr>\n",
       "      <th>770</th>\n",
       "      <td>Kulturförderung der Stadt Uster - ein Überblick</td>\n",
       "      <td>https://uster.shinyapps.io/kulturfoerderung/</td>\n",
       "      <td>None</td>\n",
       "    </tr>\n",
       "    <tr>\n",
       "      <th>784</th>\n",
       "      <td>Karte aller Standorte von Quartierkästen der S...</td>\n",
       "      <td>https://GesellschaftStadtUster.github.io/quart...</td>\n",
       "      <td>None</td>\n",
       "    </tr>\n",
       "    <tr>\n",
       "      <th>806</th>\n",
       "      <td>Leitlinien des Kantons Zürich für einfach nutz...</td>\n",
       "      <td>https://github.com/openZH/mdd-ogd-handbook/blo...</td>\n",
       "      <td>None</td>\n",
       "    </tr>\n",
       "    <tr>\n",
       "      <th>1306</th>\n",
       "      <td>Bestand im Handelsregister eingetragener Recht...</td>\n",
       "      <td>https://s.zazuko.com/d8NfGR</td>\n",
       "      <td>None</td>\n",
       "    </tr>\n",
       "    <tr>\n",
       "      <th>1340</th>\n",
       "      <td>Aktuelle Entscheide von öffentlichem Interesse</td>\n",
       "      <td>https://www.baurekursgericht-zh.ch/export/rss/...</td>\n",
       "      <td>None</td>\n",
       "    </tr>\n",
       "    <tr>\n",
       "      <th>1341</th>\n",
       "      <td>Aktuelle Leitentscheide</td>\n",
       "      <td>https://www.baurekursgericht-zh.ch/export/rss/...</td>\n",
       "      <td>None</td>\n",
       "    </tr>\n",
       "    <tr>\n",
       "      <th>1411</th>\n",
       "      <td>API-Endpoint für Datensätze im Metadatenkatalo...</td>\n",
       "      <td>https://www.web.statistik.zh.ch/ogd/daten/zhwe...</td>\n",
       "      <td>None</td>\n",
       "    </tr>\n",
       "  </tbody>\n",
       "</table>\n",
       "</div>"
      ],
      "text/plain": [
       "                                                  title  \\\n",
       "367   SRU-Schnittstelle - Archivinformationssystem d...   \n",
       "368   Suchmaske - Archivinformationssystem des Staat...   \n",
       "514              Kantonale Leerwohnungsziffer seit 1984   \n",
       "565     Echtzeit Verkehrszähldaten MIV im Kanton Zürich   \n",
       "754      Mitglieder des Kantonsrates des Kantons Zürich   \n",
       "755   Fraktionen im Gever des Kantonsrates des Kanto...   \n",
       "756   Beispielabfrage: Sitzungs- und Geschäftsdokume...   \n",
       "757   Sitzungen (Agenda) des Kantonsrates des Kanton...   \n",
       "758       Geschäfte des Kantonsrates des Kantons Zürich   \n",
       "759   Beispielabfrage: Fraktionsmitglieder des Kanto...   \n",
       "760   Parteien im Gever des Kantonsrates des Kantons...   \n",
       "761   Wahlkreise im Gever des Kantonsrates des Kanto...   \n",
       "762    Kommissionen des Kantonsrates des Kantons Zürich   \n",
       "763   Kommissionsmitglieder des Kantonsrates des Kan...   \n",
       "764   Direktionen und Organe im Gever des Kantonsrat...   \n",
       "765   Geschäftsarten des Kantonsrates des Kantons Zü...   \n",
       "766   Gremientypen im Gever des Kantonsrates des Kan...   \n",
       "767   Kantonsratsversand des Kantonsrates des Kanton...   \n",
       "768   Medienmitteilungen des Kantonsrates des Kanton...   \n",
       "769   Beispielabfrage: Fraktionsdetails des Kantonsr...   \n",
       "770     Kulturförderung der Stadt Uster - ein Überblick   \n",
       "784   Karte aller Standorte von Quartierkästen der S...   \n",
       "806   Leitlinien des Kantons Zürich für einfach nutz...   \n",
       "1306  Bestand im Handelsregister eingetragener Recht...   \n",
       "1340     Aktuelle Entscheide von öffentlichem Interesse   \n",
       "1341                            Aktuelle Leitentscheide   \n",
       "1411  API-Endpoint für Datensätze im Metadatenkatalo...   \n",
       "\n",
       "                                              accessUrl downloadUrl  \n",
       "367   https://suche.staatsarchiv.djiktzh.ch/SRU/?ope...        None  \n",
       "368               https://suche.staatsarchiv.djiktzh.ch        None  \n",
       "514   https://www.zh.ch/de/politik-staat/gemeinden/g...        None  \n",
       "565                           https://vdp.zh.ch/openapi        None  \n",
       "754   https://parlzhcdws.cmicloud.ch/parlzh2/cdws/In...        None  \n",
       "755   https://parlzhcdws.cmicloud.ch/parlzh2/cdws/In...        None  \n",
       "756   https://parlzhcdws.cmicloud.ch/parlzh5/cdws/Fi...        None  \n",
       "757   https://parlzhcdws.cmicloud.ch/parlzh3/cdws/In...        None  \n",
       "758   https://parlzhcdws.cmicloud.ch/parlzh5/cdws/In...        None  \n",
       "759   https://parlzhcdws.cmicloud.ch/parlzh2/cdws/In...        None  \n",
       "760   https://parlzhcdws.cmicloud.ch/parlzh2/cdws/In...        None  \n",
       "761   https://parlzhcdws.cmicloud.ch/parlzh2/cdws/In...        None  \n",
       "762   https://parlzhcdws.cmicloud.ch/parlzh2/cdws/In...        None  \n",
       "763   https://parlzhcdws.cmicloud.ch/parlzh2/cdws/In...        None  \n",
       "764   https://parlzhcdws.cmicloud.ch/parlzh5/cdws/In...        None  \n",
       "765   https://parlzhcdws.cmicloud.ch/parlzh5/cdws/In...        None  \n",
       "766   https://parlzhcdws.cmicloud.ch/parlzh3/cdws/In...        None  \n",
       "767   https://parlzhcdws.cmicloud.ch/parlzh1/cdws/In...        None  \n",
       "768   https://parlzhcdws.cmicloud.ch/parlzh5/cdws/In...        None  \n",
       "769   https://parlzhcdws.cmicloud.ch/parlzh2/cdws/In...        None  \n",
       "770        https://uster.shinyapps.io/kulturfoerderung/        None  \n",
       "784   https://GesellschaftStadtUster.github.io/quart...        None  \n",
       "806   https://github.com/openZH/mdd-ogd-handbook/blo...        None  \n",
       "1306                        https://s.zazuko.com/d8NfGR        None  \n",
       "1340  https://www.baurekursgericht-zh.ch/export/rss/...        None  \n",
       "1341  https://www.baurekursgericht-zh.ch/export/rss/...        None  \n",
       "1411  https://www.web.statistik.zh.ch/ogd/daten/zhwe...        None  "
      ]
     },
     "metadata": {},
     "output_type": "display_data"
    }
   ],
   "source": [
    "tmp = dist[dist.accessUrl != dist.downloadUrl][[\"title\", \"accessUrl\", \"downloadUrl\"]]\n",
    "if len(tmp) > 0:\n",
    "    print(f\"{len(tmp)} datasets have different access and download URLs.\")\n",
    "    display(tmp)"
   ]
  },
  {
   "cell_type": "code",
   "execution_count": 70,
   "metadata": {},
   "outputs": [
    {
     "data": {
      "text/plain": [
       "accessUrl\n",
       "                                                                        1431\n",
       "http://www.wahlen.zh.ch/kommunal/kommunale_resultate_2021_11_28.json       1\n",
       "http://www.wahlen.zh.ch/kommunal/kommunale_resultate_2022_02_13.json       1\n",
       "Name: count, dtype: int64"
      ]
     },
     "metadata": {},
     "output_type": "display_data"
    },
    {
     "data": {
      "text/plain": [
       "accessUrl\n",
       "https    1431\n",
       "http        2\n",
       "Name: count, dtype: int64"
      ]
     },
     "metadata": {},
     "output_type": "display_data"
    },
    {
     "data": {
      "text/plain": [
       "downloadUrl\n",
       "                                                                        1404\n",
       "http://www.wahlen.zh.ch/kommunal/kommunale_resultate_2021_11_28.json       1\n",
       "http://www.wahlen.zh.ch/kommunal/kommunale_resultate_2022_02_13.json       1\n",
       "Name: count, dtype: int64"
      ]
     },
     "metadata": {},
     "output_type": "display_data"
    },
    {
     "data": {
      "text/plain": [
       "downloadUrl\n",
       "https    1404\n",
       "http        2\n",
       "Name: count, dtype: int64"
      ]
     },
     "metadata": {},
     "output_type": "display_data"
    }
   ],
   "source": [
    "display(dist.accessUrl.apply(lambda x: x.split(\"https://\")[0]).value_counts())\n",
    "display(dist.accessUrl.apply(lambda x: x.split(\"://\")[0]).value_counts())\n",
    "\n",
    "display(\n",
    "    dist.downloadUrl.dropna().apply(lambda x: x.split(\"https://\")[0]).value_counts()\n",
    ")\n",
    "display(dist.downloadUrl.dropna().apply(lambda x: x.split(\"://\")[0]).value_counts())"
   ]
  },
  {
   "cell_type": "markdown",
   "metadata": {},
   "source": [
    "#### `format`"
   ]
  },
  {
   "cell_type": "code",
   "execution_count": 71,
   "metadata": {},
   "outputs": [
    {
     "name": "stdout",
     "output_type": "stream",
     "text": [
      "Percentages of distribution types\n",
      "\n",
      "53.66% CSV files\n",
      "30.08% PDF files\n"
     ]
    },
    {
     "data": {
      "text/plain": [
       "format\n",
       "CSV       53.663643\n",
       "PDF       30.076762\n",
       "XLSX       8.164689\n",
       "JSON       1.814375\n",
       "XML        1.674808\n",
       "XLS        1.605024\n",
       "ZIP        1.116539\n",
       "TXT        0.837404\n",
       "HTML       0.767620\n",
       "JSONLD     0.139567\n",
       "DOCX       0.069784\n",
       "JS         0.069784\n",
       "Name: proportion, dtype: float64"
      ]
     },
     "metadata": {},
     "output_type": "display_data"
    },
    {
     "name": "stdout",
     "output_type": "stream",
     "text": [
      "\n"
     ]
    }
   ],
   "source": [
    "print(\"Percentages of distribution types\\n\")\n",
    "dist_perc = dist.format.value_counts(normalize=True) * 100\n",
    "print(f\"{dist_perc['CSV']:.2f}% CSV files\")\n",
    "print(f\"{dist_perc['PDF']:.2f}% PDF files\")\n",
    "display(dist_perc)\n",
    "print()"
   ]
  },
  {
   "cell_type": "markdown",
   "metadata": {},
   "source": [
    "#### `mediaType`"
   ]
  },
  {
   "cell_type": "code",
   "execution_count": 72,
   "metadata": {},
   "outputs": [
    {
     "name": "stdout",
     "output_type": "stream",
     "text": [
      "Distribution of media types\n"
     ]
    },
    {
     "data": {
      "text/plain": [
       "mediaType\n",
       "text/csv                                                                   737\n",
       "application/pdf                                                            431\n",
       "application/vnd.openxmlformats-officedocument.spreadsheetml.sheet          117\n",
       "application/vnd.ms-excel                                                    55\n",
       "application/json                                                            26\n",
       "application/xml                                                             24\n",
       "application/x-zip-compressed                                                16\n",
       "text/plain                                                                  12\n",
       "text/html                                                                   11\n",
       "application/ld+json                                                          2\n",
       "application/vnd.openxmlformats-officedocument.wordprocessingml.document      1\n",
       "text/javascript                                                              1\n",
       "Name: count, dtype: int64"
      ]
     },
     "metadata": {},
     "output_type": "display_data"
    }
   ],
   "source": [
    "print(\"Distribution of media types\")\n",
    "display(dist.mediaType.value_counts())"
   ]
  },
  {
   "cell_type": "code",
   "execution_count": 73,
   "metadata": {},
   "outputs": [
    {
     "name": "stdout",
     "output_type": "stream",
     "text": [
      "mediaType of CSV ressources:\n"
     ]
    },
    {
     "data": {
      "text/plain": [
       "mediaType\n",
       "text/csv                    737\n",
       "application/vnd.ms-excel     32\n",
       "Name: count, dtype: int64"
      ]
     },
     "metadata": {},
     "output_type": "display_data"
    }
   ],
   "source": [
    "print(\"mediaType of CSV ressources:\")\n",
    "display(dist[dist.format == \"CSV\"].mediaType.value_counts())"
   ]
  },
  {
   "cell_type": "markdown",
   "metadata": {},
   "source": [
    "#### `byteSize`"
   ]
  },
  {
   "cell_type": "code",
   "execution_count": 74,
   "metadata": {},
   "outputs": [
    {
     "name": "stdout",
     "output_type": "stream",
     "text": [
      "84 ressources have no byteSize.\n"
     ]
    },
    {
     "data": {
      "text/html": [
       "<div>\n",
       "<style scoped>\n",
       "    .dataframe tbody tr th:only-of-type {\n",
       "        vertical-align: middle;\n",
       "    }\n",
       "\n",
       "    .dataframe tbody tr th {\n",
       "        vertical-align: top;\n",
       "    }\n",
       "\n",
       "    .dataframe thead th {\n",
       "        text-align: right;\n",
       "    }\n",
       "</style>\n",
       "<table border=\"1\" class=\"dataframe\">\n",
       "  <thead>\n",
       "    <tr style=\"text-align: right;\">\n",
       "      <th></th>\n",
       "      <th>description</th>\n",
       "      <th>mediaType</th>\n",
       "      <th>byteSize</th>\n",
       "    </tr>\n",
       "  </thead>\n",
       "  <tbody>\n",
       "    <tr>\n",
       "      <th>110</th>\n",
       "      <td>Eidgenössische Vorlagen: 1. Volksinitiative «J...</td>\n",
       "      <td>application/json</td>\n",
       "      <td>NaN</td>\n",
       "    </tr>\n",
       "    <tr>\n",
       "      <th>111</th>\n",
       "      <td>Eidgenössische Vorlagen: 1. Volksinitiative fü...</td>\n",
       "      <td>application/json</td>\n",
       "      <td>NaN</td>\n",
       "    </tr>\n",
       "    <tr>\n",
       "      <th>178</th>\n",
       "      <td>Die Daten werden in Form von Linked Open Data ...</td>\n",
       "      <td>application/ld+json</td>\n",
       "      <td>NaN</td>\n",
       "    </tr>\n",
       "    <tr>\n",
       "      <th>188</th>\n",
       "      <td>Ausgenommen sind die Datensätze, die von der G...</td>\n",
       "      <td>text/csv</td>\n",
       "      <td>NaN</td>\n",
       "    </tr>\n",
       "    <tr>\n",
       "      <th>216</th>\n",
       "      <td>Ausgenommen sind die Datensätze, die von der G...</td>\n",
       "      <td>text/csv</td>\n",
       "      <td>NaN</td>\n",
       "    </tr>\n",
       "    <tr>\n",
       "      <th>217</th>\n",
       "      <td>Ausgenommen sind die Datensätze, die von der G...</td>\n",
       "      <td>text/csv</td>\n",
       "      <td>NaN</td>\n",
       "    </tr>\n",
       "    <tr>\n",
       "      <th>218</th>\n",
       "      <td>Ausgenommen sind die Datensätze, die von der G...</td>\n",
       "      <td>text/csv</td>\n",
       "      <td>NaN</td>\n",
       "    </tr>\n",
       "    <tr>\n",
       "      <th>367</th>\n",
       "      <td>Spezifikation der XML-Schnittstelle: http://ww...</td>\n",
       "      <td>application/xml</td>\n",
       "      <td>NaN</td>\n",
       "    </tr>\n",
       "    <tr>\n",
       "      <th>368</th>\n",
       "      <td>None</td>\n",
       "      <td>text/html</td>\n",
       "      <td>NaN</td>\n",
       "    </tr>\n",
       "    <tr>\n",
       "      <th>565</th>\n",
       "      <td>Der Datensatz umfasst Einzelfahrzeugdaten in E...</td>\n",
       "      <td>application/json</td>\n",
       "      <td>NaN</td>\n",
       "    </tr>\n",
       "  </tbody>\n",
       "</table>\n",
       "</div>"
      ],
      "text/plain": [
       "                                           description            mediaType  \\\n",
       "110  Eidgenössische Vorlagen: 1. Volksinitiative «J...     application/json   \n",
       "111  Eidgenössische Vorlagen: 1. Volksinitiative fü...     application/json   \n",
       "178  Die Daten werden in Form von Linked Open Data ...  application/ld+json   \n",
       "188  Ausgenommen sind die Datensätze, die von der G...             text/csv   \n",
       "216  Ausgenommen sind die Datensätze, die von der G...             text/csv   \n",
       "217  Ausgenommen sind die Datensätze, die von der G...             text/csv   \n",
       "218  Ausgenommen sind die Datensätze, die von der G...             text/csv   \n",
       "367  Spezifikation der XML-Schnittstelle: http://ww...      application/xml   \n",
       "368                                               None            text/html   \n",
       "565  Der Datensatz umfasst Einzelfahrzeugdaten in E...     application/json   \n",
       "\n",
       "     byteSize  \n",
       "110       NaN  \n",
       "111       NaN  \n",
       "178       NaN  \n",
       "188       NaN  \n",
       "216       NaN  \n",
       "217       NaN  \n",
       "218       NaN  \n",
       "367       NaN  \n",
       "368       NaN  \n",
       "565       NaN  "
      ]
     },
     "metadata": {},
     "output_type": "display_data"
    },
    {
     "name": "stdout",
     "output_type": "stream",
     "text": [
      "2 ressources have a byteSize of 0.\n"
     ]
    },
    {
     "data": {
      "text/html": [
       "<div>\n",
       "<style scoped>\n",
       "    .dataframe tbody tr th:only-of-type {\n",
       "        vertical-align: middle;\n",
       "    }\n",
       "\n",
       "    .dataframe tbody tr th {\n",
       "        vertical-align: top;\n",
       "    }\n",
       "\n",
       "    .dataframe thead th {\n",
       "        text-align: right;\n",
       "    }\n",
       "</style>\n",
       "<table border=\"1\" class=\"dataframe\">\n",
       "  <thead>\n",
       "    <tr style=\"text-align: right;\">\n",
       "      <th></th>\n",
       "      <th>description</th>\n",
       "      <th>mediaType</th>\n",
       "      <th>byteSize</th>\n",
       "    </tr>\n",
       "  </thead>\n",
       "  <tbody>\n",
       "    <tr>\n",
       "      <th>1343</th>\n",
       "      <td>None</td>\n",
       "      <td>text/csv</td>\n",
       "      <td>0.0</td>\n",
       "    </tr>\n",
       "    <tr>\n",
       "      <th>1364</th>\n",
       "      <td>None</td>\n",
       "      <td>text/csv</td>\n",
       "      <td>0.0</td>\n",
       "    </tr>\n",
       "  </tbody>\n",
       "</table>\n",
       "</div>"
      ],
      "text/plain": [
       "     description mediaType  byteSize\n",
       "1343        None  text/csv       0.0\n",
       "1364        None  text/csv       0.0"
      ]
     },
     "metadata": {},
     "output_type": "display_data"
    }
   ],
   "source": [
    "no_bytesize = dist.byteSize.isna()\n",
    "print(f\"{no_bytesize.sum()} ressources have no byteSize.\")\n",
    "display(dist[dist.byteSize.isna()][[\"description\", \"mediaType\", \"byteSize\"]].head(10))\n",
    "\n",
    "print(f\"{sum(dist.byteSize == 0)} ressources have a byteSize of 0.\")\n",
    "display(dist[dist.byteSize == 0][[\"description\", \"mediaType\", \"byteSize\"]].head(10))"
   ]
  },
  {
   "cell_type": "code",
   "execution_count": 75,
   "metadata": {},
   "outputs": [
    {
     "name": "stdout",
     "output_type": "stream",
     "text": [
      "5.69 GB total size of all ressources according to byteSize.\n"
     ]
    },
    {
     "data": {
      "text/plain": [
       "count          1,349\n",
       "mean       4,530,665\n",
       "std       19,623,925\n",
       "min                0\n",
       "25%           90,781\n",
       "50%          303,979\n",
       "75%          969,342\n",
       "max      279,127,397\n",
       "Name: byteSize, dtype: object"
      ]
     },
     "execution_count": 75,
     "metadata": {},
     "output_type": "execute_result"
    }
   ],
   "source": [
    "size_total = dist.byteSize.dropna().sum() / 1024 / 1024 / 1024\n",
    "print(f\"{size_total:.2f} GB total size of all ressources according to byteSize.\")\n",
    "dist.byteSize.dropna().astype(float).describe().apply(lambda x: f\"{x:,.0f}\")"
   ]
  },
  {
   "cell_type": "code",
   "execution_count": 76,
   "metadata": {},
   "outputs": [
    {
     "data": {
      "text/plain": [
       "byteSize\n",
       "0.0            2\n",
       "1.0            1\n",
       "5.0            1\n",
       "179.0          1\n",
       "198.0          1\n",
       "              ..\n",
       "194592131.0    1\n",
       "202424352.0    1\n",
       "244841173.0    1\n",
       "277922114.0    1\n",
       "279127397.0    1\n",
       "Name: count, Length: 1338, dtype: int64"
      ]
     },
     "metadata": {},
     "output_type": "display_data"
    }
   ],
   "source": [
    "display(dist.byteSize.value_counts().sort_index())\n",
    "dist[dist.byteSize == 0][[\"accessUrl\", \"title\"]].values\n",
    "\n",
    "# Add issues to the list.\n",
    "issues.extend(\n",
    "    [\n",
    "        (\n",
    "            x,\n",
    "            f\"Value of 0 in distribution > byteSize\",\n",
    "            \"Likely erroneous value\",\n",
    "        )\n",
    "        for x in dist[dist.byteSize == 0].identifier\n",
    "    ]\n",
    ")"
   ]
  },
  {
   "cell_type": "code",
   "execution_count": 77,
   "metadata": {},
   "outputs": [
    {
     "data": {
      "image/png": "[encoded data removed]",
      "text/plain": [
       "<Figure size 700x500 with 1 Axes>"
      ]
     },
     "metadata": {
      "image/png": {
       "height": 457,
       "width": 606
      }
     },
     "output_type": "display_data"
    }
   ],
   "source": [
    "fig, ax = plt.subplots(figsize=FIGSIZE)\n",
    "dist.byteSize.dropna().plot(\n",
    "    kind=\"hist\", bins=200, title=\"Distribution of byteSize, log-scaled\", ax=ax\n",
    ")\n",
    "ax.set_yscale(\"log\")\n",
    "plt.show()"
   ]
  },
  {
   "cell_type": "code",
   "execution_count": 78,
   "metadata": {},
   "outputs": [
    {
     "data": {
      "text/plain": [
       "array([['Kantonale Leerwohnungsziffer seit 1984',\n",
       "        'https://www.zh.ch/de/politik-staat/gemeinden/gemeindeportraet.html?tab=indikatoren&jahr=0&indikatoren=381,373&gebietstyp=8&gebiet=195'],\n",
       "       ['COVID_19 PCR-Tests und besorgniserregende Virusmutationen im Kanton Zürich',\n",
       "        'https://raw.githubusercontent.com/openZH/covid_19/master/fallzahlen_kanton_zh/COVID19_VOC_Kanton_ZH.csv']],\n",
       "      dtype=object)"
      ]
     },
     "execution_count": 78,
     "metadata": {},
     "output_type": "execute_result"
    }
   ],
   "source": [
    "dist[(dist.byteSize > 0) & (dist.byteSize < 10)][[\"title\", \"accessUrl\"]].values"
   ]
  },
  {
   "cell_type": "markdown",
   "metadata": {},
   "source": [
    "#### `language`\n",
    "\n",
    "- The property MUST be set if the distribution is language-dependent, or if it is given in some of the languages German, French, Italian and English but not in all four languages.\n",
    "- CV to be used: [VOCAB-EU-LANGUAGE](https://publications.europa.eu/resource/authority/language)"
   ]
  },
  {
   "cell_type": "code",
   "execution_count": 79,
   "metadata": {},
   "outputs": [
    {
     "name": "stdout",
     "output_type": "stream",
     "text": [
      "66 ressources have no value for language.\n"
     ]
    },
    {
     "data": {
      "text/html": [
       "<div>\n",
       "<style scoped>\n",
       "    .dataframe tbody tr th:only-of-type {\n",
       "        vertical-align: middle;\n",
       "    }\n",
       "\n",
       "    .dataframe tbody tr th {\n",
       "        vertical-align: top;\n",
       "    }\n",
       "\n",
       "    .dataframe thead th {\n",
       "        text-align: right;\n",
       "    }\n",
       "</style>\n",
       "<table border=\"1\" class=\"dataframe\">\n",
       "  <thead>\n",
       "    <tr style=\"text-align: right;\">\n",
       "      <th></th>\n",
       "      <th>title</th>\n",
       "      <th>language</th>\n",
       "    </tr>\n",
       "  </thead>\n",
       "  <tbody>\n",
       "    <tr>\n",
       "      <th>601</th>\n",
       "      <td>Kandidierende 1. Wahlgang Ersatzwahl Regierung...</td>\n",
       "      <td>None</td>\n",
       "    </tr>\n",
       "    <tr>\n",
       "      <th>773</th>\n",
       "      <td>Steuererträge nach Vermögensklassen</td>\n",
       "      <td>None</td>\n",
       "    </tr>\n",
       "    <tr>\n",
       "      <th>289</th>\n",
       "      <td>LoRa-Sensor-Messwerte 2022/06</td>\n",
       "      <td>None</td>\n",
       "    </tr>\n",
       "    <tr>\n",
       "      <th>292</th>\n",
       "      <td>LoRa-Sensor-Messwerte 2022/09</td>\n",
       "      <td>None</td>\n",
       "    </tr>\n",
       "    <tr>\n",
       "      <th>604</th>\n",
       "      <td>Resultate 1. Wahlgang Gesamterneuerungswahl Re...</td>\n",
       "      <td>None</td>\n",
       "    </tr>\n",
       "    <tr>\n",
       "      <th>672</th>\n",
       "      <td>Benchmarking Praktika 2022 Gesamtbericht</td>\n",
       "      <td>None</td>\n",
       "    </tr>\n",
       "    <tr>\n",
       "      <th>1233</th>\n",
       "      <td>Questionaire_Benchmark_Persuisse_francais</td>\n",
       "      <td>None</td>\n",
       "    </tr>\n",
       "    <tr>\n",
       "      <th>602</th>\n",
       "      <td>Resultate 1. Wahlgang Gesamterneuerungswahl Re...</td>\n",
       "      <td>None</td>\n",
       "    </tr>\n",
       "    <tr>\n",
       "      <th>291</th>\n",
       "      <td>LoRa-Sensor-Messwerte 2022/08</td>\n",
       "      <td>None</td>\n",
       "    </tr>\n",
       "    <tr>\n",
       "      <th>96</th>\n",
       "      <td>Bezügerquote der bedarfsabh. Sozialleistungen [%]</td>\n",
       "      <td>None</td>\n",
       "    </tr>\n",
       "    <tr>\n",
       "      <th>429</th>\n",
       "      <td>Bevölkerung nach Konfession 2018</td>\n",
       "      <td>None</td>\n",
       "    </tr>\n",
       "    <tr>\n",
       "      <th>804</th>\n",
       "      <td>Personenwagenbestand im Kanton Zürich</td>\n",
       "      <td>None</td>\n",
       "    </tr>\n",
       "    <tr>\n",
       "      <th>1263</th>\n",
       "      <td>Datenbeschreibung Luftschadstoffe im Kanton Zü...</td>\n",
       "      <td>None</td>\n",
       "    </tr>\n",
       "    <tr>\n",
       "      <th>840</th>\n",
       "      <td>OGD FA Q1/2023 - Protokoll</td>\n",
       "      <td>None</td>\n",
       "    </tr>\n",
       "    <tr>\n",
       "      <th>290</th>\n",
       "      <td>LoRa-Sensor-Messwerte 2022/07</td>\n",
       "      <td>None</td>\n",
       "    </tr>\n",
       "    <tr>\n",
       "      <th>609</th>\n",
       "      <td>Kandidierende 1. Wahlgang Gesamterneuerungswah...</td>\n",
       "      <td>None</td>\n",
       "    </tr>\n",
       "    <tr>\n",
       "      <th>285</th>\n",
       "      <td>LoRa-Sensor-Messwerte 2022/02</td>\n",
       "      <td>None</td>\n",
       "    </tr>\n",
       "    <tr>\n",
       "      <th>603</th>\n",
       "      <td>Kandidierende 1. Wahlgang Gesamterneuerungswah...</td>\n",
       "      <td>None</td>\n",
       "    </tr>\n",
       "    <tr>\n",
       "      <th>1373</th>\n",
       "      <td>Fahrzeugbestand und Emissionen</td>\n",
       "      <td>None</td>\n",
       "    </tr>\n",
       "    <tr>\n",
       "      <th>1232</th>\n",
       "      <td>Fragebogen_Benchmarking_Persuisse_deutsch</td>\n",
       "      <td>None</td>\n",
       "    </tr>\n",
       "  </tbody>\n",
       "</table>\n",
       "</div>"
      ],
      "text/plain": [
       "                                                  title language\n",
       "601   Kandidierende 1. Wahlgang Ersatzwahl Regierung...     None\n",
       "773                 Steuererträge nach Vermögensklassen     None\n",
       "289                       LoRa-Sensor-Messwerte 2022/06     None\n",
       "292                       LoRa-Sensor-Messwerte 2022/09     None\n",
       "604   Resultate 1. Wahlgang Gesamterneuerungswahl Re...     None\n",
       "672           Benchmarking Praktika 2022 Gesamtbericht      None\n",
       "1233          Questionaire_Benchmark_Persuisse_francais     None\n",
       "602   Resultate 1. Wahlgang Gesamterneuerungswahl Re...     None\n",
       "291                       LoRa-Sensor-Messwerte 2022/08     None\n",
       "96    Bezügerquote der bedarfsabh. Sozialleistungen [%]     None\n",
       "429                    Bevölkerung nach Konfession 2018     None\n",
       "804               Personenwagenbestand im Kanton Zürich     None\n",
       "1263  Datenbeschreibung Luftschadstoffe im Kanton Zü...     None\n",
       "840                          OGD FA Q1/2023 - Protokoll     None\n",
       "290                       LoRa-Sensor-Messwerte 2022/07     None\n",
       "609   Kandidierende 1. Wahlgang Gesamterneuerungswah...     None\n",
       "285                       LoRa-Sensor-Messwerte 2022/02     None\n",
       "603   Kandidierende 1. Wahlgang Gesamterneuerungswah...     None\n",
       "1373                     Fahrzeugbestand und Emissionen     None\n",
       "1232          Fragebogen_Benchmarking_Persuisse_deutsch     None"
      ]
     },
     "metadata": {},
     "output_type": "display_data"
    }
   ],
   "source": [
    "missing = dist.language.isna()\n",
    "print(f\"{missing.sum()} ressources have no value for language.\")\n",
    "display(dist[missing][[\"title\", \"language\"]].sample(20))"
   ]
  },
  {
   "cell_type": "code",
   "execution_count": 80,
   "metadata": {},
   "outputs": [
    {
     "data": {
      "text/plain": [
       "language\n",
       "de    1367\n",
       "Name: count, dtype: int64"
      ]
     },
     "execution_count": 80,
     "metadata": {},
     "output_type": "execute_result"
    }
   ],
   "source": [
    "dist.language.value_counts()"
   ]
  },
  {
   "cell_type": "markdown",
   "metadata": {},
   "source": [
    "# Create dataframe of issues and export as an Excel file"
   ]
  },
  {
   "cell_type": "code",
   "execution_count": 87,
   "metadata": {},
   "outputs": [
    {
     "name": "stdout",
     "output_type": "stream",
     "text": [
      "4946 issues found in 785 datasets.\n"
     ]
    },
    {
     "data": {
      "text/plain": [
       "category\n",
       "Missing values            3995\n",
       "Text issue                 741\n",
       "Duplicate                  148\n",
       "Hidden nulls                57\n",
       "Date issue                   2\n",
       "Likely erroneous value       2\n",
       "Landing page issue           1\n",
       "Name: count, dtype: int64"
      ]
     },
     "metadata": {},
     "output_type": "display_data"
    }
   ],
   "source": [
    "df_issues = pd.DataFrame(issues, columns=[\"identifier\", \"issue\", \"category\"])\n",
    "\n",
    "print(f\"{len(df_issues)} issues found in {df_issues.identifier.nunique()} datasets.\")\n",
    "display(df_issues.category.value_counts())\n",
    "\n",
    "df_issues[\"link\"] = df_issues.identifier.apply(\n",
    "    lambda x: f\"{BASELINK_DATASHOP}{x}\"\n",
    ")\n",
    "timestamp = datetime.now().strftime(\"%Y%m%d\")\n",
    "\n",
    "df_issues[\"publisher\"] = df_issues.identifier.str.split(\"@\").str[1]\n",
    "cols = [\"identifier\", \"publisher\", \"issue\", \"category\", \"link\"]\n",
    "df_issues = df_issues[cols]\n",
    "\n",
    "df_issues.to_excel(f\"_results/metadata_issues_{timestamp}.xlsx\", index=False)"
   ]
  },
  {
   "cell_type": "markdown",
   "metadata": {},
   "source": [
    "::: {.content-hidden}\n",
    "# Check if all ressources are downloadable\n",
    ":::\n"
   ]
  },
  {
   "cell_type": "code",
   "execution_count": 82,
   "metadata": {},
   "outputs": [],
   "source": [
    "# errors = []\n",
    "\n",
    "# for name, data in tqdm(dist.iterrows()):\n",
    "#     try:\n",
    "#         res = requests.get(data.accessUrl)\n",
    "#         if res.status_code != 200:\n",
    "#             print(f\"Status code {res.status_code} for {data.accessUrl}\")\n",
    "#         else:\n",
    "#             filename = data.accessUrl.split(\"/\")[-1]\n",
    "#             # Set an appropriate path to store the files.\n",
    "#             with open(f\"_downloads/{name}_{filename}\", \"wb\") as f:\n",
    "#                 f.write(res.content)\n",
    "#     except Exception as e:\n",
    "#         print(f\"Error for {data.accessUrl}: {e}\")\n",
    "#         errors.append(data.accessUrl)"
   ]
  }
 ],
 "metadata": {
  "kernelspec": {
   "display_name": "standard",
   "language": "python",
   "name": "python3"
  },
  "language_info": {
   "codemirror_mode": {
    "name": "ipython",
    "version": 3
   },
   "file_extension": ".py",
   "mimetype": "text/x-python",
   "name": "python",
   "nbconvert_exporter": "python",
   "pygments_lexer": "ipython3",
   "version": "3.9.16"
  },
  "orig_nbformat": 4
 },
 "nbformat": 4,
 "nbformat_minor": 2
}
